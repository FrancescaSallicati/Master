{
 "cells": [
  {
   "cell_type": "markdown",
   "metadata": {},
   "source": [
    "# Homework 1: Getting started with Numpy and Matplotlib\n",
    "\n",
    "------------------------------------------------------\n",
    "*Machine Learning, Master in Big Data Analytics, 2017-2018*\n",
    "\n",
    "*Pablo M. Olmos olmos@tsc.uc3m.es*\n",
    "\n",
    "------------------------------------------------------"
   ]
  },
  {
   "cell_type": "code",
   "execution_count": 1,
   "metadata": {
    "collapsed": true
   },
   "outputs": [],
   "source": [
    "import numpy as np  \n",
    "import matplotlib.pyplot as plt\n",
    "\n",
    "%matplotlib inline \n",
    "np.set_printoptions(formatter={'float': lambda x: \"{0:0.3f}\".format(x)}) \n"
   ]
  },
  {
   "cell_type": "markdown",
   "metadata": {
    "collapsed": true
   },
   "source": [
    "** Question 1 (3 points)** Create a function to generate `Nsamples` samples of a 2-dimensional Gaussian distribution with mean [1.3, -0.5] and diagonal covariance metrix with diagonal [0.5, 2].\n",
    "\n",
    "Use a Scatter plot to show 150 samples in a two-dimensional space. \n",
    "\n",
    "For Nsamples = [5, 10, 50, 200, 500] compute the euclidean distance between the empirical mean and the true mean distribution. How does the difference scale with `Nsamples`?\n",
    "\n",
    "Repeat the experiment with the [Frobenius Norm](http://mathworld.wolfram.com/FrobeniusNorm.html) between the empirical covariance matrix and the true one.\n",
    "\n",
    "Note: review the function `numpy.linalg.norm()` [here](https://docs.scipy.org/doc/numpy/reference/generated/numpy.linalg.norm.html)"
   ]
  },
  {
   "cell_type": "code",
   "execution_count": 36,
   "metadata": {},
   "outputs": [
    {
     "name": "stdout",
     "output_type": "stream",
     "text": [
      "[[1.117 -0.708]\n",
      " [0.896 1.771]\n",
      " [0.649 1.569]\n",
      " [0.904 -2.505]\n",
      " [1.105 -0.619]\n",
      " [1.396 3.203]\n",
      " [1.552 0.919]\n",
      " [0.968 0.259]\n",
      " [1.526 0.482]\n",
      " [0.730 0.223]\n",
      " [2.040 1.148]\n",
      " [1.236 -1.143]\n",
      " [0.864 0.160]\n",
      " [0.299 -1.405]\n",
      " [0.955 1.732]\n",
      " [1.510 -0.401]\n",
      " [1.992 -1.546]\n",
      " [0.079 -0.764]\n",
      " [0.372 0.082]\n",
      " [-0.258 2.367]\n",
      " [2.352 -2.050]\n",
      " [1.565 0.139]\n",
      " [1.352 -0.501]\n",
      " [1.214 -0.814]\n",
      " [1.856 -2.936]\n",
      " [1.056 -0.985]\n",
      " [1.048 -2.349]\n",
      " [0.926 -0.194]\n",
      " [2.450 2.621]\n",
      " [1.908 -0.457]\n",
      " [1.622 -0.296]\n",
      " [1.397 -2.267]\n",
      " [2.682 -0.234]\n",
      " [0.326 -1.791]\n",
      " [1.849 -0.609]\n",
      " [1.657 -0.149]\n",
      " [0.273 1.060]\n",
      " [1.594 -1.124]\n",
      " [1.806 -0.401]\n",
      " [1.412 0.497]\n",
      " [2.293 1.964]\n",
      " [1.462 -2.443]\n",
      " [1.931 0.420]\n",
      " [2.669 -2.419]\n",
      " [0.876 -1.017]\n",
      " [1.950 -1.366]\n",
      " [1.556 0.878]\n",
      " [1.166 -0.478]\n",
      " [1.377 -1.180]\n",
      " [1.975 -1.579]\n",
      " [1.573 0.802]\n",
      " [1.013 -0.690]\n",
      " [0.338 -2.097]\n",
      " [1.698 0.995]\n",
      " [0.752 -0.844]\n",
      " [2.104 -0.702]\n",
      " [0.442 -2.161]\n",
      " [1.992 -0.968]\n",
      " [0.535 0.327]\n",
      " [1.394 -2.662]\n",
      " [1.494 -0.149]\n",
      " [1.484 -3.674]\n",
      " [2.481 1.485]\n",
      " [1.792 -0.862]\n",
      " [0.662 -0.425]\n",
      " [1.105 -1.766]\n",
      " [2.440 -0.269]\n",
      " [1.988 -3.403]\n",
      " [0.892 -2.262]\n",
      " [2.814 0.407]\n",
      " [0.996 -3.512]\n",
      " [1.585 0.950]\n",
      " [1.978 0.589]\n",
      " [1.211 -0.256]\n",
      " [2.038 -3.529]\n",
      " [2.060 0.559]\n",
      " [0.954 -0.971]\n",
      " [1.208 -0.421]\n",
      " [0.565 -0.907]\n",
      " [1.012 -0.858]\n",
      " [2.971 0.211]\n",
      " [1.463 -2.781]\n",
      " [0.622 1.861]\n",
      " [0.851 -1.066]\n",
      " [1.393 -0.789]\n",
      " [1.006 -1.839]\n",
      " [1.428 0.981]\n",
      " [1.102 -0.062]\n",
      " [1.737 -1.583]\n",
      " [1.592 -0.380]\n",
      " [1.656 0.733]\n",
      " [1.230 -0.937]\n",
      " [1.776 -0.646]\n",
      " [0.673 1.733]\n",
      " [2.018 -0.723]\n",
      " [1.607 -0.099]\n",
      " [0.845 1.638]\n",
      " [0.848 1.320]\n",
      " [1.590 1.487]\n",
      " [1.608 -4.309]\n",
      " [0.414 -0.803]\n",
      " [1.251 0.523]\n",
      " [2.993 -0.612]\n",
      " [1.276 2.008]\n",
      " [0.914 0.256]\n",
      " [1.371 -2.654]\n",
      " [2.166 -0.366]\n",
      " [2.121 -1.265]\n",
      " [1.800 -0.052]\n",
      " [1.876 -0.596]\n",
      " [0.969 -1.634]\n",
      " [0.955 0.582]\n",
      " [2.111 0.652]\n",
      " [0.493 1.262]\n",
      " [1.923 -0.038]\n",
      " [1.794 -1.162]\n",
      " [1.275 0.424]\n",
      " [1.562 -1.265]\n",
      " [2.201 0.185]\n",
      " [0.228 0.192]\n",
      " [2.274 0.535]\n",
      " [1.107 1.180]\n",
      " [1.341 0.690]\n",
      " [0.382 1.089]\n",
      " [0.221 0.117]\n",
      " [0.350 0.740]\n",
      " [1.200 -1.707]\n",
      " [1.843 0.766]\n",
      " [0.982 0.551]\n",
      " [1.407 -2.088]\n",
      " [1.516 -0.270]\n",
      " [0.225 -2.306]\n",
      " [0.475 1.899]\n",
      " [0.819 -1.477]\n",
      " [1.511 0.712]\n",
      " [1.308 -0.303]\n",
      " [1.713 -1.134]\n",
      " [1.033 0.994]\n",
      " [0.211 -1.588]\n",
      " [-0.425 0.848]\n",
      " [1.366 0.177]\n",
      " [1.209 -0.723]\n",
      " [0.572 0.346]\n",
      " [0.357 -0.461]\n",
      " [1.516 -1.626]\n",
      " [0.807 2.295]\n",
      " [0.725 1.676]\n",
      " [1.132 -2.889]\n",
      " [1.842 0.030]\n",
      " [0.621 1.100]]\n"
     ]
    }
   ],
   "source": [
    "def Nsamples(n):\n",
    "    x = np.random.multivariate_normal((1.3, -0.5),[[0.5, 0], [0, 2]],n)\n",
    "    return x\n",
    "\n",
    "s1 = Nsamples(150)\n",
    "\n",
    "print(s1)"
   ]
  },
  {
   "cell_type": "code",
   "execution_count": 37,
   "metadata": {},
   "outputs": [
    {
     "data": {
      "text/plain": [
       "<matplotlib.collections.PathCollection at 0x11188908>"
      ]
     },
     "execution_count": 37,
     "metadata": {},
     "output_type": "execute_result"
    },
    {
     "data": {
      "image/png": "[encoded data removed]",
      "text/plain": [
       "<matplotlib.figure.Figure at 0x10d4aa20>"
      ]
     },
     "metadata": {},
     "output_type": "display_data"
    }
   ],
   "source": [
    "import matplotlib.pyplot as plt\n",
    "#The following is required to print the plots inside the notebooks\n",
    "%matplotlib inline \n",
    "from scipy.stats import norm\n",
    "import matplotlib.pyplot as plt\n",
    "import pandas as pd\n",
    "\n",
    "plt.scatter(s1[:,0], s1[:,1])"
   ]
  },
  {
   "cell_type": "code",
   "execution_count": 82,
   "metadata": {},
   "outputs": [
    {
     "name": "stdout",
     "output_type": "stream",
     "text": [
      "For 5 samples the euclidean distance between the empirical mean and the true mean distribution is 1.2955131438\n",
      "For 10 samples the euclidean distance between the empirical mean and the true mean distribution is 1.36286852272\n",
      "For 50 samples the euclidean distance between the empirical mean and the true mean distribution is 1.28514226645\n",
      "For 200 samples the euclidean distance between the empirical mean and the true mean distribution is 1.27740933281\n",
      "For 500 samples the euclidean distance between the empirical mean and the true mean distribution is 1.27281967031\n"
     ]
    },
    {
     "data": {
      "image/png": "[encoded data removed]",
      "text/plain": [
       "<matplotlib.figure.Figure at 0xe96fbe0>"
      ]
     },
     "metadata": {},
     "output_type": "display_data"
    },
    {
     "data": {
      "text/plain": [
       "array([1.296, 1.363, 1.285, 1.277, 1.273])"
      ]
     },
     "execution_count": 82,
     "metadata": {},
     "output_type": "execute_result"
    }
   ],
   "source": [
    "mean=(1.3,-0.5)\n",
    "cov=[[0.5, 0], [0, 2]]\n",
    "def Euclidian(m,c):\n",
    "    e=np.zeros(5)\n",
    "    for i in range(0,5):\n",
    "        Ns=(5,10,50,200,500)\n",
    "        x=np.random.multivariate_normal(m,c,Ns[i])\n",
    "        e[i,]=np.linalg.norm(np.mean(x)-mean, ord=2)\n",
    "        print \"For {} samples the euclidean distance between the empirical mean and the true mean distribution is {}\".format(Ns[i],e[i])\n",
    "    plt.plot(Ns,e)\n",
    "    plt.show()\n",
    "    return e\n",
    "\n",
    "Euclidian(mean, cov)\n"
   ]
  },
  {
   "cell_type": "markdown",
   "metadata": {},
   "source": [
    "With Euclidian norm the distance between the empirical mean and the true mean distribution gets lower while increasing the number of samples, even though the change is very small."
   ]
  },
  {
   "cell_type": "code",
   "execution_count": 80,
   "metadata": {},
   "outputs": [
    {
     "name": "stdout",
     "output_type": "stream",
     "text": [
      "For 5 samples the frobenius distance between the empirical covariance matrix and the true one is 1.5334310248\n",
      "For 10 samples the frobenius distance between the empirical covariance matrix and the true one is 0.392098385532\n",
      "For 50 samples the frobenius distance between the empirical covariance matrix and the true one is 0.43736132206\n",
      "For 200 samples the frobenius distance between the empirical covariance matrix and the true one is 0.109036270717\n",
      "For 500 samples the frobenius distance between the empirical covariance matrix and the true one is 0.10484138326\n"
     ]
    },
    {
     "data": {
      "image/png": "[encoded data removed]",
      "text/plain": [
       "<matplotlib.figure.Figure at 0xec7a6a0>"
      ]
     },
     "metadata": {},
     "output_type": "display_data"
    },
    {
     "data": {
      "text/plain": [
       "array([1.533, 0.392, 0.437, 0.109, 0.105])"
      ]
     },
     "execution_count": 80,
     "metadata": {},
     "output_type": "execute_result"
    }
   ],
   "source": [
    "def Frobenius(m,c):\n",
    "    e=np.zeros(5)\n",
    "    for i in range(0,5):\n",
    "        Ns=(5,10,50,200,500)\n",
    "        x=np.random.multivariate_normal(m,c,Ns[i])\n",
    "        e[i,]=np.linalg.norm(np.cov(x.T)-cov)\n",
    "        print \"For {} samples the frobenius distance between the empirical covariance matrix and the true one is {}\".format(Ns[i],e[i])\n",
    "    plt.plot(Ns,e)\n",
    "    plt.show()\n",
    "    return e\n",
    "\n",
    "Frobenius(mean, cov)"
   ]
  },
  {
   "cell_type": "markdown",
   "metadata": {},
   "source": [
    "The distance between the empirical covariance matrix and the true covariance matrix using Frobenius norm is decreasing by scaling the sample size, however in this case the distances get steeper to 0 compared to the mean. "
   ]
  },
  {
   "cell_type": "markdown",
   "metadata": {},
   "source": [
    "** Question 2 (1 point)** Create a function to generate a [1,2]-dimensional matrix $A$ with random i.i.d. elements sampled from a uniform distribution in the set [-I,I], where I is an input argument.\n"
   ]
  },
  {
   "cell_type": "code",
   "execution_count": 96,
   "metadata": {},
   "outputs": [
    {
     "data": {
      "text/plain": [
       "array([[-2.157, -0.455]])"
      ]
     },
     "execution_count": 96,
     "metadata": {},
     "output_type": "execute_result"
    }
   ],
   "source": [
    "def MatrixA(a):\n",
    "    m1=np.random.uniform(-a,a, (1,2))\n",
    "    return m1\n",
    "\n",
    "MatrixA(3)"
   ]
  },
  {
   "cell_type": "markdown",
   "metadata": {},
   "source": [
    "** Question 3 (2 points)** Create a function to generate `Nsamples` from the following random variable\n",
    "\n",
    "$$ Y \\sim AX$$\n",
    "\n",
    "where $Y\\in\\mathbb{R}$, $A\\in\\mathbb{R}^{1\\times 2}$ is a random matrix with i.i.d. elements sampled from a uniform distribution in the range [-2,2] and $X\\in\\mathbb{R}^{[2,1]}$ distributed according to $\\mathcal{N}([1.3,-0.5],[[0.5, 0],[0,2]])$."
   ]
  },
  {
   "cell_type": "code",
   "execution_count": 90,
   "metadata": {
    "collapsed": true
   },
   "outputs": [],
   "source": [
    "def Nsamples2(m,c,n):\n",
    "    x=np.dot((np.random.uniform(-2,2,2)),(np.random.multivariate_normal(m,c,n).T))\n",
    "    return x\n"
   ]
  },
  {
   "cell_type": "code",
   "execution_count": 99,
   "metadata": {},
   "outputs": [
    {
     "data": {
      "text/plain": [
       "array([3.804, 1.693, 0.985, 3.746, 3.389, 0.705, -0.837, 5.354, 1.047,\n",
       "       -2.497, 3.912, -2.013, 1.526, 0.189, 1.084, 1.757, -1.950, 1.858,\n",
       "       -1.525, 1.763, -1.905, -0.844, 0.221, 2.875, -0.822, 2.428, 2.345,\n",
       "       0.893, 5.698, 5.636, 4.237, 4.493, 1.306, 3.514, 4.908, 0.632,\n",
       "       1.300, 2.936, -2.844, 2.245, 0.852, 2.189, -0.088, 2.855, -2.670,\n",
       "       0.030, 0.245, 1.388, 0.998, 1.882, -1.400, 0.110, -0.594, 1.151,\n",
       "       2.695, -0.005, 3.961, 3.042, 3.443, 2.519, 2.264, -0.080, 3.533,\n",
       "       1.353, 2.297, 3.575, 3.106, 3.590, 5.903, 5.196, 2.430, 0.645,\n",
       "       4.733, 2.413, 2.071, -3.113, 3.997, 1.465, 1.816, 0.535, 4.813,\n",
       "       4.095, 3.894, 2.968, 3.562, 3.259, 3.202, 2.262, 2.398, 3.589,\n",
       "       -0.320, 3.739, 1.133, -0.846, 2.101, 6.411, 0.642, 0.933, 2.518,\n",
       "       5.043, -0.136, 2.008, -1.157, -1.934, 0.174, 1.880, -1.350, -0.705,\n",
       "       2.652, 0.528, 0.332, 5.211, -1.374, 0.335, 2.317, -0.434, 4.308,\n",
       "       -2.548, 2.436, -0.316, 0.749, -1.782, 3.373, 0.318, -2.274, 0.899,\n",
       "       -0.372, 2.238, 0.820, 1.722, -1.220, 0.177, -0.603, 3.658, -0.771,\n",
       "       1.431, 4.739, 2.087, 2.532, 3.424, -0.215, 3.305, -0.580, -2.568,\n",
       "       -0.685, 2.700, 0.344, 1.582, 6.515, 3.556, 1.507, 2.694, 0.200,\n",
       "       3.818, 2.413, 5.480, 4.598, 1.733, -1.228, 3.977, 0.610, -0.413,\n",
       "       0.596, 1.926, 5.900, 3.801, 0.480, -1.977, 0.847, -2.012, 1.114,\n",
       "       3.877, 4.427, 1.401, 0.770, -0.808, -1.222, 0.271, -0.502, 1.902,\n",
       "       1.332, 1.542, 3.057, 1.453, -0.234, -0.231, -3.692, 1.403, 3.368,\n",
       "       0.318, 2.948, 1.791, 2.785, 1.162, -0.574, 1.031, 3.380, 3.331,\n",
       "       3.655, -1.144, 0.546, 0.708, 7.479, 1.080, 2.458, 0.797, 4.028,\n",
       "       3.960, -1.445, -0.134, 4.653, 3.815, -0.546, -0.762, -0.236, 6.916,\n",
       "       1.913, 0.851, 3.682, -1.927, -0.220, 4.690, 3.299, -0.283, 0.445,\n",
       "       -1.724, 1.696, 5.592, 3.261, 4.822, -2.807, -1.419, -0.833, 2.163,\n",
       "       -0.652, 0.810, 3.617, 1.963, 0.655, 2.684, 4.106, 5.050, -0.396,\n",
       "       1.686, 1.640, 3.257, 0.503, 0.734, -1.731, 2.889, 3.348, -1.097,\n",
       "       0.076, 3.133, 0.825, -0.185, 0.914, 1.260, 2.341, 1.307, -0.006,\n",
       "       5.440, 0.045, 1.021, 2.133, 4.858, 0.794, 2.725, 1.735, 2.367,\n",
       "       2.368, -1.446, 1.398, 6.559, 0.476, 2.481, 3.459, -1.700, 4.960,\n",
       "       1.200, 2.322, 3.937, -1.670, 1.852, 2.439, 0.951, 1.701, 0.209,\n",
       "       0.962, -2.149, 4.694, -0.021, -0.052, 1.940, 6.094, 2.086, 2.822,\n",
       "       3.428, 3.766, -1.102, 0.726, 3.588, 2.005, 2.094, -0.334, 0.962,\n",
       "       4.596, 4.159, -1.517, 2.246, 2.086, 2.935, 3.813, -4.401, 3.965,\n",
       "       -0.719, 4.482, -0.406, -4.096, 3.362, 1.167, 3.640, 1.063, 2.265,\n",
       "       -0.153, 0.799, -0.071, 3.468, 1.612, 2.378, 4.701, 3.413, -2.034,\n",
       "       5.308, 3.350, -1.663, 5.658, 1.098, -1.674, 2.574, -0.619, -0.998,\n",
       "       1.474, 0.177, -0.622, 4.755, 3.681, 3.581, 1.348, 3.315, 1.063,\n",
       "       0.134, 1.432, 1.211, 1.557, 0.323, 3.710, 1.648, -1.276, 0.448,\n",
       "       -0.416, 3.903, 2.145, 2.932, 3.156, 1.212, 4.126, -0.545, 0.433,\n",
       "       2.929, 3.892, 0.244, 0.227, 4.979, -0.648, -4.728, 6.389, 0.343,\n",
       "       4.814, 1.068, 4.740, 2.777, -0.424, 0.677, 5.030, -0.107, -1.199,\n",
       "       5.585, 1.045, 1.432, 1.500, 2.292, 4.503, 1.265, 1.161, -0.933,\n",
       "       2.907, 6.083, 3.725, 1.739, -1.427, -2.728, 0.549, -0.079, 4.482,\n",
       "       0.686, 2.521, -0.027, 1.767, 2.907, -1.024, 1.919, 1.268, 2.591,\n",
       "       1.385, 0.098, -0.098, 2.881, -2.032, 0.228, 2.693, -0.063, -0.570,\n",
       "       1.004, 3.105, 2.947, -1.960, 5.085, 1.377, 0.927, 3.973, 0.522,\n",
       "       1.658, 4.793, -0.650, 0.793, 4.632, 5.095, -0.825, 1.492, 0.028,\n",
       "       2.843, 0.284, 3.141, 0.769, 4.068, 2.619, -0.539, 1.627, 0.352,\n",
       "       -0.049, 1.174, 4.293, 2.646, 1.122, 4.943, 0.039, 3.129, -1.029,\n",
       "       2.333, 3.333, 0.543, 1.781, 1.543, 5.366, 2.796, 0.517, -0.868,\n",
       "       3.322, 1.326, 1.668, 1.328, -0.490, 1.085, 1.283, 3.553, 2.314,\n",
       "       -1.963, 0.545, 1.402, 4.882, 1.552, 2.401, 1.892, -0.269, -0.507,\n",
       "       1.315, 0.722, 4.446, 4.286, 5.931, 5.672, 3.785, 4.562, 1.613,\n",
       "       3.393, 4.662, 4.225, -0.599, 0.640])"
      ]
     },
     "execution_count": 99,
     "metadata": {},
     "output_type": "execute_result"
    }
   ],
   "source": [
    "sample=500\n",
    "mean=(1.3,-0.5)\n",
    "cov=[[0.5, 0], [0, 2]]\n",
    "\n",
    "Nsamples2(mean,cov,sample)\n"
   ]
  },
  {
   "cell_type": "markdown",
   "metadata": {},
   "source": [
    "** Question 4 (4 points)** For `Nsamples=500` plot the normalized histogram of y (number of samples in each bin divided by the total number of samples). In the same figure, plot the probability density function of a Gaussian distribution that has the empirical mean and variance computed from the samples of y. Do you think a Gaussian approximation is valid for the distribution of y?"
   ]
  },
  {
   "cell_type": "code",
   "execution_count": 100,
   "metadata": {},
   "outputs": [
    {
     "data": {
      "text/plain": [
       "[<matplotlib.lines.Line2D at 0xee4f438>]"
      ]
     },
     "execution_count": 100,
     "metadata": {},
     "output_type": "execute_result"
    },
    {
     "data": {
      "image/png": "[encoded data removed]",
      "text/plain": [
       "<matplotlib.figure.Figure at 0xee4fc50>"
      ]
     },
     "metadata": {},
     "output_type": "display_data"
    }
   ],
   "source": [
    "import matplotlib.mlab as mlab\n",
    "Samples=np.sort(Nsamples2(mean,cov,sample))\n",
    "plt.hist(Samples, normed=True)\n",
    "plt.plot(Samples, mlab.normpdf(Samples, np.mean(Samples), np.std(Samples)))"
   ]
  },
  {
   "cell_type": "markdown",
   "metadata": {},
   "source": [
    "We can notice that the observed distribution of $Y$ fits quite good the Gaussian distribution with its mean and variance as parameters, therefore it can be considered as a valid kernel."
   ]
  }
 ],
 "metadata": {
  "anaconda-cloud": {},
  "kernelspec": {
   "display_name": "Python 2",
   "language": "python",
   "name": "python2"
  },
  "language_info": {
   "codemirror_mode": {
    "name": "ipython",
    "version": 2
   },
   "file_extension": ".py",
   "mimetype": "text/x-python",
   "name": "python",
   "nbconvert_exporter": "python",
   "pygments_lexer": "ipython2",
   "version": "2.7.14"
  }
 },
 "nbformat": 4,
 "nbformat_minor": 1
}
