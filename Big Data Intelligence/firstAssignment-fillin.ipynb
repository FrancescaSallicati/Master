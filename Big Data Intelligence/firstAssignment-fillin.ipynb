{
 "cells": [
  {
   "cell_type": "markdown",
   "metadata": {},
   "source": [
    "# First assignment: feature extraction"
   ]
  },
  {
   "cell_type": "markdown",
   "metadata": {},
   "source": [
    "Directory **20news-18828** contains a list of subdirectories. Each one is a newsgroup. We can check the names of these subdirectories by using *os.listdir*. We can see there are 20 newsgroups and their names:"
   ]
  },
  {
   "cell_type": "code",
   "execution_count": 8,
   "metadata": {},
   "outputs": [
    {
     "name": "stdout",
     "output_type": "stream",
     "text": [
      "2\n",
      "['alt.atheism', 'comp.graphics']\n"
     ]
    }
   ],
   "source": [
    "import os\n",
    "\n",
    "# Prefix is a variable that contains the directory where each newsgroup is located\n",
    "# Notice that a double \\\\ has to be used when \\ is desired within a string\n",
    "prefix = \"C:\\\\Users\\\\fra12\\\\Desktop\\\\Francesca\\\\UC3M\\\\Big Data Intelligence\\\\20news-18828\\\\\"        \n",
    "directories = os.listdir(prefix)\n",
    "print(len(directories))\n",
    "print(directories)"
   ]
  },
  {
   "cell_type": "markdown",
   "metadata": {},
   "source": [
    "Inside each subdirectory, there are many files. Each file constains a message that was posted long time ago in that newsgroup. Let's see the names of the files that contain the first 5 messages, by using again *os.listdir*:"
   ]
  },
  {
   "cell_type": "code",
   "execution_count": 9,
   "metadata": {},
   "outputs": [
    {
     "name": "stdout",
     "output_type": "stream",
     "text": [
      "['49960', '51060', '51119', '51120', '51121']\n"
     ]
    }
   ],
   "source": [
    "fileNames = os.listdir(prefix+\"alt.atheism\")\n",
    "print(fileNames[:5])"
   ]
  },
  {
   "cell_type": "markdown",
   "metadata": {},
   "source": [
    "Now, let's see the contents of the first of those messages. This can be done by reading the first file and displaying it, like this:"
   ]
  },
  {
   "cell_type": "code",
   "execution_count": 10,
   "metadata": {},
   "outputs": [
    {
     "name": "stdout",
     "output_type": "stream",
     "text": [
      "The name of the file that contains the first message is: C:\\Users\\fra12\\Desktop\\Francesca\\UC3M\\Big Data Intelligence\\20news-18828\\alt.atheism\\49960\n",
      "================================\n",
      "From: mathew <mathew@mantis.co.uk>\n",
      "Subject: Alt.Atheism FAQ: Atheist Resources\n",
      "\n",
      "Archive-name: atheism/resources\n",
      "Alt-atheism-archive-name: resources\n",
      "Last-modified: 11 December 1992\n",
      "Version: 1.0\n",
      "\n",
      "                              Atheist Resources\n",
      "\n",
      "                      Addresses of Atheist Organizations\n",
      "\n",
      "                                     USA\n",
      "\n",
      "FREEDOM FROM RELIGION FOUNDATION\n",
      "\n",
      "Darwin fish bumper stickers and assorted other atheist paraphernalia are\n",
      "available from the Freedom From Religion Foundation in the US.\n",
      "\n",
      "Write to:  FFRF, P.O. Box 750, Madison, WI 53701.\n",
      "Telephone: (608) 256-8900\n",
      "\n",
      "EVOLUTION DESIGNS\n",
      "\n",
      "Evolution Designs sell the \"Darwin fish\".  It's a fish symbol, like the ones\n",
      "Christians stick on their cars, but with feet and the word \"Darwin\" written\n",
      "inside.  The deluxe moulded 3D plastic fish is $4.95 postpaid in the US.\n",
      "\n",
      "Write to:  Evolution Designs, 7119 Laurel Canyon #4, North Hollywood,\n",
      "           CA 91605.\n",
      "\n",
      "People in the San Francisco Bay area can get Darwin Fish from Lynn Gold --\n",
      "try mailing <figmo@netcom.com>.  For net people who go to Lynn directly, the\n",
      "price is $4.95 per fish.\n",
      "\n",
      "AMERICAN ATHEIST PRESS\n",
      "\n",
      "AAP publish various atheist books -- critiques of the Bible, lists of\n",
      "Biblical contradictions, and so on.  One such book is:\n",
      "\n",
      "\"The Bible Handbook\" by W.P. Ball and G.W. Foote.  American Atheist Press.\n",
      "372 pp.  ISBN 0-910309-26-4, 2nd edition, 1986.  Bible contradictions,\n",
      "absurdities, atrocities, immoralities... contains Ball, Foote: \"The Bible\n",
      "Contradicts Itself\", AAP.  Based on the King James version of the Bible.\n",
      "\n",
      "Write to:  American Atheist Press, P.O. Box 140195, Austin, TX 78714-0195.\n",
      "      or:  7215 Cameron Road, Austin, TX 78752-2973.\n",
      "Telephone: (512) 458-1244\n",
      "Fax:       (512) 467-9525\n",
      "\n",
      "PROMETHEUS BOOKS\n",
      "\n",
      "Sell books including Haught's \"Holy Horrors\" (see below).\n",
      "\n",
      "Write to:  700 East Amherst Street, Buffalo, New York 14215.\n",
      "Telephone: (716) 837-2475.\n",
      "\n",
      "An alternate address (which may be newer or older) is:\n",
      "Prometheus Books, 59 Glenn Drive, Buffalo, NY 14228-2197.\n",
      "\n",
      "AFRICAN-AMERICANS FOR HUMANISM\n",
      "\n",
      "An organization promoting black secular humanism and uncovering the history of\n",
      "black freethought.  They publish a quarterly newsletter, AAH EXAMINER.\n",
      "\n",
      "Write to:  Norm R. Allen, Jr., African Americans for Humanism, P.O. Box 664,\n",
      "           Buffalo, NY 14226.\n",
      "\n",
      "                                United Kingdom\n",
      "\n",
      "Rationalist Press Association          National Secular Society\n",
      "88 Islington High Street               702 Holloway Road\n",
      "London N1 8EW                          London N19 3NL\n",
      "071 226 7251                           071 272 1266\n",
      "\n",
      "British Humanist Association           South Place Ethical Society\n",
      "14 Lamb's Conduit Passage              Conway Hall\n",
      "London WC1R 4RH                        Red Lion Square\n",
      "071 430 0908                           London WC1R 4RL\n",
      "fax 071 430 1271                       071 831 7723\n",
      "\n",
      "The National Secular Society publish \"The Freethinker\", a monthly magazine\n",
      "founded in 1881.\n",
      "\n",
      "                                   Germany\n",
      "\n",
      "IBKA e.V.\n",
      "Internationaler Bund der Konfessionslosen und Atheisten\n",
      "Postfach 880, D-1000 Berlin 41. Germany.\n",
      "\n",
      "IBKA publish a journal:\n",
      "MIZ. (Materialien und Informationen zur Zeit. Politisches\n",
      "Journal der Konfessionslosesn und Atheisten. Hrsg. IBKA e.V.)\n",
      "MIZ-Vertrieb, Postfach 880, D-1000 Berlin 41. Germany.\n",
      "\n",
      "For atheist books, write to:\n",
      "\n",
      "IBDK, Internationaler B\"ucherdienst der Konfessionslosen\n",
      "Postfach 3005, D-3000 Hannover 1. Germany.\n",
      "Telephone: 0511/211216\n",
      "\n",
      "\n",
      "                               Books -- Fiction\n",
      "\n",
      "THOMAS M. DISCH\n",
      "\n",
      "\"The Santa Claus Compromise\"\n",
      "Short story.  The ultimate proof that Santa exists.  All characters and \n",
      "events are fictitious.  Any similarity to living or dead gods -- uh, well...\n",
      "\n",
      "WALTER M. MILLER, JR\n",
      "\n",
      "\"A Canticle for Leibowitz\"\n",
      "One gem in this post atomic doomsday novel is the monks who spent their lives\n",
      "copying blueprints from \"Saint Leibowitz\", filling the sheets of paper with\n",
      "ink and leaving white lines and letters.\n",
      "\n",
      "EDGAR PANGBORN\n",
      "\n",
      "\"Davy\"\n",
      "Post atomic doomsday novel set in clerical states.  The church, for example,\n",
      "forbids that anyone \"produce, describe or use any substance containing...\n",
      "atoms\". \n",
      "\n",
      "PHILIP K. DICK\n",
      "\n",
      "Philip K. Dick Dick wrote many philosophical and thought-provoking short \n",
      "stories and novels.  His stories are bizarre at times, but very approachable.\n",
      "He wrote mainly SF, but he wrote about people, truth and religion rather than\n",
      "technology.  Although he often believed that he had met some sort of God, he\n",
      "remained sceptical.  Amongst his novels, the following are of some relevance:\n",
      "\n",
      "\"Galactic Pot-Healer\"\n",
      "A fallible alien deity summons a group of Earth craftsmen and women to a\n",
      "remote planet to raise a giant cathedral from beneath the oceans.  When the\n",
      "deity begins to demand faith from the earthers, pot-healer Joe Fernwright is\n",
      "unable to comply.  A polished, ironic and amusing novel.\n",
      "\n",
      "\"A Maze of Death\"\n",
      "Noteworthy for its description of a technology-based religion.\n",
      "\n",
      "\"VALIS\"\n",
      "The schizophrenic hero searches for the hidden mysteries of Gnostic\n",
      "Christianity after reality is fired into his brain by a pink laser beam of\n",
      "unknown but possibly divine origin.  He is accompanied by his dogmatic and\n",
      "dismissively atheist friend and assorted other odd characters.\n",
      "\n",
      "\"The Divine Invasion\"\n",
      "God invades Earth by making a young woman pregnant as she returns from\n",
      "another star system.  Unfortunately she is terminally ill, and must be\n",
      "assisted by a dead man whose brain is wired to 24-hour easy listening music.\n",
      "\n",
      "MARGARET ATWOOD\n",
      "\n",
      "\"The Handmaid's Tale\"\n",
      "A story based on the premise that the US Congress is mysteriously\n",
      "assassinated, and fundamentalists quickly take charge of the nation to set it\n",
      "\"right\" again.  The book is the diary of a woman's life as she tries to live\n",
      "under the new Christian theocracy.  Women's right to own property is revoked,\n",
      "and their bank accounts are closed; sinful luxuries are outlawed, and the\n",
      "radio is only used for readings from the Bible.  Crimes are punished\n",
      "retroactively: doctors who performed legal abortions in the \"old world\" are\n",
      "hunted down and hanged.  Atwood's writing style is difficult to get used to\n",
      "at first, but the tale grows more and more chilling as it goes on.\n",
      "\n",
      "VARIOUS AUTHORS\n",
      "\n",
      "\"The Bible\"\n",
      "This somewhat dull and rambling work has often been criticized.  However, it\n",
      "is probably worth reading, if only so that you'll know what all the fuss is\n",
      "about.  It exists in many different versions, so make sure you get the one\n",
      "true version.\n",
      "\n",
      "                             Books -- Non-fiction\n",
      "\n",
      "PETER DE ROSA\n",
      "\n",
      "\"Vicars of Christ\", Bantam Press, 1988\n",
      "Although de Rosa seems to be Christian or even Catholic this is a very\n",
      "enlighting history of papal immoralities, adulteries, fallacies etc.\n",
      "(German translation: \"Gottes erste Diener. Die dunkle Seite des Papsttums\",\n",
      "Droemer-Knaur, 1989)\n",
      "\n",
      "MICHAEL MARTIN\n",
      "\n",
      "\"Atheism: A Philosophical Justification\", Temple University Press,\n",
      " Philadelphia, USA.\n",
      "A detailed and scholarly justification of atheism.  Contains an outstanding\n",
      "appendix defining terminology and usage in this (necessarily) tendentious\n",
      "area.  Argues both for \"negative atheism\" (i.e. the \"non-belief in the\n",
      "existence of god(s)\") and also for \"positive atheism\" (\"the belief in the\n",
      "non-existence of god(s)\").  Includes great refutations of the most\n",
      "challenging arguments for god; particular attention is paid to refuting\n",
      "contempory theists such as Platinga and Swinburne.\n",
      "541 pages. ISBN 0-87722-642-3 (hardcover; paperback also available)\n",
      "\n",
      "\"The Case Against Christianity\", Temple University Press\n",
      "A comprehensive critique of Christianity, in which he considers\n",
      "the best contemporary defences of Christianity and (ultimately)\n",
      "demonstrates that they are unsupportable and/or incoherent.\n",
      "273 pages. ISBN 0-87722-767-5\n",
      "\n",
      "JAMES TURNER\n",
      "\n",
      "\"Without God, Without Creed\", The Johns Hopkins University Press, Baltimore,\n",
      " MD, USA\n",
      "Subtitled \"The Origins of Unbelief in America\".  Examines the way in which\n",
      "unbelief (whether agnostic or atheistic)  became a mainstream alternative\n",
      "world-view.  Focusses on the period 1770-1900, and while considering France\n",
      "and Britain the emphasis is on American, and particularly New England\n",
      "developments.  \"Neither a religious history of secularization or atheism,\n",
      "Without God, Without Creed is, rather, the intellectual history of the fate\n",
      "of a single idea, the belief that God exists.\" \n",
      "316 pages. ISBN (hardcover) 0-8018-2494-X (paper) 0-8018-3407-4\n",
      "\n",
      "GEORGE SELDES (Editor)\n",
      "\n",
      "\"The great thoughts\", Ballantine Books, New York, USA\n",
      "A \"dictionary of quotations\" of a different kind, concentrating on statements\n",
      "and writings which, explicitly or implicitly, present the person's philosophy\n",
      "and world-view.  Includes obscure (and often suppressed) opinions from many\n",
      "people.  For some popular observations, traces the way in which various\n",
      "people expressed and twisted the idea over the centuries.  Quite a number of\n",
      "the quotations are derived from Cardiff's \"What Great Men Think of Religion\"\n",
      "and Noyes' \"Views of Religion\".\n",
      "490 pages. ISBN (paper) 0-345-29887-X.\n",
      "\n",
      "RICHARD SWINBURNE\n",
      "\n",
      "\"The Existence of God (Revised Edition)\", Clarendon Paperbacks, Oxford\n",
      "This book is the second volume in a trilogy that began with \"The Coherence of\n",
      "Theism\" (1977) and was concluded with \"Faith and Reason\" (1981).  In this\n",
      "work, Swinburne attempts to construct a series of inductive arguments for the\n",
      "existence of God.  His arguments, which are somewhat tendentious and rely\n",
      "upon the imputation of late 20th century western Christian values and\n",
      "aesthetics to a God which is supposedly as simple as can be conceived, were\n",
      "decisively rejected in Mackie's \"The Miracle of Theism\".  In the revised\n",
      "edition of \"The Existence of God\", Swinburne includes an Appendix in which he\n",
      "makes a somewhat incoherent attempt to rebut Mackie.\n",
      "\n",
      "J. L. MACKIE\n",
      "\n",
      "\"The Miracle of Theism\", Oxford\n",
      "This (posthumous) volume contains a comprehensive review of the principal\n",
      "arguments for and against the existence of God.  It ranges from the classical\n",
      "philosophical positions of Descartes, Anselm, Berkeley, Hume et al, through\n",
      "the moral arguments of Newman, Kant and Sidgwick, to the recent restatements\n",
      "of the classical theses by Plantinga and Swinburne.  It also addresses those\n",
      "positions which push the concept of God beyond the realm of the rational,\n",
      "such as those of Kierkegaard, Kung and Philips, as well as \"replacements for\n",
      "God\" such as Lelie's axiarchism.  The book is a delight to read - less\n",
      "formalistic and better written than Martin's works, and refreshingly direct\n",
      "when compared with the hand-waving of Swinburne.\n",
      "\n",
      "JAMES A. HAUGHT\n",
      "\n",
      "\"Holy Horrors: An Illustrated History of Religious Murder and Madness\",\n",
      " Prometheus Books\n",
      "Looks at religious persecution from ancient times to the present day -- and\n",
      "not only by Christians.\n",
      "Library of Congress Catalog Card Number 89-64079. 1990.\n",
      "\n",
      "NORM R. ALLEN, JR.\n",
      "\n",
      "\"African American Humanism: an Anthology\"\n",
      "See the listing for African Americans for Humanism above.\n",
      "\n",
      "GORDON STEIN\n",
      "\n",
      "\"An Anthology of Atheism and Rationalism\", Prometheus Books\n",
      "An anthology covering a wide range of subjects, including 'The Devil, Evil\n",
      "and Morality' and 'The History of Freethought'.  Comprehensive bibliography.\n",
      "\n",
      "EDMUND D. COHEN\n",
      "\n",
      "\"The Mind of The Bible-Believer\", Prometheus Books\n",
      "A study of why people become Christian fundamentalists, and what effect it\n",
      "has on them.\n",
      "\n",
      "                                Net Resources\n",
      "\n",
      "There's a small mail-based archive server at mantis.co.uk which carries\n",
      "archives of old alt.atheism.moderated articles and assorted other files.  For\n",
      "more information, send mail to archive-server@mantis.co.uk saying\n",
      "\n",
      "   help\n",
      "   send atheism/index\n",
      "\n",
      "and it will mail back a reply.\n",
      "\n",
      "\n",
      "mathew\n",
      "�\n",
      "\n"
     ]
    }
   ],
   "source": [
    "fileName = prefix+\"alt.atheism\\\\\"+\"49960\"\n",
    "print \"The name of the file that contains the first message is: {}\".format(fileName)\n",
    "print \"================================\"\n",
    "\n",
    "# Now, we open the file for reading\n",
    "myFile = open(fileName, \"r\")\n",
    "# and it's read whole.\n",
    "firstMessage = myFile.read()\n",
    "myFile.close() # The file is no longer needed, so it is closed\n",
    "print(firstMessage)"
   ]
  },
  {
   "cell_type": "markdown",
   "metadata": {},
   "source": [
    "Now, read and print the **second** message of newsgroup *comp.graphics* by filling in the gaps."
   ]
  },
  {
   "cell_type": "code",
   "execution_count": 11,
   "metadata": {},
   "outputs": [
    {
     "name": "stdout",
     "output_type": "stream",
     "text": [
      "The name of the file that contains the first message is: C:\\Users\\fra12\\Desktop\\Francesca\\UC3M\\Big Data Intelligence\\20news-18828\\comp.graphics\\37913\n",
      "================================\n",
      "From: weston@ucssun1.sdsu.edu (weston t)\n",
      "Subject: graphical representation of vector-valued functions\n",
      "\n",
      "gnuplot, etc. make it easy to plot real valued functions of 2 variables\n",
      "but I want to plot functions whose values are 2-vectors. I have been \n",
      "doing this by plotting arrays of arrows (complete with arrowheads) but\n",
      "before going further, I thought I would ask whether someone has already\n",
      "done the work. Any pointers??\n",
      "\n",
      "thanx in advance\n",
      "\n",
      "\n",
      "Tom Weston                    | USENET: weston@ucssun1.sdsu.edu\n",
      "Department of Philosophy      | (619) 594-6218 (office)\n",
      "San Diego State Univ.         | (619) 575-7477 (home)\n",
      "San Diego, CA 92182-0303      | \n",
      "\n"
     ]
    }
   ],
   "source": [
    "fileNames = os.listdir(prefix+\"comp.graphics\")\n",
    "fileName = prefix+\"comp.graphics\\\\\"+\"37913\"\n",
    "print \"The name of the file that contains the first message is: {}\".format(fileName)\n",
    "print \"================================\"\n",
    "\n",
    "# Now, we open the file for reading\n",
    "myFile = open(fileName, \"r\")\n",
    "# and it's read whole.\n",
    "firstMessage = myFile.read()\n",
    "myFile.close() # The file is no longer needed, so it is closed\n",
    "print(firstMessage)"
   ]
  },
  {
   "cell_type": "markdown",
   "metadata": {},
   "source": [
    "Now, we are going to read the first two messages from newsgroup *alt.atheism* and the first two messages from *comp.graphics*. But first, let's define a function that reads messages, in order to save ourselves some typing."
   ]
  },
  {
   "cell_type": "code",
   "execution_count": 12,
   "metadata": {
    "collapsed": true
   },
   "outputs": [],
   "source": [
    "def readMessage(fileName):\n",
    "    # Now, we open the file for reading\n",
    "    myFile = open(fileName, \"r\")\n",
    "    # and it's read whole.\n",
    "    message = myFile.read()\n",
    "    myFile.close() # The file is no longer needed, so it is closed    \n",
    "    return(message)"
   ]
  },
  {
   "cell_type": "markdown",
   "metadata": {},
   "source": [
    "Let's use function *readMessage* to read two messages from *alt.atheism*"
   ]
  },
  {
   "cell_type": "code",
   "execution_count": 13,
   "metadata": {},
   "outputs": [
    {
     "name": "stdout",
     "output_type": "stream",
     "text": [
      "We have read 2 messages\n",
      "==================================================\n",
      "The first message starts with these words:\n",
      "From: mathew <mathew@mantis.co.uk>\n",
      "Subject: Alt.Atheism FAQ: Atheist Resources\n",
      "\n",
      "Archive-name: atheism/resources\n",
      "Alt-atheism-archive-name: resources\n",
      "Last-modified: 11 December 1992\n",
      "Version: 1.0\n",
      "\n",
      "      \n",
      "==================================================\n",
      "And the second message starts with these words:\n",
      "From: mathew <mathew@mantis.co.uk>\n",
      "Subject: Alt.Atheism FAQ: Introduction to Atheism\n",
      "\n",
      "Archive-name: atheism/introduction\n",
      "Alt-atheism-archive-name: introduction\n",
      "Last-modified: 5 April 1993\n",
      "Version: 1.2\n"
     ]
    }
   ],
   "source": [
    "group = \"alt.atheism\\\\\"\n",
    "# Files contains the list of files (messages) of newsgroup alt.atheism\n",
    "files = os.listdir(prefix+group)\n",
    "\n",
    "# Let's read the first two messages\n",
    "\n",
    "message1_aa = readMessage(prefix+group+files[0])\n",
    "message2_aa = readMessage(prefix+group+files[1])\n",
    "\n",
    "# Let's put them into a list:\n",
    "\n",
    "messages_aa = [message1_aa, message2_aa]\n",
    "\n",
    "print \"We have read {} messages\".format(len(messages_aa))\n",
    "print \"==================================================\"\n",
    "print \"The first message starts with these words:\\n{}\".format(messages_aa[0][0:200])\n",
    "print \"==================================================\"\n",
    "print \"And the second message starts with these words:\\n{}\".format(messages_aa[1][0:200])"
   ]
  },
  {
   "cell_type": "markdown",
   "metadata": {},
   "source": [
    "Now, read a third message and *append* it into list *messages_aa*. Use the *apend* function"
   ]
  },
  {
   "cell_type": "code",
   "execution_count": 14,
   "metadata": {},
   "outputs": [
    {
     "name": "stdout",
     "output_type": "stream",
     "text": [
      "3\n"
     ]
    }
   ],
   "source": [
    "message3_aa = readMessage(prefix+group+files[2])\n",
    "messages_aa.append(message3_aa)\n",
    "print(len(messages_aa))"
   ]
  },
  {
   "cell_type": "markdown",
   "metadata": {},
   "source": [
    "We can do even better by using a loop to read the n first messages"
   ]
  },
  {
   "cell_type": "code",
   "execution_count": 15,
   "metadata": {},
   "outputs": [
    {
     "name": "stdout",
     "output_type": "stream",
     "text": [
      "We have read 5 messages\n"
     ]
    }
   ],
   "source": [
    "group = \"alt.atheism\\\\\"\n",
    "files = os.listdir(prefix+group)\n",
    "\n",
    "messages_aa = [] # Initially, we have no read any message (empty list)\n",
    "# Let's read 5 messages (but it could be any number)\n",
    "for myFile in files[:5]:\n",
    "    messages_aa.append(readMessage(prefix+group+myFile))\n",
    "print \"We have read {} messages\".format(len(messages_aa))  "
   ]
  },
  {
   "cell_type": "markdown",
   "metadata": {},
   "source": [
    "Now, use the previous code in order to read 4 messages from newsgroup *comp.graphics*"
   ]
  },
  {
   "cell_type": "code",
   "execution_count": 16,
   "metadata": {},
   "outputs": [
    {
     "name": "stdout",
     "output_type": "stream",
     "text": [
      "We have read 4 messages from comp.graphics\\\n"
     ]
    }
   ],
   "source": [
    "group = \"comp.graphics\\\\\"\n",
    "files = os.listdir(prefix+group)\n",
    "\n",
    "messages_cg = [] # Initially, we have no read any message (empty list)\n",
    "# Let's read 5 messages (but it could be any number)\n",
    "for myFile in files[:4]:\n",
    "    messages_cg.append(readMessage(prefix+group+myFile))\n",
    "print \"We have read {} messages from {}\".format(len(messages_cg), group)  "
   ]
  },
  {
   "cell_type": "markdown",
   "metadata": {},
   "source": [
    "Next step: let's decompose each message into words. We can do this by means of *split*. Let's see an example. Also, there are a couple of problems. What happens with words **remember** and **racing**?"
   ]
  },
  {
   "cell_type": "code",
   "execution_count": 17,
   "metadata": {},
   "outputs": [
    {
     "name": "stdout",
     "output_type": "stream",
     "text": [
      "Somewhere in la Mancha, in a place whose name I do not care to remember, a gentleman lived not long ago, one of those who has a lance and ancient shield on a shelf and keeps a skinny nag and a greyhound for racing.\n",
      "\n",
      "The list of words is:\n",
      "['Somewhere', 'in', 'la', 'Mancha,', 'in', 'a', 'place', 'whose', 'name', 'I', 'do', 'not', 'care', 'to', 'remember,', 'a', 'gentleman', 'lived', 'not', 'long', 'ago,', 'one', 'of', 'those', 'who', 'has', 'a', 'lance', 'and', 'ancient', 'shield', 'on', 'a', 'shelf', 'and', 'keeps', 'a', 'skinny', 'nag', 'and', 'a', 'greyhound', 'for', 'racing.']\n"
     ]
    }
   ],
   "source": [
    "myMessage =  \"Somewhere in la Mancha, in a place whose name I do not care to remember, a gentleman lived not long ago, one of those who has a lance and ancient shield on a shelf and keeps a skinny nag and a greyhound for racing.\" \n",
    "print(myMessage)\n",
    "print(\"\")\n",
    "words = myMessage.split()\n",
    "print \"The list of words is:\\n{}\".format(words)"
   ]
  },
  {
   "cell_type": "markdown",
   "metadata": {},
   "source": [
    "A way of fixing the problem of separators like \",\" and \".\" is to substitute them by spaces (\" \"), so that there is only one delimiter (space). We can use *replace* for this. Try to understand the following code. Do we get the correct list of words now (i.e. do **remember** and **racing** look right now?)?"
   ]
  },
  {
   "cell_type": "code",
   "execution_count": 18,
   "metadata": {},
   "outputs": [
    {
     "name": "stdout",
     "output_type": "stream",
     "text": [
      "Somewhere in la Mancha, in a place whose name I do not care to remember, a gentleman lived not long ago, one of those who has a lance and ancient shield on a shelf and keeps a skinny nag and a greyhound for racing.\n",
      "\n",
      "The list of words is:\n",
      "['Somewhere', 'in', 'la', 'Mancha', 'in', 'a', 'place', 'whose', 'name', 'I', 'do', 'not', 'care', 'to', 'remember', 'a', 'gentleman', 'lived', 'not', 'long', 'ago', 'one', 'of', 'those', 'who', 'has', 'a', 'lance', 'and', 'ancient', 'shield', 'on', 'a', 'shelf', 'and', 'keeps', 'a', 'skinny', 'nag', 'and', 'a', 'greyhound', 'for', 'racing']\n"
     ]
    }
   ],
   "source": [
    "myMessage =  \"Somewhere in la Mancha, in a place whose name I do not care to remember, a gentleman lived not long ago, one of those who has a lance and ancient shield on a shelf and keeps a skinny nag and a greyhound for racing.\" \n",
    "print(myMessage)\n",
    "print(\"\")\n",
    "myMessage = myMessage.replace(\",\", \" \")\n",
    "myMessage = myMessage.replace(\".\", \" \")\n",
    "\n",
    "words = myMessage.split()\n",
    "print \"The list of words is:\\n{}\".format(words)"
   ]
  },
  {
   "cell_type": "markdown",
   "metadata": {},
   "source": [
    "Now, we could do the same for the three messages of *alt.atheism* which are contained in list *messages_aa*. Try to understand this code."
   ]
  },
  {
   "cell_type": "code",
   "execution_count": 19,
   "metadata": {},
   "outputs": [
    {
     "name": "stdout",
     "output_type": "stream",
     "text": [
      "==================================================\n",
      "We can check what happenned to the first 20 words of the first message:\n",
      "['From:', 'mathew', '<mathew@mantis', 'co', 'uk>', 'Subject:', 'Alt', 'Atheism', 'FAQ:', 'Atheist', 'Resources', 'Archive-name:', 'atheism/resources', 'Alt-atheism-archive-name:', 'resources', 'Last-modified:', '11', 'December', '1992', 'Version:', '1', '0', 'Atheist', 'Resources', 'Addresses', 'of', 'Atheist', 'Organizations', 'USA', 'FREEDOM', 'FROM', 'RELIGION', 'FOUNDATION', 'Darwin', 'fish', 'bumper', 'stickers', 'and', 'assorted', 'other', 'atheist', 'paraphernalia', 'are', 'available', 'from', 'the', 'Freedom', 'From', 'Religion', 'Foundation']\n",
      "==================================================\n"
     ]
    }
   ],
   "source": [
    "# First, let's make a copy of the original list \"messages_aa\", \n",
    "# so that messages_aa is not modified and we can use it later unchanged\n",
    "\n",
    "import copy\n",
    "messages_aa_copy = copy.deepcopy(messages_aa)\n",
    "\n",
    "# Now, we will modify messages_aa_copy and remove , and . from them\n",
    "# Let's remove \",\" and \".\" from the first message\n",
    "messages_aa_copy[0] = messages_aa_copy[0].replace(\",\", \" \")\n",
    "messages_aa_copy[0] = messages_aa_copy[0].replace(\".\", \" \")\n",
    "messages_aa_copy[0] = messages_aa_copy[0].split()\n",
    "\n",
    "# Same for the second message\n",
    "messages_aa_copy[1] = messages_aa_copy[1].replace(\",\", \" \")\n",
    "messages_aa_copy[1] = messages_aa_copy[1].replace(\".\", \" \")\n",
    "messages_aa_copy[1] = messages_aa_copy[1].split()\n",
    "\n",
    "# Same for the third message\n",
    "messages_aa_copy[2] = messages_aa_copy[2].replace(\",\", \" \")\n",
    "messages_aa_copy[2] = messages_aa_copy[2].replace(\",\", \" \")\n",
    "messages_aa_copy[2] = messages_aa_copy[2].split()\n",
    "\n",
    "\n",
    "print \"==================================================\"\n",
    "print \"We can check what happenned to the first 20 words of the first message:\"\n",
    "print(messages_aa_copy[0][0:50]) \n",
    "print \"==================================================\""
   ]
  },
  {
   "cell_type": "markdown",
   "metadata": {},
   "source": [
    "But using the above code for every message is rather tedious, specially if there are many messages. Please, try to improve the above code by using a **for** loop. Reminder: range(3) == [0, 1, 2]. Please, use variable **messages_aa** that contains a list with the three messages."
   ]
  },
  {
   "cell_type": "code",
   "execution_count": 20,
   "metadata": {},
   "outputs": [
    {
     "name": "stdout",
     "output_type": "stream",
     "text": [
      "==================================================\n",
      "We can check what happened to the first 50 words of the first message:\n",
      "['From:', 'mathew', '<mathew@mantis', 'co', 'uk>', 'Subject:', 'Alt', 'Atheism', 'FAQ:', 'Atheist', 'Resources', 'Archive-name:', 'atheism/resources', 'Alt-atheism-archive-name:', 'resources', 'Last-modified:', '11', 'December', '1992', 'Version:', '1', '0', 'Atheist', 'Resources', 'Addresses', 'of', 'Atheist', 'Organizations', 'USA', 'FREEDOM', 'FROM', 'RELIGION', 'FOUNDATION', 'Darwin', 'fish', 'bumper', 'stickers', 'and', 'assorted', 'other', 'atheist', 'paraphernalia', 'are', 'available', 'from', 'the', 'Freedom', 'From', 'Religion', 'Foundation']\n",
      "==================================================\n"
     ]
    }
   ],
   "source": [
    "# len(messages_aa) is the number of elements in the list (i.e. the number of messages, \n",
    "# 3 in this case)\n",
    "for messageNumber in range(len(messages_aa)):\n",
    "    messages_aa[messageNumber] = messages_aa[messageNumber].replace(\",\", \" \")\n",
    "    messages_aa[messageNumber] = messages_aa[messageNumber].replace(\".\", \" \")\n",
    "    messages_aa[messageNumber] = messages_aa[messageNumber].split()\n",
    "    \n",
    "    \n",
    "print \"==================================================\"\n",
    "print \"We can check what happened to the first 50 words of the first message:\"\n",
    "print(messages_aa[0][0:50]) \n",
    "print \"==================================================\""
   ]
  },
  {
   "cell_type": "markdown",
   "metadata": {},
   "source": [
    "Finally, we are going to compute the frequency of each word for every message. We will first count the words, and then divide by the total number of words in order to get the frequency. In order to save you some work, the function *createDictionary* is provided to you."
   ]
  },
  {
   "cell_type": "code",
   "execution_count": 21,
   "metadata": {
    "collapsed": true
   },
   "outputs": [],
   "source": [
    "def createDictionary(words):\n",
    "    d = {}\n",
    "    for word in words:\n",
    "        if word in d:\n",
    "            d[word] = d[word] + 1\n",
    "        else:\n",
    "            d[word] = 1\n",
    "    return(d)"
   ]
  },
  {
   "cell_type": "markdown",
   "metadata": {},
   "source": [
    "Let's see how *createDictionary* works. Please, notice that the dictionary is a list of pairs (key, count), where count is the number of times each word (key) appears in the sentence."
   ]
  },
  {
   "cell_type": "code",
   "execution_count": 22,
   "metadata": {},
   "outputs": [
    {
     "name": "stdout",
     "output_type": "stream",
     "text": [
      "Somewhere in la Mancha, in a place whose name I do not care to remember, a gentleman lived not long ago, one of those who has a lance and ancient shield on a shelf and keeps a skinny nag and a greyhound for racing.\n",
      "\n",
      "{'and': 3, 'ago': 1, 'Somewhere': 1, 'greyhound': 1, 'one': 1, 'in': 2, 'shield': 1, 'Mancha': 1, 'whose': 1, 'ancient': 1, 'nag': 1, 'for': 1, 'la': 1, 'gentleman': 1, 'long': 1, 'name': 1, 'to': 1, 'has': 1, 'racing': 1, 'lance': 1, 'do': 1, 'lived': 1, 'I': 1, 'shelf': 1, 'who': 1, 'not': 2, 'those': 1, 'care': 1, 'a': 6, 'on': 1, 'remember': 1, 'of': 1, 'place': 1, 'keeps': 1, 'skinny': 1}\n"
     ]
    }
   ],
   "source": [
    "myMessage =  \"Somewhere in la Mancha, in a place whose name I do not care to remember, a gentleman lived not long ago, one of those who has a lance and ancient shield on a shelf and keeps a skinny nag and a greyhound for racing.\" \n",
    "print(myMessage)\n",
    "print(\"\")\n",
    "myMessage = myMessage.replace(\",\", \" \")\n",
    "myMessage = myMessage.replace(\".\", \" \")\n",
    "words = myMessage.split()\n",
    "\n",
    "# Here, we create a dictionary with the count of words\n",
    "myDictionary = createDictionary(words)\n",
    "print(myDictionary)"
   ]
  },
  {
   "cell_type": "markdown",
   "metadata": {},
   "source": [
    "In order to compute the frequency, we need to divide each count by the total number of words in the message. Reminder: function *len* computes the number of elements in a list. We will multiply by 100 in order to compute percentages. Something like this: "
   ]
  },
  {
   "cell_type": "code",
   "execution_count": 33,
   "metadata": {},
   "outputs": [
    {
     "name": "stdout",
     "output_type": "stream",
     "text": [
      "{'and': 8, 'ago': 2, 'Somewhere': 2, 'greyhound': 2, 'one': 2, 'in': 5, 'shield': 2, 'Mancha': 2, 'whose': 2, 'ancient': 2, 'nag': 2, 'for': 2, 'la': 2, 'gentleman': 2, 'long': 2, 'name': 2, 'to': 2, 'has': 2, 'racing': 2, 'lance': 2, 'do': 2, 'lived': 2, 'I': 2, 'shelf': 2, 'who': 2, 'not': 5, 'those': 2, 'care': 2, 'a': 17, 'on': 2, 'remember': 2, 'of': 2, 'place': 2, 'keeps': 2, 'skinny': 2}\n"
     ]
    }
   ],
   "source": [
    "for word in myDictionary:\n",
    "    myDictionary[word] = 100*myDictionary[word]/len(myDictionary)\n",
    "    \n",
    "print(myDictionary)    "
   ]
  },
  {
   "cell_type": "markdown",
   "metadata": {},
   "source": [
    "Finally, compute a similar dictionary, but for the **first** message of messages_aa."
   ]
  },
  {
   "cell_type": "code",
   "execution_count": 23,
   "metadata": {},
   "outputs": [
    {
     "name": "stdout",
     "output_type": "stream",
     "text": [
      "{'Sell': 1, 'all': 1, 'writings': 1, 'Based': 1, 'translation:': 1, 'similarity': 1, 'both': 1, 'Horrors\"': 1, 'founded': 1, 'concept': 1, 'legal': 1, 'Horrors:': 1, 'go': 1, 'alt': 1, '(whether': 1, 'Telephone:': 4, '(which': 1, 'luxuries': 1, 'suppressed)': 1, 'Foundation': 1, 'supposedly': 1, 'number': 1, 'Subtitled': 1, 'Claus': 1, 'young': 1, 'Evil': 1, 'to': 21, 'charge': 1, 'promoting': 1, 'those': 2, 'sceptical': 1, 'quarterly': 1, 'moderated': 1, 'must': 1, 'worth': 1, 'resources': 1, 'theists': 1, 'fax': 1, 'woman': 1, 'mainstream': 1, 'very': 2, 'implicitly': 1, 'oceans': 1, 'contemporary': 1, 'P': 4, '\"Galactic': 1, 'diary': 1, 'JR': 2, \"Freethought'\": 1, 'D': 1, '14215': 1, 'alien': 1, 'Bible-Believer\"': 1, 'incoherent': 2, '--': 6, 'positions': 2, 'attempts': 1, 'try': 1, 'Contradicts': 1, 'Compromise\"': 1, 'AUTHORS': 1, 'small': 1, '20th': 1, 'concluded': 1, 'EVOLUTION': 1, '\"Darwin\"': 1, 'century': 1, 'invades': 1, '\"positive': 1, 'FFRF': 1, 'Coherence': 1, 'direct': 1, 'Number': 1, '272': 1, '273': 1, 'Postfach': 3, 'Maze': 1, 'East': 1, 'odd': 1, 'Christ\"': 1, 'Red': 1, '3D': 1, 'even': 1, 'what': 2, '\"Darwin': 1, 'FAQ:': 1, 'religious': 2, 'assisted': 1, 'HUMANISM': 1, 'expressed': 1, 'This': 3, 'version': 2, 'goes': 1, 'B\"ucherdienst': 1, 'new': 1, 'net': 1, 'University': 3, 'Short': 1, 'hero': 1, 'whose': 1, 'Freedom': 1, 'K': 2, 'Think': 1, 'EDGAR': 1, 'HAUGHT': 1, 'ranges': 1, 'met': 1, 'them': 1, '24-hour': 1, 'address': 1, '\"An': 1, 'Anthology\"': 1, 'world-view': 2, 'MD': 1, 'great': 2, 'substance': 1, '0-8018-2494-X': 1, 'study': 1, 'Crimes': 1, '(see': 1, 'through': 1, 'leaving': 1, '89-64079': 1, 'atoms\"': 1, 'proof': 1, 'makes': 1, 'Papsttums\"': 1, '430': 2, 'Devil': 1, 'god(s)\")': 2, '\\xff': 1, \"It's\": 1, 'When': 1, '(1981)': 1, 'summons': 1, \"Noyes'\": 1, 'contradictions': 2, 'send': 2, '\"The': 16, '0-345-29887-X': 1, 'America\"': 1, 'challenging': 1, 'use': 1, 'from': 11, '0': 1, '(posthumous)': 1, 'inductive': 1, 'contains': 2, '0908': 1, 'papal': 1, 'live': 1, 'explicitly': 1, 'music': 1, 'archives': 1, 'God\"': 2, 'Plantinga': 1, 'terminally': 1, 'sort': 1, 'faith': 1, 'under': 1, 'about': 2, 'mathew': 2, 'American': 4, 'appendix': 1, 'VARIOUS': 1, 'stick': 1, 'V': 2, 'earthers': 1, '95': 2, 'moulded': 1, 'women': 1, '1990': 1, '1992': 1, 'word': 1, 'this': 4, 'der': 3, 'work': 2, 'Library': 1, '(Editor)': 1, 'values': 1, 'can': 2, 'of': 58, 'believed': 1, 'making': 1, 'example': 1, 'history': 4, \"Lelie's\": 1, 'Islington': 1, \"woman's\": 1, '\"old': 1, 'Contains': 1, 'states': 1, 'journal:': 1, 'SELDES': 1, 'mail-based': 1, 'subjects': 1, 'Norm': 1, 'Hume': 1, 'pink': 1, 'information': 1, '\"Neither': 1, 'Mind': 1, 'rather': 2, 'technology': 1, 'Journal': 1, 'Lion': 1, 'write': 1, 'Prometheus': 4, 'trilogy': 1, 'mysteries': 1, 'if': 1, 'Examines': 1, 'Looks': 1, 'A': 9, 'alternative': 1, 'EXAMINER': 1, \"Atwood's\": 1, 'may': 1, '1271': 1, 'after': 1, 'derived': 1, 'different': 2, 'British': 1, 'outlawed': 1, '0511/211216': 1, 'such': 4, 'concentrating': 1, '1881': 1, 'man': 1, 'a': 27, 'All': 1, 'short': 1, 'attempt': 1, 'lines': 1, 'One': 2, 'tale': 1, 'tendentious': 2, '(\"the': 1, 'fictitious': 1, 'so': 3, 'ultimate': 1, '0-8018-3407-4': 1, '78752-2973': 1, 'Alt': 1, 'quotations': 1, '(512)': 2, 'began': 1, 'anyone': 1, 'Bantam': 1, \"Mackie's\": 1, 'help': 1, 'below)': 1, 'mainly': 1, 'brain': 2, 'MIZ': 1, 'including': 2, 'polished': 1, 'deity': 2, '490': 1, 'its': 1, '1': 2, 'style': 1, 'His': 2, 'group': 1, 'closed;': 1, \"Women's\": 1, 'world\"': 1, 'comply': 1, 'MARTIN': 1, '\"Atheism:': 1, 'mail': 2, 'Itself\"': 1, 'defining': 1, '(716)': 1, 'FOUNDATION': 1, 'Evolution': 2, 'Platinga': 1, '1770-1900': 1, 'L': 1, 'Bay': 1, 'Foote': 1, 'they': 1, 'not': 1, 'hunted': 1, 'day': 1, 'bank': 1, 'Ethical': 1, 'blueprints': 1, 'San': 1, 'Noteworthy': 1, 'Gnostic': 1, 'Seite': 1, '\"What': 1, 'covering': 1, 'ROSA': 1, 'grows': 1, 'uncovering': 1, 'filling': 1, 'BOOKS': 1, 'technology-based': 1, 'truth': 1, 'dogmatic': 1, 'accompanied': 1, 'beneath': 1, '372': 1, 'traces': 1, 'Humanism:': 1, 'Last-modified:': 1, 'Philips': 1, 'From': 1, 'fired': 1, 'series': 1, 'fish': 4, 'revised': 1, '700': 1, 'monks': 1, '702': 1, '88': 1, 'books': 3, 'hanged': 1, 'Unbelief': 1, 'defences': 1, 'cathedral': 1, 'beyond': 1, 'description': 1, 'is:': 2, 'unsupportable': 1, '458-1244': 1, 'publish': 4, 'rational': 1, 'Joe': 1, 'Internationaler': 2, 'Focusses': 1, 'PRESS': 1, 'Holloway': 1, '(hardcover;': 1, 'philosophy': 1, 'belief': 2, 'G': 1, 'DISCH': 1, 'cars': 1, 'sinful': 1, 'rely': 1, '(hardcover)': 1, 'ancient': 1, 'adulteries': 1, 'freethought': 1, 'W': 2, 'which': 9, 'Buffalo': 3, 'forbids': 1, 'People': 1, '<mathew@mantis': 1, 'National': 2, 'N19': 1, 'tries': 1, 'used': 2, 'times': 2, 'AMERICAN': 1, 'NORM': 1, 'bumper': 1, 'dismissively': 1, 'first': 1, 'origin': 1, 'Rationalist': 1, 'pot-healer': 1, 'Hrsg': 1, 'Bund': 1, 'MIZ-Vertrieb': 1, 'dull': 1, 'paperback': 1, 'one': 1, 'feet': 1, 'philosophical': 2, 'directly': 1, 'Hollywood': 1, 'plastic': 1, 'idea': 2, 'Conduit': 1, 'story': 2, '\"': 1, 'North': 1, 'exists': 3, 'Congress': 2, 'unknown': 1, 'mysteriously': 1, 'system': 1, 'construct': 1, 'Konfessionslosen': 2, 'doomsday': 2, 'their': 3, 'returns': 1, \"Cardiff's\": 1, 'observations': 1, 'Leibowitz\"': 2, 'Press': 7, 'white': 1, 'remote': 1, 'Association': 2, 'that': 8, 'et': 1, '\"Saint': 1, 'lists': 1, 'approachable': 1, 'R': 2, 'western': 1, 'somewhat': 3, 'doctors': 1, '$4': 2, 'France': 1, 'Post': 1, 'Road': 2, 'History': 2, 'to:': 6, 'uk>': 1, 'kind': 1, '14': 1, '7215': 1, 'imputation': 1, 'Canyon': 1, 'Theism\"': 3, 'friend': 1, 'were': 1, 'Paperbacks': 1, 'atheistic)': 1, 'theocracy': 1, 'and': 52, '880': 2, 'ISBN': 5, 'remained': 1, 'MILLER': 1, 'DE': 1, 'contempory': 1, 'AAH': 1, 'It': 3, 'Hannover': 1, 'AAP': 2, 'refreshingly': 1, '\"Without': 1, 'any': 1, 'sell': 1, '\"Faith': 1, '(1977)': 1, 'Christian': 4, '\"negative': 1, 'available)': 1, '-': 1, 'theses': 1, 'God': 10, 'also': 3, 'emphasis': 1, 'Appendix': 1, 'Germany': 4, 'amusing': 1, 'Santa': 2, '0-87722-642-3': 1, 'Hall': 1, 'retroactively:': 1, '\"Davy\"': 1, 'Lynn': 2, 'sure': 1, 'price': 1, 'who': 3, 'M': 2, 'PANGBORN': 1, 'paid': 1, 'most': 1, 'Without': 3, 'rejected': 1, 'sheets': 1, 'Existence': 2, 'Justification\"': 1, 'The': 9, 'pages': 4, 'restatements': 1, 'Mackie': 1, 'Descartes': 1, 'FROM': 1, 'D-3000': 1, 'Philadelphia': 1, 'Freethinker\"': 1, 'listing': 1, '2nd': 1, \"you'll\": 1, '0-87722-767-5': 1, 'Bible\"': 1, 'Earth': 2, 'mailing': 1, 'WC1R': 2, 'saying': 1, 'particularly': 1, '\"African': 1, 'rambling': 1, 'Catholic': 1, 'Baltimore': 1, 'ATHEIST': 1, 'Edition)\"': 1, '664': 1, '1266': 1, 'WI': 1, 'Religion': 1, 'PROMETHEUS': 1, 'radio': 1, 'N1': 1, 'range': 1, 'Argues': 1, 'Resources': 3, 'principal': 1, 'Kingdom': 1, 'giant': 1, 'based': 1, 'RICHARD': 1, 'Clarendon': 1, 'with': 5, 'written': 2, 'Jr': 1, 'than': 2, 'only': 3, '541': 1, 'black': 2, 'York': 2, 'gods': 1, 'quotations\"': 1, 'he': 6, 'des': 1, 'Atheisten': 2, 'Organizations': 1, 'over': 1, 'his': 3, 'above': 1, 'Ballantine': 1, 'get': 3, 'secular': 1, 'de': 1, '\"replacements': 1, 'criticized': 1, 'beam': 1, 'ones': 1, 'atheism/resources': 1, 'Kung': 1, 'probably': 1, 'carries': 1, 'GEORGE': 1, 'gem': 1, 'following': 1, 'fallible': 1, 'Christianity\"': 1, 'MARGARET': 1, 'humanism': 1, 'ATWOOD': 1, 'enlighting': 1, 'paper': 1, 'she': 3, '91605': 1, 'Allen': 1, 'obscure': 1, '7723': 1, 'wrote': 3, 'WALTER': 1, 'set': 2, 'For': 4, 'com>': 1, '316': 1, 'Christianity': 3, 'schizophrenic': 1, 'edition': 2, 'justification': 1, 'are': 11, 'existence': 3, 'Fax:': 1, 'best': 1, '#4': 1, 'Religion\"': 2, 'formalistic': 1, '831': 1, 'Comprehensive': 1, 'review': 1, 'Hopkins': 1, 'See': 1, 'Berlin': 2, 'unable': 1, 'various': 2, 'Death\"': 1, 'refutations': 1, 'stories': 2, 'reading': 1, 'Pot-Healer\"': 1, 'wide': 1, 'available': 1, 'King': 1, 'Bible': 6, 'IBKA': 3, 'FOR': 1, '\"VALIS\"': 1, 'Atheist': 5, 'attention': 1, 'GORDON': 1, 'Against': 1, 'Atheism': 2, 'refuting': 1, 'premise': 1, 'African': 2, 'Alt-atheism-archive-name:': 1, '256-8900': 1, 'revoked': 1, 'many': 3, 'Fish': 1, 'Quite': 1, 'against': 1, 'postpaid': 1, 'etc': 1, 'became': 1, 'und': 3, 'reply': 1, 'Kant': 1, 'Handbook\"': 1, \"'The\": 2, 'Divine': 1, 'co': 3, 'Illustrated': 1, 'simple': 1, 'seems': 1, 'period': 1, 'Fiction': 1, '3005': 1, 'church': 1, 'bizarre': 1, 'writing': 1, 'Temple': 2, 'considering': 1, 'late': 1, 'pp': 1, 'raise': 1, 'second': 1, 'monthly': 1, 'Creed\"': 1, 'COHEN': 1, 'outstanding': 1, 'Amongst': 1, 'quickly': 1, 'punished': 1, 'Archive-name:': 1, 'FREEDOM': 1, 'Fernwright': 1, 'assassinated': 1, 'Card': 1, 'Sidgwick': 1, 'life': 1, '(necessarily)': 1, 'easy': 1, 'assorted': 3, 'CA': 1, 'Berkeley': 1, 'readings': 1, 'usage': 1, 'relevance:': 1, 'lives': 1, 'abortions': 1, 'demand': 1, '\"right\"': 1, 'Subject:': 1, 'atheism\"': 2, 'hidden': 1, 'present': 2, 'Droemer-Knaur': 1, 'novel': 3, 'laser': 1, 'twisted': 1, 'Conway': 1, 'single': 1, \"Haught's\": 1, 'will': 1, 'while': 1, '\"non-belief': 1, 'Laurel': 1, 'property': 1, 'Any': 1, 'chilling': 1, '(and': 1, 'aesthetics': 1, 'Miracle': 2, '(Materialien': 1, '071': 5, 'is': 22, 'Dick': 2, 'agnostic': 1, 'it': 5, 'Write': 5, 'mantis': 1, \"Martin's\": 1, 'in': 18, 'ironic': 1, 'Konfessionslosesn': 1, 'nation': 1, 'stickers': 1, 'decisively': 1, 'centuries': 1, 'Unfortunately': 1, 'containing': 1, 'clerical': 1, '\"A': 2, '\"produce': 1, 'secularization': 1, ')': 1, 'make': 1, 'fallacies': 1, 'Newman': 1, 'another': 1, 'upon': 1, 'arguments': 5, 'copying': 1, 'Die': 1, 'Oxford': 2, 'events': 1, 'difficult': 1, '<figmo@netcom': 1, 'Politisches': 1, 'fuss': 1, 'novels': 2, 'Zeit': 1, 'comprehensive': 2, '3NL': 1, 'conceived': 1, 'Humanism': 2, 'effect': 1, 'delight': 1, 'Canticle': 1, 'wired': 1, 'Humanist': 1, 'characters': 2, 'realm': 1, '14228-2197': 1, 'recent': 1, 'rebut': 1, 'anthology': 1, 'Religious': 1, 'well': 2, 'spent': 1, 'Philosophical': 1, 'In': 2, 'organization': 1, 'the': 62, 'opinions': 1, 'United': 1, 'High': 1, 'absurdities': 1, 'less': 1, 'true': 1, 'older)': 1, 'Passage': 1, 'fundamentalists': 2, '(i': 1, 'atomic': 2, \"person's\": 1, '7119': 1, 'reality': 1, 'compared': 1, 'addresses': 1, 'IBDK': 1, 'bibliography': 1, '\"dictionary': 1, 'STEIN': 1, 'alternate': 1, 'had': 1, 'EDMUND': 1, 'RELIGION': 1, 'other': 3, 'developments': 1, 'Although': 2, 'SF': 1, 'dunkle': 1, 'Swinburne': 5, 'Philip': 1, 'has': 2, 'Anselm': 1, 'take': 1, 'god;': 1, 'Madness\"': 1, 'They': 1, 'fate': 1, 'Non-fiction': 1, 'read': 1, 'James': 1, '\"Views': 1, 'archive-server@mantis': 1, 'possibly': 1, '8EW': 1, 'know': 1, 'listening': 1, 'ALLEN': 1, 'England': 1, 'PHILIP': 1, 'Foote:': 1, '7251': 1, 'D-1000': 2, 'DESIGNS': 1, '59': 1, 'like': 1, 'ill': 1, 'erste': 1, 'immoralities': 2, 'Creed': 1, 'pregnant': 1, '1989)': 1, 'server': 1, 'London': 4, 'popular': 1, 'moral': 1, 'works': 1, 'terminology': 1, '\"Vicars': 1, 'MACKIE': 1, 'Kierkegaard': 1, 'right': 1, 'old': 1, 'often': 3, 'classical': 2, 'people': 5, 'some': 3, 'back': 1, 'Version:': 1, '53701': 1, \"There's\": 1, 'critique': 1, 'New': 3, 'Net': 1, 'newsletter': 1, '4RH': 1, 'and/or': 1, 'divine': 1, '4RL': 1, 'Biblical': 1, '467-9525': 1, 'demonstrates': 1, 'unbelief': 1, 'Men': 1, 'However': 1, 'per': 1, 'considers': 1, 'religion': 2, 'Catalog': 1, 'SWINBURNE': 1, 'statements': 1, 'symbol': 1, 'He': 2, 'Box': 3, 'be': 4, 'particular': 1, 'Origins': 1, 'performed': 1, 'Christians': 2, 'MICHAEL': 1, 'O': 3, '\"Gottes': 1, '(German': 1, 'Place': 1, 'become': 1, 'post': 1, 'by': 7, 'dead': 2, 'zur': 1, 'on': 9, 'Madison': 1, 'Square': 1, 'Glenn': 1, 'December': 1, \"Morality'\": 1, 'US': 3, 'magazine': 1, 'Americans': 2, 'Amherst': 1, \"Handmaid's\": 1, 'Cameron': 1, 'or': 7, 'own': 1, 'letters': 1, '14226': 1, 'JAMES': 2, 'into': 1, 'Rationalism\"': 1, 'fish\"': 1, 'intellectual': 1, 'down': 1, 'accounts': 1, 'been': 1, 'or:': 1, 'TURNER': 1, 'Includes': 2, 'thoughts\"': 1, '1986': 1, 'Designs': 2, 'Ball': 2, 'paraphernalia': 1, '837-2475': 1, 'Secular': 2, 'AFRICAN-AMERICANS': 1, '1988': 1, 'why': 1, 'NY': 2, \"Lamb's\": 1, '\"Holy': 2, 'way': 2, 'was': 1, 'files': 1, 'THOMAS': 1, '750': 1, 'J': 1, 'Johns': 1, 'but': 5, 'Rosa': 1, 'volume': 2, '(608)': 1, 'newer': 1, 'articles': 1, '226': 1, 'Austin': 2, 'atrocities': 1, 'Addresses': 1, 'begins': 1, 'non-existence': 1, '(paper)': 2, 'Gold': 1, 'versions': 1, 'inside': 1, 'Diener': 1, 'planet': 1, 'Society': 3, 'Britain': 1, 'Books': 7, '0-910309-26-4': 1, 'uh': 1, 'uk': 2, 'hand-waving': 1, 'again': 1, '140195': 1, 'more': 3, 'detailed': 1, 'DICK': 1, 'USA': 4, '78714-0195': 1, 'describe': 1, 'al': 1, 'an': 3, 'as': 10, 'at': 4, 'ink': 1, 'axiarchism': 1, 'Darwin': 2, '(Revised': 1, 'archive': 1, '(ultimately)': 1, '11': 1, 'Francisco': 1, 'TX': 2, 'when': 1, 'scholarly': 1, '41': 2, 'book': 4, 'thought-provoking': 1, 'better': 1, 'Reason\"': 1, 'you': 1, 'PETER': 1, 'From:': 1, 'Case': 1, 'area': 2, 'Great': 1, 'atheism/index': 1, 'star': 1, 'living': 1, 'critiques': 1, 'Drive': 1, 'includes': 1, 'push': 1, 'persecution': 1, 'Tale\"': 1, 'Murder': 1, 'South': 1, 'searches': 1, 'e': 3, 'for': 14, 'atheist': 4, 'Informationen': 1, 'An': 4, 'atheism': 3, 'Street': 2, 'Anthology': 1, 'Invasion\"': 1, 'craftsmen': 1, 'deluxe': 1}\n"
     ]
    }
   ],
   "source": [
    "myDictionary = createDictionary(messages_aa[0])\n",
    "print(myDictionary)"
   ]
  },
  {
   "cell_type": "markdown",
   "metadata": {},
   "source": [
    "What follows is a solution with a loop, in order to process the three messages of messages_aa. Just try to understand it, and you are done."
   ]
  },
  {
   "cell_type": "code",
   "execution_count": 24,
   "metadata": {},
   "outputs": [
    {
     "name": "stdout",
     "output_type": "stream",
     "text": [
      "[{'Sell': 0.0591016548463357, 'all': 0.0591016548463357, 'writings': 0.0591016548463357, 'Based': 0.0591016548463357, 'translation:': 0.0591016548463357, 'similarity': 0.0591016548463357, 'both': 0.0591016548463357, 'Horrors\"': 0.0591016548463357, 'founded': 0.0591016548463357, 'concept': 0.0591016548463357, 'legal': 0.0591016548463357, 'Horrors:': 0.0591016548463357, 'go': 0.0591016548463357, 'alt': 0.0591016548463357, '(whether': 0.0591016548463357, 'Telephone:': 0.2364066193853428, '(which': 0.0591016548463357, 'luxuries': 0.0591016548463357, 'suppressed)': 0.0591016548463357, 'Foundation': 0.0591016548463357, 'supposedly': 0.0591016548463357, 'number': 0.0591016548463357, 'Subtitled': 0.0591016548463357, 'Claus': 0.0591016548463357, 'young': 0.0591016548463357, 'Evil': 0.0591016548463357, 'to': 1.2411347517730495, 'charge': 0.0591016548463357, 'promoting': 0.0591016548463357, 'those': 0.1182033096926714, 'sceptical': 0.0591016548463357, 'quarterly': 0.0591016548463357, 'moderated': 0.0591016548463357, 'must': 0.0591016548463357, 'worth': 0.0591016548463357, 'resources': 0.0591016548463357, 'theists': 0.0591016548463357, 'fax': 0.0591016548463357, 'woman': 0.0591016548463357, 'mainstream': 0.0591016548463357, 'very': 0.1182033096926714, 'implicitly': 0.0591016548463357, 'oceans': 0.0591016548463357, 'contemporary': 0.0591016548463357, 'P': 0.2364066193853428, '\"Galactic': 0.0591016548463357, 'diary': 0.0591016548463357, 'JR': 0.1182033096926714, \"Freethought'\": 0.0591016548463357, 'D': 0.0591016548463357, '14215': 0.0591016548463357, 'alien': 0.0591016548463357, 'Bible-Believer\"': 0.0591016548463357, 'incoherent': 0.1182033096926714, '--': 0.3546099290780142, 'positions': 0.1182033096926714, 'attempts': 0.0591016548463357, 'try': 0.0591016548463357, 'Contradicts': 0.0591016548463357, 'Compromise\"': 0.0591016548463357, 'AUTHORS': 0.0591016548463357, 'small': 0.0591016548463357, '20th': 0.0591016548463357, 'concluded': 0.0591016548463357, 'EVOLUTION': 0.0591016548463357, '\"Darwin\"': 0.0591016548463357, 'century': 0.0591016548463357, 'invades': 0.0591016548463357, '\"positive': 0.0591016548463357, 'FFRF': 0.0591016548463357, 'Coherence': 0.0591016548463357, 'direct': 0.0591016548463357, 'Number': 0.0591016548463357, '272': 0.0591016548463357, '273': 0.0591016548463357, 'Postfach': 0.1773049645390071, 'Maze': 0.0591016548463357, 'East': 0.0591016548463357, 'odd': 0.0591016548463357, 'Christ\"': 0.0591016548463357, 'Red': 0.0591016548463357, '3D': 0.0591016548463357, 'even': 0.0591016548463357, 'what': 0.1182033096926714, '\"Darwin': 0.0591016548463357, 'FAQ:': 0.0591016548463357, 'religious': 0.1182033096926714, 'assisted': 0.0591016548463357, 'HUMANISM': 0.0591016548463357, 'expressed': 0.0591016548463357, 'This': 0.1773049645390071, 'version': 0.1182033096926714, 'goes': 0.0591016548463357, 'B\"ucherdienst': 0.0591016548463357, 'new': 0.0591016548463357, 'net': 0.0591016548463357, 'University': 0.1773049645390071, 'Short': 0.0591016548463357, 'hero': 0.0591016548463357, 'whose': 0.0591016548463357, 'Freedom': 0.0591016548463357, 'K': 0.1182033096926714, 'Think': 0.0591016548463357, 'EDGAR': 0.0591016548463357, 'HAUGHT': 0.0591016548463357, 'ranges': 0.0591016548463357, 'met': 0.0591016548463357, 'them': 0.0591016548463357, '24-hour': 0.0591016548463357, 'address': 0.0591016548463357, '\"An': 0.0591016548463357, 'Anthology\"': 0.0591016548463357, 'world-view': 0.1182033096926714, 'MD': 0.0591016548463357, 'great': 0.1182033096926714, 'substance': 0.0591016548463357, '0-8018-2494-X': 0.0591016548463357, 'study': 0.0591016548463357, 'Crimes': 0.0591016548463357, '(see': 0.0591016548463357, 'through': 0.0591016548463357, 'leaving': 0.0591016548463357, '89-64079': 0.0591016548463357, 'atoms\"': 0.0591016548463357, 'proof': 0.0591016548463357, 'makes': 0.0591016548463357, 'Papsttums\"': 0.0591016548463357, '430': 0.1182033096926714, 'Devil': 0.0591016548463357, 'god(s)\")': 0.1182033096926714, '\\xff': 0.0591016548463357, \"It's\": 0.0591016548463357, 'When': 0.0591016548463357, '(1981)': 0.0591016548463357, 'summons': 0.0591016548463357, \"Noyes'\": 0.0591016548463357, 'contradictions': 0.1182033096926714, 'send': 0.1182033096926714, '\"The': 0.9456264775413712, '0-345-29887-X': 0.0591016548463357, 'America\"': 0.0591016548463357, 'challenging': 0.0591016548463357, 'use': 0.0591016548463357, 'from': 0.6501182033096927, '0': 0.0591016548463357, '(posthumous)': 0.0591016548463357, 'inductive': 0.0591016548463357, 'contains': 0.1182033096926714, '0908': 0.0591016548463357, 'papal': 0.0591016548463357, 'live': 0.0591016548463357, 'explicitly': 0.0591016548463357, 'music': 0.0591016548463357, 'archives': 0.0591016548463357, 'God\"': 0.1182033096926714, 'Plantinga': 0.0591016548463357, 'terminally': 0.0591016548463357, 'sort': 0.0591016548463357, 'faith': 0.0591016548463357, 'under': 0.0591016548463357, 'about': 0.1182033096926714, 'mathew': 0.1182033096926714, 'American': 0.2364066193853428, 'appendix': 0.0591016548463357, 'VARIOUS': 0.0591016548463357, 'stick': 0.0591016548463357, 'V': 0.1182033096926714, 'earthers': 0.0591016548463357, '95': 0.1182033096926714, 'moulded': 0.0591016548463357, 'women': 0.0591016548463357, '1990': 0.0591016548463357, '1992': 0.0591016548463357, 'word': 0.0591016548463357, 'this': 0.2364066193853428, 'der': 0.1773049645390071, 'work': 0.1182033096926714, 'Library': 0.0591016548463357, '(Editor)': 0.0591016548463357, 'values': 0.0591016548463357, 'can': 0.1182033096926714, 'of': 3.4278959810874703, 'believed': 0.0591016548463357, 'making': 0.0591016548463357, 'example': 0.0591016548463357, 'history': 0.2364066193853428, \"Lelie's\": 0.0591016548463357, 'Islington': 0.0591016548463357, \"woman's\": 0.0591016548463357, '\"old': 0.0591016548463357, 'Contains': 0.0591016548463357, 'states': 0.0591016548463357, 'journal:': 0.0591016548463357, 'SELDES': 0.0591016548463357, 'mail-based': 0.0591016548463357, 'subjects': 0.0591016548463357, 'Norm': 0.0591016548463357, 'Hume': 0.0591016548463357, 'pink': 0.0591016548463357, 'information': 0.0591016548463357, '\"Neither': 0.0591016548463357, 'Mind': 0.0591016548463357, 'rather': 0.1182033096926714, 'technology': 0.0591016548463357, 'Journal': 0.0591016548463357, 'Lion': 0.0591016548463357, 'write': 0.0591016548463357, 'Prometheus': 0.2364066193853428, 'trilogy': 0.0591016548463357, 'mysteries': 0.0591016548463357, 'if': 0.0591016548463357, 'Examines': 0.0591016548463357, 'Looks': 0.0591016548463357, 'A': 0.5319148936170213, 'alternative': 0.0591016548463357, 'EXAMINER': 0.0591016548463357, \"Atwood's\": 0.0591016548463357, 'may': 0.0591016548463357, '1271': 0.0591016548463357, 'after': 0.0591016548463357, 'derived': 0.0591016548463357, 'different': 0.1182033096926714, 'British': 0.0591016548463357, 'outlawed': 0.0591016548463357, '0511/211216': 0.0591016548463357, 'such': 0.2364066193853428, 'concentrating': 0.0591016548463357, '1881': 0.0591016548463357, 'man': 0.0591016548463357, 'a': 1.5957446808510638, 'All': 0.0591016548463357, 'short': 0.0591016548463357, 'attempt': 0.0591016548463357, 'lines': 0.0591016548463357, 'One': 0.1182033096926714, 'tale': 0.0591016548463357, 'tendentious': 0.1182033096926714, '(\"the': 0.0591016548463357, 'fictitious': 0.0591016548463357, 'so': 0.1773049645390071, 'ultimate': 0.0591016548463357, '0-8018-3407-4': 0.0591016548463357, '78752-2973': 0.0591016548463357, 'Alt': 0.0591016548463357, 'quotations': 0.0591016548463357, '(512)': 0.1182033096926714, 'began': 0.0591016548463357, 'anyone': 0.0591016548463357, 'Bantam': 0.0591016548463357, \"Mackie's\": 0.0591016548463357, 'help': 0.0591016548463357, 'below)': 0.0591016548463357, 'mainly': 0.0591016548463357, 'brain': 0.1182033096926714, 'MIZ': 0.0591016548463357, 'including': 0.1182033096926714, 'polished': 0.0591016548463357, 'deity': 0.1182033096926714, '490': 0.0591016548463357, 'its': 0.0591016548463357, '1': 0.1182033096926714, 'style': 0.0591016548463357, 'His': 0.1182033096926714, 'group': 0.0591016548463357, 'closed;': 0.0591016548463357, \"Women's\": 0.0591016548463357, 'world\"': 0.0591016548463357, 'comply': 0.0591016548463357, 'MARTIN': 0.0591016548463357, '\"Atheism:': 0.0591016548463357, 'mail': 0.1182033096926714, 'Itself\"': 0.0591016548463357, 'defining': 0.0591016548463357, '(716)': 0.0591016548463357, 'FOUNDATION': 0.0591016548463357, 'Evolution': 0.1182033096926714, 'Platinga': 0.0591016548463357, '1770-1900': 0.0591016548463357, 'L': 0.0591016548463357, 'Bay': 0.0591016548463357, 'Foote': 0.0591016548463357, 'they': 0.0591016548463357, 'not': 0.0591016548463357, 'hunted': 0.0591016548463357, 'day': 0.0591016548463357, 'bank': 0.0591016548463357, 'Ethical': 0.0591016548463357, 'blueprints': 0.0591016548463357, 'San': 0.0591016548463357, 'Noteworthy': 0.0591016548463357, 'Gnostic': 0.0591016548463357, 'Seite': 0.0591016548463357, '\"What': 0.0591016548463357, 'covering': 0.0591016548463357, 'ROSA': 0.0591016548463357, 'grows': 0.0591016548463357, 'uncovering': 0.0591016548463357, 'filling': 0.0591016548463357, 'BOOKS': 0.0591016548463357, 'technology-based': 0.0591016548463357, 'truth': 0.0591016548463357, 'dogmatic': 0.0591016548463357, 'accompanied': 0.0591016548463357, 'beneath': 0.0591016548463357, '372': 0.0591016548463357, 'traces': 0.0591016548463357, 'Humanism:': 0.0591016548463357, 'Last-modified:': 0.0591016548463357, 'Philips': 0.0591016548463357, 'From': 0.0591016548463357, 'fired': 0.0591016548463357, 'series': 0.0591016548463357, 'fish': 0.2364066193853428, 'revised': 0.0591016548463357, '700': 0.0591016548463357, 'monks': 0.0591016548463357, '702': 0.0591016548463357, '88': 0.0591016548463357, 'books': 0.1773049645390071, 'hanged': 0.0591016548463357, 'Unbelief': 0.0591016548463357, 'defences': 0.0591016548463357, 'cathedral': 0.0591016548463357, 'beyond': 0.0591016548463357, 'description': 0.0591016548463357, 'is:': 0.1182033096926714, 'unsupportable': 0.0591016548463357, '458-1244': 0.0591016548463357, 'publish': 0.2364066193853428, 'rational': 0.0591016548463357, 'Joe': 0.0591016548463357, 'Internationaler': 0.1182033096926714, 'Focusses': 0.0591016548463357, 'PRESS': 0.0591016548463357, 'Holloway': 0.0591016548463357, '(hardcover;': 0.0591016548463357, 'philosophy': 0.0591016548463357, 'belief': 0.1182033096926714, 'G': 0.0591016548463357, 'DISCH': 0.0591016548463357, 'cars': 0.0591016548463357, 'sinful': 0.0591016548463357, 'rely': 0.0591016548463357, '(hardcover)': 0.0591016548463357, 'ancient': 0.0591016548463357, 'adulteries': 0.0591016548463357, 'freethought': 0.0591016548463357, 'W': 0.1182033096926714, 'which': 0.5319148936170213, 'Buffalo': 0.1773049645390071, 'forbids': 0.0591016548463357, 'People': 0.0591016548463357, '<mathew@mantis': 0.0591016548463357, 'National': 0.1182033096926714, 'N19': 0.0591016548463357, 'tries': 0.0591016548463357, 'used': 0.1182033096926714, 'times': 0.1182033096926714, 'AMERICAN': 0.0591016548463357, 'NORM': 0.0591016548463357, 'bumper': 0.0591016548463357, 'dismissively': 0.0591016548463357, 'first': 0.0591016548463357, 'origin': 0.0591016548463357, 'Rationalist': 0.0591016548463357, 'pot-healer': 0.0591016548463357, 'Hrsg': 0.0591016548463357, 'Bund': 0.0591016548463357, 'MIZ-Vertrieb': 0.0591016548463357, 'dull': 0.0591016548463357, 'paperback': 0.0591016548463357, 'one': 0.0591016548463357, 'feet': 0.0591016548463357, 'philosophical': 0.1182033096926714, 'directly': 0.0591016548463357, 'Hollywood': 0.0591016548463357, 'plastic': 0.0591016548463357, 'idea': 0.1182033096926714, 'Conduit': 0.0591016548463357, 'story': 0.1182033096926714, '\"': 0.0591016548463357, 'North': 0.0591016548463357, 'exists': 0.1773049645390071, 'Congress': 0.1182033096926714, 'unknown': 0.0591016548463357, 'mysteriously': 0.0591016548463357, 'system': 0.0591016548463357, 'construct': 0.0591016548463357, 'Konfessionslosen': 0.1182033096926714, 'doomsday': 0.1182033096926714, 'their': 0.1773049645390071, 'returns': 0.0591016548463357, \"Cardiff's\": 0.0591016548463357, 'observations': 0.0591016548463357, 'Leibowitz\"': 0.1182033096926714, 'Press': 0.41371158392434987, 'white': 0.0591016548463357, 'remote': 0.0591016548463357, 'Association': 0.1182033096926714, 'that': 0.4728132387706856, 'et': 0.0591016548463357, '\"Saint': 0.0591016548463357, 'lists': 0.0591016548463357, 'approachable': 0.0591016548463357, 'R': 0.1182033096926714, 'western': 0.0591016548463357, 'somewhat': 0.1773049645390071, 'doctors': 0.0591016548463357, '$4': 0.1182033096926714, 'France': 0.0591016548463357, 'Post': 0.0591016548463357, 'Road': 0.1182033096926714, 'History': 0.1182033096926714, 'to:': 0.3546099290780142, 'uk>': 0.0591016548463357, 'kind': 0.0591016548463357, '14': 0.0591016548463357, '7215': 0.0591016548463357, 'imputation': 0.0591016548463357, 'Canyon': 0.0591016548463357, 'Theism\"': 0.1773049645390071, 'friend': 0.0591016548463357, 'were': 0.0591016548463357, 'Paperbacks': 0.0591016548463357, 'atheistic)': 0.0591016548463357, 'theocracy': 0.0591016548463357, 'and': 3.0732860520094563, '880': 0.1182033096926714, 'ISBN': 0.29550827423167847, 'remained': 0.0591016548463357, 'MILLER': 0.0591016548463357, 'DE': 0.0591016548463357, 'contempory': 0.0591016548463357, 'AAH': 0.0591016548463357, 'It': 0.1773049645390071, 'Hannover': 0.0591016548463357, 'AAP': 0.1182033096926714, 'refreshingly': 0.0591016548463357, '\"Without': 0.0591016548463357, 'any': 0.0591016548463357, 'sell': 0.0591016548463357, '\"Faith': 0.0591016548463357, '(1977)': 0.0591016548463357, 'Christian': 0.2364066193853428, '\"negative': 0.0591016548463357, 'available)': 0.0591016548463357, '-': 0.0591016548463357, 'theses': 0.0591016548463357, 'God': 0.5910165484633569, 'also': 0.1773049645390071, 'emphasis': 0.0591016548463357, 'Appendix': 0.0591016548463357, 'Germany': 0.2364066193853428, 'amusing': 0.0591016548463357, 'Santa': 0.1182033096926714, '0-87722-642-3': 0.0591016548463357, 'Hall': 0.0591016548463357, 'retroactively:': 0.0591016548463357, '\"Davy\"': 0.0591016548463357, 'Lynn': 0.1182033096926714, 'sure': 0.0591016548463357, 'price': 0.0591016548463357, 'who': 0.1773049645390071, 'M': 0.1182033096926714, 'PANGBORN': 0.0591016548463357, 'paid': 0.0591016548463357, 'most': 0.0591016548463357, 'Without': 0.1773049645390071, 'rejected': 0.0591016548463357, 'sheets': 0.0591016548463357, 'Existence': 0.1182033096926714, 'Justification\"': 0.0591016548463357, 'The': 0.5319148936170213, 'pages': 0.2364066193853428, 'restatements': 0.0591016548463357, 'Mackie': 0.0591016548463357, 'Descartes': 0.0591016548463357, 'FROM': 0.0591016548463357, 'D-3000': 0.0591016548463357, 'Philadelphia': 0.0591016548463357, 'Freethinker\"': 0.0591016548463357, 'listing': 0.0591016548463357, '2nd': 0.0591016548463357, \"you'll\": 0.0591016548463357, '0-87722-767-5': 0.0591016548463357, 'Bible\"': 0.0591016548463357, 'Earth': 0.1182033096926714, 'mailing': 0.0591016548463357, 'WC1R': 0.1182033096926714, 'saying': 0.0591016548463357, 'particularly': 0.0591016548463357, '\"African': 0.0591016548463357, 'rambling': 0.0591016548463357, 'Catholic': 0.0591016548463357, 'Baltimore': 0.0591016548463357, 'ATHEIST': 0.0591016548463357, 'Edition)\"': 0.0591016548463357, '664': 0.0591016548463357, '1266': 0.0591016548463357, 'WI': 0.0591016548463357, 'Religion': 0.0591016548463357, 'PROMETHEUS': 0.0591016548463357, 'radio': 0.0591016548463357, 'N1': 0.0591016548463357, 'range': 0.0591016548463357, 'Argues': 0.0591016548463357, 'Resources': 0.1773049645390071, 'principal': 0.0591016548463357, 'Kingdom': 0.0591016548463357, 'giant': 0.0591016548463357, 'based': 0.0591016548463357, 'RICHARD': 0.0591016548463357, 'Clarendon': 0.0591016548463357, 'with': 0.29550827423167847, 'written': 0.1182033096926714, 'Jr': 0.0591016548463357, 'than': 0.1182033096926714, 'only': 0.1773049645390071, '541': 0.0591016548463357, 'black': 0.1182033096926714, 'York': 0.1182033096926714, 'gods': 0.0591016548463357, 'quotations\"': 0.0591016548463357, 'he': 0.3546099290780142, 'des': 0.0591016548463357, 'Atheisten': 0.1182033096926714, 'Organizations': 0.0591016548463357, 'over': 0.0591016548463357, 'his': 0.1773049645390071, 'above': 0.0591016548463357, 'Ballantine': 0.0591016548463357, 'get': 0.1773049645390071, 'secular': 0.0591016548463357, 'de': 0.0591016548463357, '\"replacements': 0.0591016548463357, 'criticized': 0.0591016548463357, 'beam': 0.0591016548463357, 'ones': 0.0591016548463357, 'atheism/resources': 0.0591016548463357, 'Kung': 0.0591016548463357, 'probably': 0.0591016548463357, 'carries': 0.0591016548463357, 'GEORGE': 0.0591016548463357, 'gem': 0.0591016548463357, 'following': 0.0591016548463357, 'fallible': 0.0591016548463357, 'Christianity\"': 0.0591016548463357, 'MARGARET': 0.0591016548463357, 'humanism': 0.0591016548463357, 'ATWOOD': 0.0591016548463357, 'enlighting': 0.0591016548463357, 'paper': 0.0591016548463357, 'she': 0.1773049645390071, '91605': 0.0591016548463357, 'Allen': 0.0591016548463357, 'obscure': 0.0591016548463357, '7723': 0.0591016548463357, 'wrote': 0.1773049645390071, 'WALTER': 0.0591016548463357, 'set': 0.1182033096926714, 'For': 0.2364066193853428, 'com>': 0.0591016548463357, '316': 0.0591016548463357, 'Christianity': 0.1773049645390071, 'schizophrenic': 0.0591016548463357, 'edition': 0.1182033096926714, 'justification': 0.0591016548463357, 'are': 0.6501182033096927, 'existence': 0.1773049645390071, 'Fax:': 0.0591016548463357, 'best': 0.0591016548463357, '#4': 0.0591016548463357, 'Religion\"': 0.1182033096926714, 'formalistic': 0.0591016548463357, '831': 0.0591016548463357, 'Comprehensive': 0.0591016548463357, 'review': 0.0591016548463357, 'Hopkins': 0.0591016548463357, 'See': 0.0591016548463357, 'Berlin': 0.1182033096926714, 'unable': 0.0591016548463357, 'various': 0.1182033096926714, 'Death\"': 0.0591016548463357, 'refutations': 0.0591016548463357, 'stories': 0.1182033096926714, 'reading': 0.0591016548463357, 'Pot-Healer\"': 0.0591016548463357, 'wide': 0.0591016548463357, 'available': 0.0591016548463357, 'King': 0.0591016548463357, 'Bible': 0.3546099290780142, 'IBKA': 0.1773049645390071, 'FOR': 0.0591016548463357, '\"VALIS\"': 0.0591016548463357, 'Atheist': 0.29550827423167847, 'attention': 0.0591016548463357, 'GORDON': 0.0591016548463357, 'Against': 0.0591016548463357, 'Atheism': 0.1182033096926714, 'refuting': 0.0591016548463357, 'premise': 0.0591016548463357, 'African': 0.1182033096926714, 'Alt-atheism-archive-name:': 0.0591016548463357, '256-8900': 0.0591016548463357, 'revoked': 0.0591016548463357, 'many': 0.1773049645390071, 'Fish': 0.0591016548463357, 'Quite': 0.0591016548463357, 'against': 0.0591016548463357, 'postpaid': 0.0591016548463357, 'etc': 0.0591016548463357, 'became': 0.0591016548463357, 'und': 0.1773049645390071, 'reply': 0.0591016548463357, 'Kant': 0.0591016548463357, 'Handbook\"': 0.0591016548463357, \"'The\": 0.1182033096926714, 'Divine': 0.0591016548463357, 'co': 0.1773049645390071, 'Illustrated': 0.0591016548463357, 'simple': 0.0591016548463357, 'seems': 0.0591016548463357, 'period': 0.0591016548463357, 'Fiction': 0.0591016548463357, '3005': 0.0591016548463357, 'church': 0.0591016548463357, 'bizarre': 0.0591016548463357, 'writing': 0.0591016548463357, 'Temple': 0.1182033096926714, 'considering': 0.0591016548463357, 'late': 0.0591016548463357, 'pp': 0.0591016548463357, 'raise': 0.0591016548463357, 'second': 0.0591016548463357, 'monthly': 0.0591016548463357, 'Creed\"': 0.0591016548463357, 'COHEN': 0.0591016548463357, 'outstanding': 0.0591016548463357, 'Amongst': 0.0591016548463357, 'quickly': 0.0591016548463357, 'punished': 0.0591016548463357, 'Archive-name:': 0.0591016548463357, 'FREEDOM': 0.0591016548463357, 'Fernwright': 0.0591016548463357, 'assassinated': 0.0591016548463357, 'Card': 0.0591016548463357, 'Sidgwick': 0.0591016548463357, 'life': 0.0591016548463357, '(necessarily)': 0.0591016548463357, 'easy': 0.0591016548463357, 'assorted': 0.1773049645390071, 'CA': 0.0591016548463357, 'Berkeley': 0.0591016548463357, 'readings': 0.0591016548463357, 'usage': 0.0591016548463357, 'relevance:': 0.0591016548463357, 'lives': 0.0591016548463357, 'abortions': 0.0591016548463357, 'demand': 0.0591016548463357, '\"right\"': 0.0591016548463357, 'Subject:': 0.0591016548463357, 'atheism\"': 0.1182033096926714, 'hidden': 0.0591016548463357, 'present': 0.1182033096926714, 'Droemer-Knaur': 0.0591016548463357, 'novel': 0.1773049645390071, 'laser': 0.0591016548463357, 'twisted': 0.0591016548463357, 'Conway': 0.0591016548463357, 'single': 0.0591016548463357, \"Haught's\": 0.0591016548463357, 'will': 0.0591016548463357, 'while': 0.0591016548463357, '\"non-belief': 0.0591016548463357, 'Laurel': 0.0591016548463357, 'property': 0.0591016548463357, 'Any': 0.0591016548463357, 'chilling': 0.0591016548463357, '(and': 0.0591016548463357, 'aesthetics': 0.0591016548463357, 'Miracle': 0.1182033096926714, '(Materialien': 0.0591016548463357, '071': 0.29550827423167847, 'is': 1.3002364066193854, 'Dick': 0.1182033096926714, 'agnostic': 0.0591016548463357, 'it': 0.29550827423167847, 'Write': 0.29550827423167847, 'mantis': 0.0591016548463357, \"Martin's\": 0.0591016548463357, 'in': 1.0638297872340425, 'ironic': 0.0591016548463357, 'Konfessionslosesn': 0.0591016548463357, 'nation': 0.0591016548463357, 'stickers': 0.0591016548463357, 'decisively': 0.0591016548463357, 'centuries': 0.0591016548463357, 'Unfortunately': 0.0591016548463357, 'containing': 0.0591016548463357, 'clerical': 0.0591016548463357, '\"A': 0.1182033096926714, '\"produce': 0.0591016548463357, 'secularization': 0.0591016548463357, ')': 0.0591016548463357, 'make': 0.0591016548463357, 'fallacies': 0.0591016548463357, 'Newman': 0.0591016548463357, 'another': 0.0591016548463357, 'upon': 0.0591016548463357, 'arguments': 0.29550827423167847, 'copying': 0.0591016548463357, 'Die': 0.0591016548463357, 'Oxford': 0.1182033096926714, 'events': 0.0591016548463357, 'difficult': 0.0591016548463357, '<figmo@netcom': 0.0591016548463357, 'Politisches': 0.0591016548463357, 'fuss': 0.0591016548463357, 'novels': 0.1182033096926714, 'Zeit': 0.0591016548463357, 'comprehensive': 0.1182033096926714, '3NL': 0.0591016548463357, 'conceived': 0.0591016548463357, 'Humanism': 0.1182033096926714, 'effect': 0.0591016548463357, 'delight': 0.0591016548463357, 'Canticle': 0.0591016548463357, 'wired': 0.0591016548463357, 'Humanist': 0.0591016548463357, 'characters': 0.1182033096926714, 'realm': 0.0591016548463357, '14228-2197': 0.0591016548463357, 'recent': 0.0591016548463357, 'rebut': 0.0591016548463357, 'anthology': 0.0591016548463357, 'Religious': 0.0591016548463357, 'well': 0.1182033096926714, 'spent': 0.0591016548463357, 'Philosophical': 0.0591016548463357, 'In': 0.1182033096926714, 'organization': 0.0591016548463357, 'the': 3.6643026004728134, 'opinions': 0.0591016548463357, 'United': 0.0591016548463357, 'High': 0.0591016548463357, 'absurdities': 0.0591016548463357, 'less': 0.0591016548463357, 'true': 0.0591016548463357, 'older)': 0.0591016548463357, 'Passage': 0.0591016548463357, 'fundamentalists': 0.1182033096926714, '(i': 0.0591016548463357, 'atomic': 0.1182033096926714, \"person's\": 0.0591016548463357, '7119': 0.0591016548463357, 'reality': 0.0591016548463357, 'compared': 0.0591016548463357, 'addresses': 0.0591016548463357, 'IBDK': 0.0591016548463357, 'bibliography': 0.0591016548463357, '\"dictionary': 0.0591016548463357, 'STEIN': 0.0591016548463357, 'alternate': 0.0591016548463357, 'had': 0.0591016548463357, 'EDMUND': 0.0591016548463357, 'RELIGION': 0.0591016548463357, 'other': 0.1773049645390071, 'developments': 0.0591016548463357, 'Although': 0.1182033096926714, 'SF': 0.0591016548463357, 'dunkle': 0.0591016548463357, 'Swinburne': 0.29550827423167847, 'Philip': 0.0591016548463357, 'has': 0.1182033096926714, 'Anselm': 0.0591016548463357, 'take': 0.0591016548463357, 'god;': 0.0591016548463357, 'Madness\"': 0.0591016548463357, 'They': 0.0591016548463357, 'fate': 0.0591016548463357, 'Non-fiction': 0.0591016548463357, 'read': 0.0591016548463357, 'James': 0.0591016548463357, '\"Views': 0.0591016548463357, 'archive-server@mantis': 0.0591016548463357, 'possibly': 0.0591016548463357, '8EW': 0.0591016548463357, 'know': 0.0591016548463357, 'listening': 0.0591016548463357, 'ALLEN': 0.0591016548463357, 'England': 0.0591016548463357, 'PHILIP': 0.0591016548463357, 'Foote:': 0.0591016548463357, '7251': 0.0591016548463357, 'D-1000': 0.1182033096926714, 'DESIGNS': 0.0591016548463357, '59': 0.0591016548463357, 'like': 0.0591016548463357, 'ill': 0.0591016548463357, 'erste': 0.0591016548463357, 'immoralities': 0.1182033096926714, 'Creed': 0.0591016548463357, 'pregnant': 0.0591016548463357, '1989)': 0.0591016548463357, 'server': 0.0591016548463357, 'London': 0.2364066193853428, 'popular': 0.0591016548463357, 'moral': 0.0591016548463357, 'works': 0.0591016548463357, 'terminology': 0.0591016548463357, '\"Vicars': 0.0591016548463357, 'MACKIE': 0.0591016548463357, 'Kierkegaard': 0.0591016548463357, 'right': 0.0591016548463357, 'old': 0.0591016548463357, 'often': 0.1773049645390071, 'classical': 0.1182033096926714, 'people': 0.29550827423167847, 'some': 0.1773049645390071, 'back': 0.0591016548463357, 'Version:': 0.0591016548463357, '53701': 0.0591016548463357, \"There's\": 0.0591016548463357, 'critique': 0.0591016548463357, 'New': 0.1773049645390071, 'Net': 0.0591016548463357, 'newsletter': 0.0591016548463357, '4RH': 0.0591016548463357, 'and/or': 0.0591016548463357, 'divine': 0.0591016548463357, '4RL': 0.0591016548463357, 'Biblical': 0.0591016548463357, '467-9525': 0.0591016548463357, 'demonstrates': 0.0591016548463357, 'unbelief': 0.0591016548463357, 'Men': 0.0591016548463357, 'However': 0.0591016548463357, 'per': 0.0591016548463357, 'considers': 0.0591016548463357, 'religion': 0.1182033096926714, 'Catalog': 0.0591016548463357, 'SWINBURNE': 0.0591016548463357, 'statements': 0.0591016548463357, 'symbol': 0.0591016548463357, 'He': 0.1182033096926714, 'Box': 0.1773049645390071, 'be': 0.2364066193853428, 'particular': 0.0591016548463357, 'Origins': 0.0591016548463357, 'performed': 0.0591016548463357, 'Christians': 0.1182033096926714, 'MICHAEL': 0.0591016548463357, 'O': 0.1773049645390071, '\"Gottes': 0.0591016548463357, '(German': 0.0591016548463357, 'Place': 0.0591016548463357, 'become': 0.0591016548463357, 'post': 0.0591016548463357, 'by': 0.41371158392434987, 'dead': 0.1182033096926714, 'zur': 0.0591016548463357, 'on': 0.5319148936170213, 'Madison': 0.0591016548463357, 'Square': 0.0591016548463357, 'Glenn': 0.0591016548463357, 'December': 0.0591016548463357, \"Morality'\": 0.0591016548463357, 'US': 0.1773049645390071, 'magazine': 0.0591016548463357, 'Americans': 0.1182033096926714, 'Amherst': 0.0591016548463357, \"Handmaid's\": 0.0591016548463357, 'Cameron': 0.0591016548463357, 'or': 0.41371158392434987, 'own': 0.0591016548463357, 'letters': 0.0591016548463357, '14226': 0.0591016548463357, 'JAMES': 0.1182033096926714, 'into': 0.0591016548463357, 'Rationalism\"': 0.0591016548463357, 'fish\"': 0.0591016548463357, 'intellectual': 0.0591016548463357, 'down': 0.0591016548463357, 'accounts': 0.0591016548463357, 'been': 0.0591016548463357, 'or:': 0.0591016548463357, 'TURNER': 0.0591016548463357, 'Includes': 0.1182033096926714, 'thoughts\"': 0.0591016548463357, '1986': 0.0591016548463357, 'Designs': 0.1182033096926714, 'Ball': 0.1182033096926714, 'paraphernalia': 0.0591016548463357, '837-2475': 0.0591016548463357, 'Secular': 0.1182033096926714, 'AFRICAN-AMERICANS': 0.0591016548463357, '1988': 0.0591016548463357, 'why': 0.0591016548463357, 'NY': 0.1182033096926714, \"Lamb's\": 0.0591016548463357, '\"Holy': 0.1182033096926714, 'way': 0.1182033096926714, 'was': 0.0591016548463357, 'files': 0.0591016548463357, 'THOMAS': 0.0591016548463357, '750': 0.0591016548463357, 'J': 0.0591016548463357, 'Johns': 0.0591016548463357, 'but': 0.29550827423167847, 'Rosa': 0.0591016548463357, 'volume': 0.1182033096926714, '(608)': 0.0591016548463357, 'newer': 0.0591016548463357, 'articles': 0.0591016548463357, '226': 0.0591016548463357, 'Austin': 0.1182033096926714, 'atrocities': 0.0591016548463357, 'Addresses': 0.0591016548463357, 'begins': 0.0591016548463357, 'non-existence': 0.0591016548463357, '(paper)': 0.1182033096926714, 'Gold': 0.0591016548463357, 'versions': 0.0591016548463357, 'inside': 0.0591016548463357, 'Diener': 0.0591016548463357, 'planet': 0.0591016548463357, 'Society': 0.1773049645390071, 'Britain': 0.0591016548463357, 'Books': 0.41371158392434987, '0-910309-26-4': 0.0591016548463357, 'uh': 0.0591016548463357, 'uk': 0.1182033096926714, 'hand-waving': 0.0591016548463357, 'again': 0.0591016548463357, '140195': 0.0591016548463357, 'more': 0.1773049645390071, 'detailed': 0.0591016548463357, 'DICK': 0.0591016548463357, 'USA': 0.2364066193853428, '78714-0195': 0.0591016548463357, 'describe': 0.0591016548463357, 'al': 0.0591016548463357, 'an': 0.1773049645390071, 'as': 0.5910165484633569, 'at': 0.2364066193853428, 'ink': 0.0591016548463357, 'axiarchism': 0.0591016548463357, 'Darwin': 0.1182033096926714, '(Revised': 0.0591016548463357, 'archive': 0.0591016548463357, '(ultimately)': 0.0591016548463357, '11': 0.0591016548463357, 'Francisco': 0.0591016548463357, 'TX': 0.1182033096926714, 'when': 0.0591016548463357, 'scholarly': 0.0591016548463357, '41': 0.1182033096926714, 'book': 0.2364066193853428, 'thought-provoking': 0.0591016548463357, 'better': 0.0591016548463357, 'Reason\"': 0.0591016548463357, 'you': 0.0591016548463357, 'PETER': 0.0591016548463357, 'From:': 0.0591016548463357, 'Case': 0.0591016548463357, 'area': 0.1182033096926714, 'Great': 0.0591016548463357, 'atheism/index': 0.0591016548463357, 'star': 0.0591016548463357, 'living': 0.0591016548463357, 'critiques': 0.0591016548463357, 'Drive': 0.0591016548463357, 'includes': 0.0591016548463357, 'push': 0.0591016548463357, 'persecution': 0.0591016548463357, 'Tale\"': 0.0591016548463357, 'Murder': 0.0591016548463357, 'South': 0.0591016548463357, 'searches': 0.0591016548463357, 'e': 0.1773049645390071, 'for': 0.8274231678486997, 'atheist': 0.2364066193853428, 'Informationen': 0.0591016548463357, 'An': 0.2364066193853428, 'atheism': 0.1773049645390071, 'Street': 0.1182033096926714, 'Anthology': 0.0591016548463357, 'Invasion\"': 0.0591016548463357, 'craftsmen': 0.0591016548463357, 'deluxe': 0.0591016548463357}, {'Foundation': 0.019175455417066157, 'superficially': 0.019175455417066157, 'q0Z4hSSPpAU=': 0.019175455417066157, 'teaching': 0.019175455417066157, 'worth': 0.05752636625119847, 'today?': 0.019175455417066157, 'every': 0.05752636625119847, 'reforms': 0.019175455417066157, 'vast': 0.038350910834132314, 'progression': 0.019175455417066157, 'SIGNATURE-----': 0.038350910834132314, \"'ought'\": 0.019175455417066157, 'force': 0.019175455417066157, 'pragmatic': 0.019175455417066157, 'others?': 0.019175455417066157, 'likely': 0.019175455417066157, 'even': 0.3451581975071908, 'Eventually': 0.019175455417066157, 'incompatible': 0.019175455417066157, 'non-detectable': 0.019175455417066157, 'above': 0.05752636625119847, 'churches': 0.05752636625119847, 'increasing': 0.019175455417066157, 'ever': 0.05752636625119847, 'told': 0.038350910834132314, 'morality?\"': 0.019175455417066157, 'met': 0.019175455417066157, 'beliefs?': 0.019175455417066157, \"aren't\": 0.09587727708533078, 'study': 0.019175455417066157, \"someone's\": 0.019175455417066157, 'campaign': 0.038350910834132314, 'Rather': 0.019175455417066157, 'explained': 0.038350910834132314, 'patience': 0.019175455417066157, 'moral': 0.11505273250239693, 'Version:': 0.038350910834132314, 'would': 0.1342281879194631, 'hospital': 0.019175455417066157, 'chooses': 0.019175455417066157, 'cannibal': 0.019175455417066157, 'call': 0.038350910834132314, 'therefore': 0.05752636625119847, 'until': 0.019175455417066157, 'exist?\"': 0.019175455417066157, 'successful': 0.05752636625119847, 'brings': 0.019175455417066157, '9%': 0.019175455417066157, 'mathew': 0.05752636625119847, 'dogma': 0.019175455417066157, 'interaction': 0.038350910834132314, 'hold': 0.05752636625119847, 'must': 0.2684563758389262, 'me': 0.019175455417066157, '1993': 0.019175455417066157, '1992': 0.019175455417066157, 'join': 0.019175455417066157, 'pursue': 0.019175455417066157, 'work': 0.09587727708533078, '\"born': 0.038350910834132314, 'my': 0.019175455417066157, 'example': 0.1725790987535954, 'believer?': 0.019175455417066157, 'give': 0.019175455417066157, 'involve': 0.019175455417066157, 'indicates': 0.038350910834132314, 'want': 0.07670182166826463, 'present-day': 0.019175455417066157, 'legislate': 0.019175455417066157, 'end': 0.038350910834132314, 'intoxicated': 0.019175455417066157, 'provide': 0.038350910834132314, 'how': 0.19175455417066156, 'answer': 0.07670182166826463, 'widespread': 0.019175455417066157, 'A': 0.1342281879194631, 'believers': 0.1725790987535954, 'coined': 0.019175455417066157, 'after': 0.07670182166826463, 'demanding': 0.019175455417066157, 'hence': 0.019175455417066157, 'wrong': 0.019175455417066157, '\"live': 0.019175455417066157, 'meaningful': 0.038350910834132314, 'All': 0.038350910834132314, 'attempt': 0.019175455417066157, 'Sceptical': 0.019175455417066157, 'ultimate': 0.019175455417066157, 'Alt': 0.019175455417066157, 'order': 0.019175455417066157, 'origin': 0.019175455417066157, 'interpretation': 0.038350910834132314, 'over': 0.09587727708533078, '\"atheist\"': 0.019175455417066157, 'inconclusive': 0.019175455417066157, 'before': 0.07670182166826463, 'His': 0.019175455417066157, 'fit': 0.019175455417066157, 'expectations': 0.019175455417066157, 'better': 0.038350910834132314, 'then': 0.1342281879194631, 'them': 0.28763183125599234, 'Judaism': 0.019175455417066157, 'weakness': 0.019175455417066157, 'effects': 0.019175455417066157, 'they': 0.9204218600191755, 'schools': 0.019175455417066157, 'yourself': 0.019175455417066157, 'represents': 0.038350910834132314, 'unexceptional': 0.019175455417066157, 'reasonable': 0.019175455417066157, 'each': 0.038350910834132314, 'mean': 0.09587727708533078, 'financial': 0.019175455417066157, 'intended?': 0.019175455417066157, 'arrives': 0.019175455417066157, 'god': 0.019175455417066157, 'encourage': 0.038350910834132314, 'coffee?\"': 0.019175455417066157, '\"memes\"': 0.019175455417066157, 'eternal': 0.05752636625119847, 'free': 0.019175455417066157, 'campaigns': 0.019175455417066157, 'created': 0.038350910834132314, 'September': 0.019175455417066157, 'messages': 0.038350910834132314, 'SIGNED': 0.019175455417066157, 'already': 0.019175455417066157, 'Please': 0.038350910834132314, 'encouraging': 0.038350910834132314, 'restrict': 0.019175455417066157, 'Buddhism': 0.038350910834132314, 'another': 0.07670182166826463, 'AIDS': 0.019175455417066157, 'leaders': 0.019175455417066157, 'similarly': 0.019175455417066157, 'needed': 0.019175455417066157, 'listed': 0.019175455417066157, 'listen': 0.019175455417066157, 'Search': 0.019175455417066157, 'B': 0.09587727708533078, 'inexact': 0.019175455417066157, '\"religion\"': 0.019175455417066157, 'somewhat': 0.019175455417066157, 'legally': 0.019175455417066157, 'begins': 0.019175455417066157, 'mercy': 0.019175455417066157, 'classed': 0.019175455417066157, 'matter': 0.09587727708533078, 'silly': 0.019175455417066157, 'spectrum': 0.019175455417066157, 'Person': 0.019175455417066157, 'talking': 0.019175455417066157, '-----BEGIN': 0.038350910834132314, 'seen': 0.019175455417066157, 'seem': 0.019175455417066157, 'Christian': 0.2109300095877277, 'latter': 0.019175455417066157, 'responsible': 0.019175455417066157, 'predominantly': 0.019175455417066157, 'subjects': 0.019175455417066157, 'They': 0.2109300095877277, 'fuss?': 0.019175455417066157, 'though': 0.038350910834132314, 'object': 0.019175455417066157, 'see!\"': 0.019175455417066157, 'plenty': 0.019175455417066157, 'morality': 0.09587727708533078, '\"strong': 0.05752636625119847, 'metal': 0.019175455417066157, 'digress': 0.019175455417066157, 'points': 0.019175455417066157, 'non-detectable?\"': 0.019175455417066157, 'principle': 0.019175455417066157, 'responded': 0.019175455417066157, 'came': 0.038350910834132314, 'saying': 0.038350910834132314, 'Union': 0.038350910834132314, 'random': 0.019175455417066157, 'religions': 0.23010546500479387, 'attempts': 0.019175455417066157, 'subtle': 0.019175455417066157, 'explain': 0.019175455417066157, 'Others': 0.019175455417066157, 'adequate': 0.019175455417066157, 'personality': 0.019175455417066157, 'do': 0.4218600191754554, '\"You': 0.038350910834132314, 'stop': 0.019175455417066157, 'perceive': 0.019175455417066157, 'Organization': 0.019175455417066157, 'Soviet': 0.05752636625119847, 'societies': 0.019175455417066157, 'runs': 0.019175455417066157, '\"socially': 0.019175455417066157, 'countries': 0.05752636625119847, 'fields': 0.038350910834132314, 'them;': 0.019175455417066157, 'explanations': 0.038350910834132314, 'Christianity': 0.019175455417066157, 'observed': 0.019175455417066157, 'depends': 0.038350910834132314, 'result': 0.038350910834132314, '\"for\"': 0.019175455417066157, 'best': 0.05752636625119847, 'subject': 0.019175455417066157, 'said': 0.07670182166826463, 'game\"': 0.019175455417066157, 'unable': 0.019175455417066157, 'disprove': 0.019175455417066157, 'sorts': 0.019175455417066157, 'approach': 0.019175455417066157, 'Huxley': 0.019175455417066157, 'we': 0.23010546500479387, 'nature': 0.019175455417066157, 'ignorance': 0.019175455417066157, 'wear': 0.038350910834132314, 'Alt-atheism-archive-name:': 0.019175455417066157, 'essentially': 0.05752636625119847, 'ill': 0.019175455417066157, 'against': 0.05752636625119847, '\"enemy\"': 0.019175455417066157, 'argue': 0.05752636625119847, 'asked': 0.05752636625119847, 'Weak': 0.019175455417066157, 'unicorns': 0.05752636625119847, 'Sorry': 0.019175455417066157, 'speak': 0.019175455417066157, 'puts': 0.019175455417066157, 'basis': 0.038350910834132314, 'claiming': 0.019175455417066157, 'been': 0.15340364333652926, 'much': 0.11505273250239693, 'basic': 0.038350910834132314, 'superhuman': 0.05752636625119847, 'life': 0.1725790987535954, 'drugs': 0.019175455417066157, 'concerning': 0.05752636625119847, '\"certain\"': 0.019175455417066157, 'proselytize': 0.019175455417066157, 'maximally': 0.019175455417066157, 'patronizing': 0.019175455417066157, 'has': 0.23010546500479387, 'Beware': 0.038350910834132314, 'aid': 0.038350910834132314, 'remembering': 0.019175455417066157, 'redefinitions': 0.019175455417066157, 'faith\"': 0.019175455417066157, 'is': 2.358581016299137, 'it': 1.2080536912751678, 'obeying': 0.019175455417066157, 'world-wide': 0.019175455417066157, 'in': 1.476510067114094, 'campaigning': 0.019175455417066157, 'interacts': 0.019175455417066157, 'Historically': 0.019175455417066157, 'if': 0.3259827420901246, '\"moral\"': 0.019175455417066157, 'Jeffrey': 0.019175455417066157, 'things': 0.15340364333652926, 'make': 0.1342281879194631, '\"I': 0.019175455417066157, 'conclusions;': 0.019175455417066157, 'unfortunate': 0.019175455417066157, 'Of': 0.15340364333652926, 'several': 0.019175455417066157, 'atheists\"': 0.019175455417066157, 'MESSAGE-----': 0.019175455417066157, 'Maybe': 0.019175455417066157, '90%': 0.019175455417066157, 'hand': 0.038350910834132314, 'faiths': 0.019175455417066157, 'atheists?': 0.019175455417066157, 'prescribed': 0.019175455417066157, 'game': 0.019175455417066157, 'claims': 0.05752636625119847, 'the': 3.068072866730585, \"individual's\": 0.019175455417066157, 'just': 0.28763183125599234, 'gods': 0.019175455417066157, 'unfair': 0.019175455417066157, 'human': 0.11505273250239693, 'yes': 0.019175455417066157, '\"meaning\"': 0.038350910834132314, 'had': 0.07670182166826463, 'spread': 0.05752636625119847, 'Surely': 0.038350910834132314, 'easy': 0.038350910834132314, 'save': 0.019175455417066157, 'fact\"': 0.019175455417066157, 'posed': 0.019175455417066157, 'possible': 0.1342281879194631, 'birth': 0.019175455417066157, 'destroy': 0.038350910834132314, 'desire': 0.019175455417066157, 'Also': 0.05752636625119847, 'specific': 0.019175455417066157, '5%': 0.038350910834132314, 'notorious': 0.019175455417066157, '(\"right\")': 0.019175455417066157, 'deal': 0.019175455417066157, 'people': 0.36433365292425696, 'Much': 0.019175455417066157, '(\"wrong\")': 0.019175455417066157, 'for': 0.7094918504314478, 'Nobody': 0.019175455417066157, 'contributing': 0.019175455417066157, 'everything': 0.038350910834132314, 'asking': 0.038350910834132314, 'He': 0.038350910834132314, 'core': 0.07670182166826463, 'peer': 0.019175455417066157, 'properties': 0.019175455417066157, 'plug': 0.019175455417066157, \"something's\": 0.019175455417066157, 'citizens': 0.019175455417066157, 'trustworthy': 0.019175455417066157, 'primitive': 0.019175455417066157, 'presence': 0.019175455417066157, 'wasting': 0.038350910834132314, 'Make': 0.019175455417066157, 'obtaining': 0.019175455417066157, 'negative': 0.05752636625119847, 'doctrine': 0.019175455417066157, 'unambiguous': 0.019175455417066157, 'categorization': 0.019175455417066157, 'Unless': 0.019175455417066157, 'support': 0.019175455417066157, 'perverting': 0.019175455417066157, 'fight': 0.019175455417066157, 'way': 0.24928092042186, 'resulted': 0.019175455417066157, 'was': 0.11505273250239693, 'happy': 0.019175455417066157, 'what?': 0.038350910834132314, 'becoming': 0.019175455417066157, 'conclusively': 0.038350910834132314, 'forever': 0.019175455417066157, 'true': 0.1725790987535954, 'idea;': 0.019175455417066157, 'tell': 0.019175455417066157, \"atheism's\": 0.019175455417066157, 'science)': 0.019175455417066157, 'proved': 0.05752636625119847, 'Introduction': 0.038350910834132314, 'evidence': 0.11505273250239693, 'exist': 0.28763183125599234, 'prayer': 0.07670182166826463, 'physical': 0.019175455417066157, 'discriminate': 0.019175455417066157, 'dying': 0.019175455417066157, 'no': 0.44103547459252157, 'generally': 0.07670182166826463, 'reality': 0.019175455417066157, 'holding': 0.019175455417066157, 'test': 0.038350910834132314, 'unwilling': 0.019175455417066157, '-----END': 0.019175455417066157, 'clear-cut': 0.019175455417066157, 'anti-religious': 0.05752636625119847, 'died': 0.019175455417066157, 'tested': 0.019175455417066157, 'assume': 0.1342281879194631, 'cohesion': 0.019175455417066157, 'good-natured': 0.019175455417066157, 'time': 0.11505273250239693, 'controlling': 0.019175455417066157, 'concept': 0.019175455417066157, '(say)': 0.019175455417066157, 'keep': 0.019175455417066157, 'souls': 0.019175455417066157, 'primes': 0.019175455417066157, 'empathize': 0.019175455417066157, 'certainly': 0.09587727708533078, 'answered': 0.019175455417066157, 'finally': 0.019175455417066157, '\"So': 0.07670182166826463, 'perversion': 0.019175455417066157, '1991': 0.019175455417066157, 'choice': 0.05752636625119847, 'position\"': 0.019175455417066157, 'word': 0.05752636625119847, 'Just': 0.019175455417066157, 'presented': 0.038350910834132314, 'did': 0.019175455417066157, 'p': 0.019175455417066157, 'science': 0.05752636625119847, 'quick': 0.019175455417066157, 'spiritual': 0.019175455417066157, 'verifiable': 0.019175455417066157, 'measurable': 0.019175455417066157, 'shirts': 0.019175455417066157, 'comforting': 0.019175455417066157, '\"agreed': 0.019175455417066157, 'theist': 0.038350910834132314, 'agnosticism': 0.05752636625119847, 'Imagine': 0.019175455417066157, 'shared': 0.019175455417066157, 'self-preservation': 0.019175455417066157, 'supporting': 0.019175455417066157, 'genes': 0.019175455417066157, 'Stalin': 0.019175455417066157, 'groups': 0.019175455417066157, 'along': 0.05752636625119847, 'change': 0.038350910834132314, 'condoms': 0.019175455417066157, 'pseudo-sciences': 0.019175455417066157, '\"anti-religious\"': 0.019175455417066157, 'usually': 0.11505273250239693, 'REAL': 0.038350910834132314, \"It's\": 0.07670182166826463, 'merely': 0.038350910834132314, 'When': 0.019175455417066157, 'logically': 0.038350910834132314, '\"Today': 0.019175455417066157, 'prove': 0.15340364333652926, 'sake': 0.019175455417066157, 'positive': 0.09587727708533078, 'live': 0.05752636625119847, 'believing': 0.11505273250239693, 'Those': 0.019175455417066157, 'These': 0.019175455417066157, 'acceptable': 0.038350910834132314, 'everywhere': 0.019175455417066157, 'virtue': 0.019175455417066157, 'effort': 0.038350910834132314, 'organizations': 0.019175455417066157, 'originally': 0.038350910834132314, 'believes': 0.07670182166826463, 'can': 0.24928092042186, '\"Then': 0.019175455417066157, 'believed': 0.038350910834132314, 'making': 0.038350910834132314, 'claim': 0.019175455417066157, 'dedicated': 0.019175455417066157, 'figure': 0.019175455417066157, 'acceptance:': 0.019175455417066157, 'theistic': 0.019175455417066157, 'discussion': 0.05752636625119847, 'means': 0.09587727708533078, '1': 0.019175455417066157, 'vital': 0.019175455417066157, 'Gods;': 0.019175455417066157, 'Why': 0.038350910834132314, 'Society': 0.019175455417066157, 'information': 0.019175455417066157, 'may': 0.36433365292425696, 'mankind': 0.019175455417066157, 'such': 0.3068072866730585, 'data': 0.038350910834132314, 'natural': 0.05752636625119847, 'remember': 0.019175455417066157, '\"religious\"': 0.05752636625119847, 'so': 0.3835091083413231, 'flat-out': 0.019175455417066157, 'definitions': 0.019175455417066157, 'increase': 0.019175455417066157, 'talk': 0.019175455417066157, 'Islam': 0.019175455417066157, 'acts': 0.05752636625119847, 'pointed': 0.038350910834132314, 'Roper': 0.019175455417066157, 'wishing': 0.019175455417066157, 'unacceptable': 0.019175455417066157, 'years': 0.038350910834132314, 'course': 0.23010546500479387, 'still': 0.1342281879194631, 'worship': 0.05752636625119847, 'tendency': 0.09587727708533078, 'group': 0.019175455417066157, 'belief?\"': 0.038350910834132314, 'antipathy': 0.019175455417066157, 'mail': 0.019175455417066157, '\"What': 0.1342281879194631, 'killer': 0.019175455417066157, 'records': 0.019175455417066157, 'not': 1.2080536912751678, 'nor': 0.019175455417066157, 'term': 0.038350910834132314, 'mass-murderer': 0.038350910834132314, 'entirely': 0.05752636625119847, 'Last-modified:': 0.019175455417066157, 'disproving': 0.019175455417066157, '\"No': 0.019175455417066157, 'adequately': 0.019175455417066157, 'shown': 0.038350910834132314, 'theism;': 0.019175455417066157, 'looking': 0.019175455417066157, 'seriously': 0.019175455417066157, 'theory': 0.019175455417066157, 'Sometimes': 0.019175455417066157, 'possibility': 0.019175455417066157, 'quite': 0.09587727708533078, 'you?\"': 0.019175455417066157, 'inevitable': 0.019175455417066157, 'care': 0.05752636625119847, 'language': 0.019175455417066157, 'thing': 0.1725790987535954, 'profess': 0.019175455417066157, 'think': 0.07670182166826463, 'blood': 0.019175455417066157, 'Even': 0.038350910834132314, 'There': 0.1725790987535954, 'one': 0.28763183125599234, 'one-time': 0.019175455417066157, 'carry': 0.038350910834132314, 'impossible': 0.1342281879194631, 'open': 0.038350910834132314, 'little': 0.038350910834132314, 'exists': 0.19175455417066156, 'caught': 0.019175455417066157, 'anyone': 0.019175455417066157, '2': 0.09587727708533078, 'Such': 0.038350910834132314, 'speaking': 0.019175455417066157, 'gives': 0.019175455417066157, 'meme': 0.019175455417066157, 'that': 2.377756471716203, 'copy': 0.019175455417066157, 'than': 0.24928092042186, 'population': 0.019175455417066157, 'uk>': 0.038350910834132314, '12': 0.019175455417066157, 'impractical': 0.019175455417066157, 'require': 0.019175455417066157, 'future': 0.019175455417066157, 'were': 0.07670182166826463, 'and': 1.361457334611697, 'contentious': 0.038350910834132314, 'atheism\"': 0.11505273250239693, 'say': 0.1725790987535954, 'any': 0.28763183125599234, '\"compassionate\"': 0.019175455417066157, 'conversion': 0.038350910834132314, 'answering': 0.019175455417066157, 'ideas': 0.11505273250239693, 'note': 0.038350910834132314, 'other': 0.3068072866730585, 'take': 0.07670182166826463, 'wanting': 0.019175455417066157, 'sure': 0.038350910834132314, 'arguing': 0.019175455417066157, 'un-Christian': 0.019175455417066157, ']': 0.038350910834132314, 'unknowable': 0.019175455417066157, 'especially': 0.038350910834132314, 'Whoever': 0.019175455417066157, 'considered': 0.05752636625119847, 'acceptable\"': 0.019175455417066157, 'adopt': 0.038350910834132314, 'Humans': 0.019175455417066157, 'laws': 0.019175455417066157, 'show': 0.038350910834132314, 'cheap': 0.019175455417066157, 'Comments': 0.019175455417066157, 'denial;': 0.019175455417066157, 'inconsistent': 0.019175455417066157, 'We': 0.019175455417066157, 'enough': 0.019175455417066157, 'only': 0.23010546500479387, 'black': 0.019175455417066157, 'pgpinfo@mantis': 0.019175455417066157, 'transfusions': 0.019175455417066157, 'viewpoint': 0.038350910834132314, 'get': 0.019175455417066157, 'cannot': 0.09587727708533078, 'denials': 0.019175455417066157, 'prime': 0.038350910834132314, 'regarding': 0.019175455417066157, '[\"Freethought': 0.019175455417066157, 'held': 0.019175455417066157, 'scepticism;': 0.019175455417066157, 'parasitic': 0.019175455417066157, 'priest': 0.019175455417066157, 'where': 0.038350910834132314, 'worrying': 0.019175455417066157, '\"Obviously': 0.019175455417066157, 'voluntary': 0.019175455417066157, 'That': 0.05752636625119847, 'ways': 0.019175455417066157, 'label': 0.019175455417066157, 'outside': 0.038350910834132314, 'between': 0.05752636625119847, 'across': 0.019175455417066157, 'Bible': 0.11505273250239693, 'Atheist': 0.019175455417066157, 'Atheism': 0.15340364333652926, 'article': 0.11505273250239693, '\"Here': 0.019175455417066157, '\"life\"': 0.019175455417066157, 'many': 0.49856184084372, 'according': 0.038350910834132314, 'Religions': 0.038350910834132314, \"can't\": 0.11505273250239693, 'pastimes': 0.019175455417066157, 'Note': 0.019175455417066157, 'digression': 0.019175455417066157, 'assertions': 0.019175455417066157, \"couldn't\": 0.019175455417066157, '\"Strong': 0.019175455417066157, 'sensible': 0.019175455417066157, 'But': 0.15340364333652926, 'mark': 0.019175455417066157, 'defined': 0.019175455417066157, 'memetics': 0.019175455417066157, 'motives': 0.019175455417066157, 'wants': 0.019175455417066157, '\"Does': 0.019175455417066157, 'observers': 0.019175455417066157, 'external': 0.019175455417066157, 'careful': 0.019175455417066157, 'former': 0.019175455417066157, '\"Of': 0.019175455417066157, 'sound': 0.019175455417066157, 'these': 0.019175455417066157, '\"OK': 0.038350910834132314, 'slippery': 0.019175455417066157, 'expertise': 0.019175455417066157, 'taking': 0.019175455417066157, 'sincere': 0.019175455417066157, 'agnostic': 0.05752636625119847, 'dedicate': 0.019175455417066157, 'good': 0.1342281879194631, '\"How': 0.019175455417066157, 'everyday': 0.019175455417066157, 'worry': 0.019175455417066157, 'different': 0.07670182166826463, 'harsh': 0.019175455417066157, 'propagation': 0.019175455417066157, 'scientifically': 0.019175455417066157, 'same': 0.11505273250239693, 'atheist?\"': 0.019175455417066157, 'arguments': 0.038350910834132314, 'document': 0.019175455417066157, 'events': 0.019175455417066157, 'I': 0.15340364333652926, 'companion': 0.038350910834132314, 'driven': 0.019175455417066157, 'running': 0.019175455417066157, '(To': 0.019175455417066157, 'purposeful': 0.019175455417066157, 'It': 0.19175455417066156, 'without': 0.07670182166826463, 'In': 0.09587727708533078, 'Milwaukee': 0.019175455417066157, 'grounds': 0.038350910834132314, 'If': 0.28763183125599234, 'being': 0.15340364333652926, 'money': 0.019175455417066157, 'actions': 0.05752636625119847, '\"healed\"': 0.019175455417066157, 'kill': 0.019175455417066157, 'seems': 0.038350910834132314, 'except': 0.019175455417066157, 'possible;': 0.019175455417066157, 'real': 0.038350910834132314, 'aspects': 0.019175455417066157, 'around': 0.038350910834132314, 'Secondly': 0.019175455417066157, 'rules': 0.05752636625119847, 'Many': 0.24928092042186, 'admitting': 0.019175455417066157, 'atheists?\"': 0.019175455417066157, 'world': 0.07670182166826463, 'accepted': 0.019175455417066157, 'miracle': 0.019175455417066157, 'benefit': 0.019175455417066157, 'either': 0.019175455417066157, 'counter-arguments': 0.019175455417066157, 'attempting': 0.019175455417066157, \"'agnosticism'\": 0.019175455417066157, 'divine': 0.019175455417066157, 'refer': 0.05752636625119847, 'biased': 0.019175455417066157, 'business': 0.019175455417066157, 'industrialized': 0.019175455417066157, 'equivalent': 0.019175455417066157, 'wrong?\"': 0.019175455417066157, 'exists?\"': 0.019175455417066157, 'on': 0.44103547459252157, 'of': 2.7996164908916588, 'practical': 0.019175455417066157, \"isn't\": 0.15340364333652926, 'act': 0.038350910834132314, 'luck': 0.019175455417066157, 'or': 0.6519654841802492, '(Many': 0.019175455417066157, 'No': 0.019175455417066157, 'nowadays': 0.019175455417066157, 'your': 0.11505273250239693, 'weight': 0.019175455417066157, 'her': 0.038350910834132314, 'assumed': 0.019175455417066157, 'there': 0.3835091083413231, 'myths': 0.019175455417066157, 'start': 0.019175455417066157, 'detectable': 0.05752636625119847, 'futile': 0.019175455417066157, 'cultures': 0.019175455417066157, 'assumes': 0.019175455417066157, 'Widening': 0.019175455417066157, 'complete': 0.038350910834132314, 'amongst': 0.019175455417066157, 'philosophers': 0.038350910834132314, 'you;': 0.019175455417066157, 'trying': 0.019175455417066157, 'with': 0.3451581975071908, 'monopoly': 0.019175455417066157, 'default': 0.05752636625119847, 'Whilst': 0.019175455417066157, 'morality?': 0.019175455417066157, 'beliefs': 0.2684563758389262, 'USA': 0.038350910834132314, 'certain': 0.019175455417066157, 'am': 0.038350910834132314, 'general': 0.05752636625119847, 'How': 0.019175455417066157, 'as': 1.1505273250239694, 'Bloc': 0.019175455417066157, 'at': 0.19175455417066156, 'watched': 0.019175455417066157, 'encompass': 0.019175455417066157, 'An': 0.019175455417066157, 'again': 0.019175455417066157, '\"Big': 0.019175455417066157, 'depth': 0.019175455417066157, '\"convert\"': 0.019175455417066157, 'valid': 0.019175455417066157, '5': 0.019175455417066157, 'you': 0.46021093000958774, 'From:': 0.019175455417066157, 'Israelites': 0.019175455417066157, 'separate': 0.019175455417066157, 'important': 0.07670182166826463, 'building': 0.038350910834132314, 'calls': 0.038350910834132314, 'controlled': 0.019175455417066157, 'impossibility': 0.019175455417066157, 'original': 0.019175455417066157, 'all': 0.36433365292425696, 'consider': 0.038350910834132314, 'pointing': 0.019175455417066157, 'caused': 0.019175455417066157, 'lack': 0.07670182166826463, 'founded': 0.038350910834132314, 'generalize': 0.019175455417066157, 'talks': 0.07670182166826463, 'follow': 0.038350910834132314, 'alt': 0.038350910834132314, 'religious': 0.6327900287631831, 'children': 0.038350910834132314, 'reluctant': 0.019175455417066157, 'apply?\"': 0.019175455417066157, 'referring': 0.019175455417066157, 'to': 3.2790028763183128, 'those': 0.1725790987535954, 'lawmakers': 0.019175455417066157, 'Christians': 0.07670182166826463, 'case': 0.05752636625119847, 'very': 0.1342281879194631, 'robes': 0.019175455417066157, 'decide': 0.09587727708533078, 'fall': 0.019175455417066157, 'encroaching': 0.019175455417066157, 'difference': 0.019175455417066157, '17th': 0.019175455417066157, \"Don't\": 0.05752636625119847, '--': 0.2684563758389262, 'applicable': 0.019175455417066157, 'charities?\"': 0.019175455417066157, '\"immorally\"': 0.038350910834132314, 'appearance': 0.019175455417066157, 'nothing?\"': 0.019175455417066157, 'Should': 0.038350910834132314, '\"moral': 0.019175455417066157, 'further': 0.019175455417066157, 'what': 0.19175455417066156, 'attitudes': 0.019175455417066157, 'scientists': 0.07670182166826463, 'public': 0.019175455417066157, 'full': 0.019175455417066157, 'behaviour': 0.11505273250239693, 'strong': 0.05752636625119847, 'backlash': 0.05752636625119847, 'sensory': 0.019175455417066157, 'search': 0.05752636625119847, 'provably': 0.038350910834132314, 'allows': 0.019175455417066157, 'experience': 0.038350910834132314, '\"acts': 0.019175455417066157, 'social': 0.019175455417066157, 'family': 0.05752636625119847, 'suddenly': 0.038350910834132314, 'put': 0.038350910834132314, 'readily': 0.019175455417066157, '\"against\"': 0.019175455417066157, 'two': 0.019175455417066157, 'God\"': 0.019175455417066157, 'more': 0.15340364333652926, '\"Those': 0.019175455417066157, 'excuse': 0.038350910834132314, 'So': 0.11505273250239693, 'basically': 0.019175455417066157, 'particular': 0.11505273250239693, 'known': 0.019175455417066157, 'helped': 0.019175455417066157, \"Church's\": 0.019175455417066157, 'Gods': 0.038350910834132314, 'importantly):': 0.019175455417066157, 'take;': 0.019175455417066157, 'remain': 0.019175455417066157, 'iQCVAgUBK8AjRXzXN+VrOblFAQFSbwP+MHePY4g7ge8Mo5wpsivX+kHYYxMErFAO': 0.019175455417066157, 'history': 0.019175455417066157, 'accept': 0.019175455417066157, 'numbers': 0.019175455417066157, 'sense': 0.11505273250239693, '(\"strong\")': 0.019175455417066157, 'dress': 0.019175455417066157, 'huge': 0.019175455417066157, 'court': 0.019175455417066157, 'rather': 0.1725790987535954, 'comfort': 0.038350910834132314, 'PGP': 0.07670182166826463, 'reject': 0.019175455417066157, 'tried': 0.038350910834132314, 'questioning': 0.038350910834132314, 'reflect': 0.019175455417066157, '\"Isn\\'t': 0.038350910834132314, 'pray?\"': 0.019175455417066157, 'non-religious': 0.019175455417066157, 'a': 1.975071907957814, 'short': 0.019175455417066157, 'perhaps': 0.038350910834132314, 'fundamental': 0.019175455417066157, 'Taoism': 0.019175455417066157, \"that's\": 0.038350910834132314, 'What': 0.05752636625119847, 'say-so?': 0.019175455417066157, \"don't\": 0.23010546500479387, 'developed': 0.019175455417066157, 'charities': 0.07670182166826463, 'telling': 0.019175455417066157, 'attitude': 0.019175455417066157, 'scientist': 0.038350910834132314, 'through': 0.05752636625119847, '\"anti-social\"': 0.019175455417066157, 'existence': 0.1342281879194631, 'its': 0.038350910834132314, 'astrology': 0.019175455417066157, 'course!': 0.019175455417066157, 'pray': 0.05752636625119847, 'salvation;': 0.019175455417066157, 'actually': 0.05752636625119847, 'absence': 0.019175455417066157, 'followers': 0.038350910834132314, 'might': 0.11505273250239693, \"haven't\": 0.019175455417066157, 'someone': 0.07670182166826463, 'it)': 0.019175455417066157, 'food': 0.019175455417066157, 'Hawaiian': 0.019175455417066157, 'easily': 0.019175455417066157, 'always': 0.038350910834132314, 'level': 0.019175455417066157, 'philosophical': 0.11505273250239693, 'deteriorated': 0.019175455417066157, 'Thanks': 0.019175455417066157, 'positions': 0.019175455417066157, 'found': 0.09587727708533078, 'difficult': 0.019175455417066157, 'characterized': 0.038350910834132314, 'referred': 0.019175455417066157, 'heavy': 0.019175455417066157, 'harm': 0.019175455417066157, 'everyone': 0.038350910834132314, 'formulate': 0.019175455417066157, 'hard': 0.038350910834132314, 'idea': 0.038350910834132314, 'engaging': 0.019175455417066157, 'event': 0.019175455417066157, 'really': 0.07670182166826463, 'try': 0.11505273250239693, 'realising': 0.019175455417066157, 'since': 0.05752636625119847, 'discouraging': 0.019175455417066157, 'then?\"': 0.019175455417066157, 'belief': 0.36433365292425696, 'According': 0.019175455417066157, 'reason': 0.038350910834132314, 'ask': 0.038350910834132314, 'definition': 0.07670182166826463, '<mathew@mantis': 0.038350910834132314, 'conducted': 0.019175455417066157, 'consequence': 0.019175455417066157, 'properly\"': 0.019175455417066157, 'throws': 0.019175455417066157, 'major': 0.038350910834132314, 'feel': 0.1725790987535954, 'number': 0.09587727708533078, '1876': 0.019175455417066157, 'instances': 0.019175455417066157, 'done': 0.019175455417066157, 'differ': 0.019175455417066157, '\"': 0.07670182166826463, 'introduction': 0.038350910834132314, 'interact': 0.05752636625119847, 'obedience': 0.019175455417066157, 'least': 0.038350910834132314, 'assumption': 0.07670182166826463, 'statement': 0.11505273250239693, 'immediate': 0.019175455417066157, 'part': 0.019175455417066157, 'doctors': 0.019175455417066157, 'believe': 0.4793863854266539, 'convinced': 0.019175455417066157, 'king': 0.019175455417066157, 'kind': 0.019175455417066157, 'vocal': 0.019175455417066157, 'determined': 0.019175455417066157, 'risks': 0.019175455417066157, 'God': 0.9779482262703739, 'murder': 0.019175455417066157, 'categorized': 0.019175455417066157, 'vulnerable': 0.019175455417066157, 'lie': 0.019175455417066157, 'cropped': 0.019175455417066157, 'conforming': 0.019175455417066157, 'also': 0.11505273250239693, 'analogy': 0.019175455417066157, 'finding': 0.019175455417066157, 'play': 0.019175455417066157, 'towards': 0.07670182166826463, 'quote': 0.019175455417066157, 'reach': 0.019175455417066157, 'took': 0.019175455417066157, 'most': 0.19175455417066156, 'experiences': 0.019175455417066157, 'nothing': 0.038350910834132314, 'The': 0.2684563758389262, 'clear': 0.019175455417066157, 'popularity': 0.019175455417066157, 'cover': 0.038350910834132314, 'justify': 0.07670182166826463, 'physics': 0.019175455417066157, 'particularly': 0.019175455417066157, 're-defines': 0.019175455417066157, 'Theism': 0.019175455417066157, 'anti-religious?\"': 0.019175455417066157, 'find': 0.09587727708533078, 'impact': 0.019175455417066157, '(and': 0.019175455417066157, 'less': 0.07670182166826463, 'assertion': 0.038350910834132314, 'unhappy': 0.019175455417066157, 'his': 0.1342281879194631, 'secular': 0.038350910834132314, 'ceasing': 0.019175455417066157, 'famous': 0.05752636625119847, 'While': 0.019175455417066157, 'competing': 0.038350910834132314, 'him': 0.07670182166826463, 'co-operate': 0.019175455417066157, 'True': 0.019175455417066157, 'medicines': 0.019175455417066157, 'common': 0.019175455417066157, 'obscure': 0.019175455417066157, 'Christianity:': 0.019175455417066157, 'set': 0.038350910834132314, 'cynical': 0.019175455417066157, 'sex': 0.019175455417066157, 'see': 0.09587727708533078, 'individual': 0.038350910834132314, 'are': 1.2847555129434325, 'close': 0.038350910834132314, 'expert': 0.019175455417066157, 'Requiem': 0.019175455417066157, 'something?\"': 0.038350910834132314, 'various': 0.019175455417066157, 'probably': 0.038350910834132314, 'supposed': 0.038350910834132314, 'respondents': 0.019175455417066157, 'opposition': 0.019175455417066157, 'distinguish': 0.019175455417066157, 'relying': 0.019175455417066157, 'harm?\"': 0.019175455417066157, 'however;': 0.019175455417066157, 'foreign': 0.038350910834132314, 'connection': 0.019175455417066157, 'became': 0.019175455417066157, 'whole': 0.038350910834132314, 'false;': 0.019175455417066157, 'Certainly': 0.038350910834132314, '\"Well': 0.019175455417066157, 'live\"': 0.019175455417066157, 'point': 0.038350910834132314, 'simple': 0.07670182166826463, 'simply': 0.09587727708533078, 'church': 0.07670182166826463, '[': 0.019175455417066157, 'described': 0.07670182166826463, 'political': 0.038350910834132314, 'Most': 0.11505273250239693, 'Today\"': 0.019175455417066157, 'Dahmer': 0.019175455417066157, 'meeting': 0.019175455417066157, 'empty': 0.019175455417066157, '\"state': 0.019175455417066157, 'dialogue': 0.019175455417066157, 'convert': 0.019175455417066157, 'else': 0.019175455417066157, 'lives': 0.038350910834132314, 'evangelical': 0.019175455417066157, 'look': 0.038350910834132314, '\"friend\"': 0.019175455417066157, 'Brother\"': 0.019175455417066157, 'behavior': 0.019175455417066157, 'Church': 0.038350910834132314, 'voters': 0.019175455417066157, 'encountered': 0.019175455417066157, 'Atheists': 0.15340364333652926, 'itself': 0.019175455417066157, 'disbelieving': 0.019175455417066157, 'increased': 0.019175455417066157, 'FAQ': 0.019175455417066157, 'read': 0.038350910834132314, 'widely': 0.019175455417066157, 'exists;': 0.019175455417066157, 'Faith': 0.038350910834132314, 'About': 0.019175455417066157, 'used': 0.09587727708533078, 'upbringing': 0.038350910834132314, 'moment': 0.019175455417066157, 'uses': 0.05752636625119847, 'purpose': 0.038350910834132314, 'Religious': 0.019175455417066157, 'spent': 0.07670182166826463, 'person': 0.15340364333652926, 'buildings;': 0.019175455417066157, 'questions': 0.09587727708533078, 'using': 0.019175455417066157, 'code?\"': 0.019175455417066157, 'praying': 0.019175455417066157, 'cup': 0.019175455417066157, 'shouting': 0.019175455417066157, 'parents': 0.019175455417066157, 'questioned': 0.05752636625119847, 'surprised': 0.019175455417066157, 'On': 0.038350910834132314, 'prefer': 0.019175455417066157, 'showing': 0.019175455417066157, '\"Unexceptional?': 0.019175455417066157, 'unlimited': 0.019175455417066157, 'matters': 0.09587727708533078, 'self-contradictory': 0.019175455417066157, 'Definitely': 0.019175455417066157, 'necessary': 0.019175455417066157, 'Or': 0.019175455417066157, '\"correct\"': 0.019175455417066157, 'ignore': 0.019175455417066157, 'individuals': 0.038350910834132314, 'popular': 0.019175455417066157, 'foolish': 0.019175455417066157, 'Therefore': 0.019175455417066157, 'often': 0.09587727708533078, 'some': 0.36433365292425696, 'insincere': 0.019175455417066157, 'serves': 0.019175455417066157, 'universes': 0.019175455417066157, 'gradually': 0.019175455417066157, 'rarely': 0.019175455417066157, 'decision': 0.05752636625119847, 'shall': 0.019175455417066157, 'religion': 0.40268456375838924, 'behave': 0.07670182166826463, 'tends': 0.019175455417066157, 'hosts': 0.05752636625119847, 'be': 0.99712368168744, 'Look': 0.019175455417066157, 'refused': 0.019175455417066157, 'example:': 0.019175455417066157, 'by': 0.7670182166826462, 'faith': 0.07670182166826463, 'asserting': 0.038350910834132314, 'anything': 0.019175455417066157, 'deserves': 0.019175455417066157, 'hatred': 0.019175455417066157, 'seeing': 0.019175455417066157, 'into': 0.05752636625119847, 'within': 0.019175455417066157, 'nonsense': 0.019175455417066157, 'primarily': 0.019175455417066157, 'spending': 0.019175455417066157, 'question': 0.1342281879194631, 'long': 0.038350910834132314, 'atheists': 1.1888782358581016, 'files': 0.019175455417066157, 'himself': 0.019175455417066157, 'repeatedly': 0.019175455417066157, 'themselves': 0.05752636625119847, 'atheist\"': 0.019175455417066157, 'non-existence': 0.05752636625119847, 'characteristic': 0.019175455417066157, 'atheist)': 0.019175455417066157, 'up': 0.038350910834132314, 'us': 0.019175455417066157, 'conformism;': 0.019175455417066157, 'today': 0.019175455417066157, 'uk': 0.019175455417066157, 'similar': 0.019175455417066157, 'called': 0.019175455417066157, 'pets': 0.019175455417066157, 'sometimes': 0.05752636625119847, 'associated': 0.019175455417066157, 'Perhaps': 0.019175455417066157, 'influence': 0.019175455417066157, 'To': 0.11505273250239693, 'single': 0.038350910834132314, 'denying': 0.019175455417066157, 'themselves?': 0.019175455417066157, 'TV': 0.038350910834132314, 'invalid': 0.05752636625119847, 'draw': 0.019175455417066157, 'prepared': 0.019175455417066157, 'meaning': 0.1342281879194631, 'independently': 0.019175455417066157, 'mindlessly': 0.019175455417066157, 'code?': 0.019175455417066157, 'As': 0.019175455417066157, 'far': 0.019175455417066157, 'having': 0.019175455417066157, 'rules\"': 0.019175455417066157, 'proposition': 0.019175455417066157, 'go': 0.038350910834132314, 'conversation': 0.019175455417066157, 'issues': 0.019175455417066157, 'concerned': 0.038350910834132314, 'send': 0.019175455417066157, 'Words': 0.019175455417066157, 'comfort;': 0.019175455417066157, 'Not': 0.05752636625119847, 'Now': 0.019175455417066157, 'wished': 0.019175455417066157, 'continues': 0.019175455417066157, 'redefinition': 0.019175455417066157, 'disclaimed': 0.019175455417066157, 'marry': 0.019175455417066157, 'deals': 0.019175455417066157, '\"anti-religion\"': 0.019175455417066157, 'nihqnzXE8pGvLt7tlez4EoeHZjXLEFrdEyPVayT54yQqGb4HARbOEHDcrTe2atmP': 0.019175455417066157, 'concluded': 0.019175455417066157, 'decreed': 0.019175455417066157, 'imply': 0.019175455417066157, 'uncomfortable': 0.019175455417066157, '\"Don\\'t': 0.019175455417066157, 'odd': 0.019175455417066157, 'power': 0.07670182166826463, 'scepticism': 0.019175455417066157, 'justification': 0.038350910834132314, 'chose': 0.019175455417066157, 'Freedom': 0.019175455417066157, 'Professor': 0.019175455417066157, 'following': 0.038350910834132314, 'objects': 0.019175455417066157, 'let': 0.019175455417066157, 'healing': 0.019175455417066157, 'separation': 0.038350910834132314, 'others': 0.09587727708533078, '\"immoral\"': 0.019175455417066157, 'people?\"': 0.038350910834132314, 'extreme': 0.019175455417066157, 'great': 0.038350910834132314, 'engage': 0.019175455417066157, 'receive': 0.019175455417066157, 'larger': 0.019175455417066157, 'shades': 0.019175455417066157, 'leaving': 0.019175455417066157, 'survey': 0.019175455417066157, \"weren't\": 0.019175455417066157, 'makes': 0.09587727708533078, 'honor': 0.019175455417066157, 'danger': 0.019175455417066157, 'apply': 0.019175455417066157, 'use': 0.11505273250239693, 'from': 0.19175455417066156, 'illegal': 0.019175455417066157, 'few': 0.05752636625119847, 'doubt': 0.038350910834132314, 'exhaustive': 0.05752636625119847, 'historically': 0.019175455417066157, 'sort': 0.24928092042186, 'started': 0.019175455417066157, 'charity': 0.05752636625119847, 'majority': 0.038350910834132314, 'animals': 0.019175455417066157, 'this': 0.2109300095877277, 'when': 0.2109300095877277, 'anywhere': 0.038350910834132314, 'obvious': 0.05752636625119847, 'proof': 0.038350910834132314, 'control': 0.038350910834132314, 'purposes': 0.038350910834132314, 'assumptions': 0.05752636625119847, 'something': 0.23010546500479387, 'justifications': 0.019175455417066157, 'serial': 0.019175455417066157, 'closed-minded': 0.019175455417066157, 'instead': 0.019175455417066157, 'Metaphysical': 0.019175455417066157, 'denounce': 0.019175455417066157, 'Hence': 0.019175455417066157, 'non-prayers': 0.019175455417066157, 'counter': 0.019175455417066157, 'One': 0.038350910834132314, 'honestly': 0.019175455417066157, 'allow': 0.038350910834132314, 'Catholic': 0.038350910834132314, 'whilst': 0.019175455417066157, 'looks': 0.019175455417066157, 'mentioned': 0.019175455417066157, 'newsgroup': 0.019175455417066157, 'choose': 0.038350910834132314, 'orange': 0.019175455417066157, 'practice': 0.019175455417066157, 'mention': 0.019175455417066157, 'realize': 0.019175455417066157, 'sinners': 0.019175455417066157, 'sufficiently': 0.019175455417066157, 'trap': 0.019175455417066157, 'truth': 0.09587727708533078, 'dogmatic': 0.038350910834132314, '\"atheism\"': 0.019175455417066157, 'From': 0.019175455417066157, 'society': 0.038350910834132314, 'books': 0.019175455417066157, 'Which': 0.019175455417066157, 'our': 0.07670182166826463, 'special': 0.019175455417066157, 'out': 0.15340364333652926, 'fundamentally': 0.019175455417066157, 'time;': 0.019175455417066157, '\"If': 0.019175455417066157, 'Thousands': 0.019175455417066157, 'theists': 0.19175455417066156, 'memes': 0.07670182166826463, 'cause': 0.038350910834132314, '\"Is': 0.038350910834132314, \"one's\": 0.019175455417066157, 'FAQ:': 0.019175455417066157, 'This': 0.11505273250239693, 'completely': 0.019175455417066157, 'surely': 0.09587727708533078, 'Firstly': 0.019175455417066157, 'backwards': 0.019175455417066157, 'hostile': 0.019175455417066157, 'could': 0.038350910834132314, 'Jesus': 0.07670182166826463, 'illicit': 0.019175455417066157, 'follows:': 0.019175455417066157, 'similar;': 0.019175455417066157, 'Naturally': 0.019175455417066157, 'enough;': 0.019175455417066157, \"doesn't\": 0.11505273250239693, 'For': 0.19175455417066156, 'Eastern': 0.019175455417066157, 'non-Christians': 0.019175455417066157, 'unknown': 0.019175455417066157, 'their': 0.40268456375838924, 'be?': 0.019175455417066157, 'perfectly': 0.019175455417066157, 'nobody': 0.038350910834132314, 'herself': 0.019175455417066157, 'institution': 0.019175455417066157, 'varieties': 0.038350910834132314, 'naturally': 0.019175455417066157, 'comfortable': 0.019175455417066157, 'unlikely': 0.05752636625119847, 'have': 0.7861936720997124, 'need': 0.019175455417066157, 'slightly:': 0.019175455417066157, 'apparently': 0.019175455417066157, 'viewed': 0.019175455417066157, 'studying': 0.019175455417066157, 'able': 0.019175455417066157, 'graphology': 0.019175455417066157, 'which': 0.24928092042186, 'unless': 0.019175455417066157, 'asserts': 0.019175455417066157, 'who': 0.44103547459252157, 'propagate': 0.019175455417066157, 'why': 0.1342281879194631, 'discourage': 0.019175455417066157, 'Some': 0.24928092042186, 'disease': 0.019175455417066157, 'face': 0.038350910834132314, \"you'll\": 0.019175455417066157, 'fact': 0.05752636625119847, 'goals': 0.019175455417066157, 'chances': 0.019175455417066157, 'sceptical': 0.11505273250239693, 'agreed': 0.019175455417066157, 'purely': 0.038350910834132314, 'trivial': 0.019175455417066157, 'debate': 0.05752636625119847, 'promote': 0.05752636625119847, 'based': 0.038350910834132314, 'should': 0.2109300095877277, 'entities': 0.019175455417066157, 'true?': 0.019175455417066157, \"there's\": 0.05752636625119847, 'Strong': 0.038350910834132314, 'hope': 0.019175455417066157, 'meant': 0.019175455417066157, '12%': 0.019175455417066157, 'watching': 0.038350910834132314, 'Whether': 0.019175455417066157, 'atheism/introduction': 0.019175455417066157, 'ones': 0.019175455417066157, 'words': 0.07670182166826463, 'Because': 0.019175455417066157, 'places': 0.019175455417066157, 'she': 0.05752636625119847, 'view': 0.15340364333652926, 'Disbelief': 0.019175455417066157, 'misinterpret?': 0.019175455417066157, 'humans': 0.05752636625119847, 'rebelling?\"': 0.019175455417066157, 'slanted': 0.019175455417066157, 'closer': 0.019175455417066157, 'Wisconsin': 0.019175455417066157, 'mind;': 0.019175455417066157, 'reform': 0.019175455417066157, 'arguably': 0.019175455417066157, 'tend': 0.09587727708533078, 'state': 0.15340364333652926, 'supernatural': 0.019175455417066157, 'arguable': 0.019175455417066157, 'ends': 0.019175455417066157, 'human;': 0.019175455417066157, 'importance': 0.019175455417066157, 'exist?': 0.019175455417066157, 'Religion': 0.07670182166826463, '\"Weak': 0.019175455417066157, 'schools?': 0.019175455417066157, 'minds': 0.019175455417066157, 'agree': 0.019175455417066157, 'passing': 0.019175455417066157, 'otherwise': 0.038350910834132314, 'relevant': 0.019175455417066157, 'co': 0.05752636625119847, 'Christ': 0.038350910834132314, 'conclude': 0.019175455417066157, 'invisible': 0.019175455417066157, 'self-righteous': 0.019175455417066157, \"it's\": 0.2684563758389262, 'willing': 0.019175455417066157, 'define': 0.019175455417066157, 'diversity': 0.019175455417066157, '\"purpose\"': 0.019175455417066157, 'Subject:': 0.019175455417066157, 'an': 0.5752636625119847, 'present': 0.038350910834132314, \"That's\": 0.019175455417066157, 'And': 0.019175455417066157, 'atheism?\"': 0.07670182166826463, 'memetic': 0.019175455417066157, 'harder': 0.019175455417066157, 'will': 0.1342281879194631, '\"But': 0.1342281879194631, 'God?\"': 0.038350910834132314, 'almost': 0.019175455417066157, 'respected': 0.019175455417066157, 'politics': 0.019175455417066157, 'claimed': 0.019175455417066157, '\"default': 0.019175455417066157, 'life?\"': 0.019175455417066157, ')': 0.038350910834132314, 'strange': 0.019175455417066157, 'largest': 0.019175455417066157, 'party': 0.019175455417066157, 'though;': 0.019175455417066157, '\"Even': 0.019175455417066157, 'counter-example': 0.019175455417066157, 'hospitals?': 0.019175455417066157, 'drink': 0.019175455417066157, 'upon': 0.038350910834132314, 'effect': 0.019175455417066157, 'frequently': 0.019175455417066157, 'destruction': 0.019175455417066157, 'expense': 0.019175455417066157, 'well': 0.05752636625119847, 'experimental': 0.019175455417066157, 'sets': 0.038350910834132314, 'counter-examples': 0.019175455417066157, 'position': 0.038350910834132314, 'Similarly': 0.019175455417066157, 'percent': 0.019175455417066157, 'mistaken': 0.019175455417066157, 'theists?\"': 0.019175455417066157, 'Be': 0.019175455417066157, 'reasons': 0.038350910834132314, 'Buddhists': 0.019175455417066157, 'match': 0.019175455417066157, 'Verdi': 0.019175455417066157, 'Unfortunately': 0.019175455417066157, 'government': 0.019175455417066157, \"who's\": 0.019175455417066157, 'know': 0.09587727708533078, 'burden': 0.019175455417066157, 'England': 0.019175455417066157, 'like': 0.11505273250239693, 'admitted': 0.019175455417066157, 'loses': 0.019175455417066157, '(or': 0.05752636625119847, 'become': 0.019175455417066157, '\\xff': 0.019175455417066157, 'because': 0.36433365292425696, 'phenomena': 0.038350910834132314, 'searching': 0.019175455417066157, 'immortal': 0.019175455417066157, 'happens': 0.019175455417066157, 'disbelief': 0.019175455417066157, 'broad': 0.019175455417066157, 'avoid': 0.019175455417066157, 'However': 0.09587727708533078, 'philosopher': 0.019175455417066157, 'does': 0.3068072866730585, 'assuming': 0.09587727708533078, '7ltVtMVTu66Nz6sBbPw9QkbjArbY/S2sZ9NF5htdii0R6SsEyPl0R6/9bV9okE/q': 0.019175455417066157, 'obey': 0.019175455417066157, 'pressure': 0.019175455417066157, 'murdered': 0.019175455417066157, 'although': 0.019175455417066157, 'imaginary': 0.038350910834132314, 'birthday\"': 0.019175455417066157, 'about': 0.3068072866730585, 'universe': 0.11505273250239693, 'certainty': 0.019175455417066157, 'unbelievers': 0.038350910834132314, 'equally': 0.019175455417066157, 'own': 0.038350910834132314, 'previously': 0.019175455417066157, 'Two': 0.019175455417066157, 'pointless': 0.019175455417066157, 'doubtless': 0.019175455417066157, 'crucially': 0.019175455417066157, 'Archive-name:': 0.019175455417066157, 'Science': 0.019175455417066157, 'but': 0.3451581975071908, 'neutral': 0.019175455417066157, 'third-world': 0.019175455417066157, 'gain': 0.019175455417066157, 'danger?\"': 0.019175455417066157, 'he': 0.19175455417066156, 'count': 0.019175455417066157, '\"weak\"': 0.038350910834132314, 'made': 0.09587727708533078, 'glory': 0.019175455417066157, 'whether': 0.09587727708533078, 'wish': 0.019175455417066157, '\"Religion\"': 0.019175455417066157, 'limit': 0.019175455417066157, 'problem': 0.038350910834132314, 'display': 0.019175455417066157, 'intimidating': 0.019175455417066157, 'contribute': 0.038350910834132314, '=q2V5': 0.019175455417066157, 'is?\"': 0.019175455417066157, 'well-defined': 0.05752636625119847, 'offensive': 0.019175455417066157, 'book': 0.019175455417066157, 'Besides': 0.019175455417066157, 'overpopulation': 0.019175455417066157, '4%': 0.019175455417066157, 'February': 0.019175455417066157, 'again\"': 0.019175455417066157, '\"weak': 0.038350910834132314, 'inherently': 0.019175455417066157, 'April': 0.019175455417066157, 'friends': 0.07670182166826463, 'atheist': 0.23010546500479387, 'Thus': 0.019175455417066157, '\"works\";': 0.019175455417066157, 'rule': 0.019175455417066157, 'atheism': 0.5369127516778524, 'searched': 0.019175455417066157, 'understand': 0.019175455417066157, '\"the': 0.019175455417066157}, {'represent': 0.13966480446927373, 'consider': 0.13966480446927373, 'edu': 0.13966480446927373, 'oldest': 0.41899441340782123, '(which': 0.13966480446927373, 'to': 2.094972067039106, '>some': 0.13966480446927373, 'Not': 0.13966480446927373, 'And': 0.13966480446927373, '(Charley': 0.13966480446927373, 'putting': 0.13966480446927373, 'did': 0.13966480446927373, 'solution': 0.13966480446927373, 'Paul': 0.13966480446927373, 'says': 0.13966480446927373, 'estimates': 0.13966480446927373, 'Matthew': 0.6983240223463687, 'even': 0.5586592178770949, 'what': 0.27932960893854747, 'appear': 0.13966480446927373, \">We're\": 0.13966480446927373, 'goes': 0.13966480446927373, 'new': 0.13966480446927373, 'learned': 0.13966480446927373, 'Re:': 0.13966480446927373, 'edited': 0.13966480446927373, 'say?': 0.13966480446927373, '(Benedikt': 0.13966480446927373, 'here': 0.27932960893854747, 'strong': 0.13966480446927373, 'sender': 0.13966480446927373, 'elaborate': 0.13966480446927373, 'reports': 0.27932960893854747, 'usually': 0.13966480446927373, '>to': 0.13966480446927373, 'elaborated': 0.13966480446927373, '>>quite': 0.13966480446927373, 'When': 0.13966480446927373, '\"editing\"': 0.13966480446927373, 'texts': 0.27932960893854747, 'from': 0.5586592178770949, 'would': 0.5586592178770949, 'two': 0.13966480446927373, 'doubt': 0.13966480446927373, 'card': 0.13966480446927373, 'Felder': 0.13966480446927373, 'more': 0.27932960893854747, 'sort': 0.13966480446927373, 'three?': 0.13966480446927373, 'So': 0.13966480446927373, 'basically': 0.13966480446927373, 'known': 0.41899441340782123, '>>Assuming': 0.13966480446927373, 'must': 0.13966480446927373, 'me': 0.13966480446927373, 'account': 0.13966480446927373, 'this': 0.27932960893854747, 'obvious': 0.41899441340782123, 'can': 0.13966480446927373, 'my': 0.13966480446927373, 'claim': 0.13966480446927373, 'figure': 0.13966480446927373, 'give': 0.13966480446927373, 'sense': 0.13966480446927373, 'times': 0.13966480446927373, '>and': 0.13966480446927373, 'respective': 0.13966480446927373, 'end': 0.13966480446927373, 'how': 0.13966480446927373, 'synopsys': 0.13966480446927373, 'mess': 0.13966480446927373, 'after': 0.41899441340782123, 'Q': 0.27932960893854747, 'date': 0.13966480446927373, 'such': 0.13966480446927373, 'Gospel': 0.13966480446927373, 'a': 1.675977653631285, 'One': 0.13966480446927373, 'order': 0.27932960893854747, \"don't\": 0.41899441340782123, 'style': 0.13966480446927373, 'counterargument': 0.13966480446927373, 'late': 0.13966480446927373, 'might': 0.13966480446927373, \"haven't\": 0.13966480446927373, 'then': 0.27932960893854747, 'them': 0.13966480446927373, 'incompleteness': 0.13966480446927373, '>>I': 0.13966480446927373, 'material': 0.13966480446927373, 'break': 0.13966480446927373, 'it?': 0.27932960893854747, 'little?': 0.13966480446927373, 'they': 0.6983240223463687, 'not': 1.675977653631285, 'association': 0.13966480446927373, 'events': 0.27932960893854747, 'entirely': 0.13966480446927373, '>>It': 0.13966480446927373, 'generation': 0.13966480446927373, 'our': 0.27932960893854747, 'really': 0.13966480446927373, 'rz': 0.13966480446927373, 'content': 0.27932960893854747, '>>first': 0.13966480446927373, 'got': 0.13966480446927373, 'redating': 0.13966480446927373, 'quite': 0.13966480446927373, 'attributions': 0.13966480446927373, 'base': 0.13966480446927373, 'put': 0.13966480446927373, 'shortest': 0.13966480446927373, 'language': 0.13966480446927373, 'dated?': 0.13966480446927373, 'Jesus': 0.13966480446927373, 'follows:': 0.13966480446927373, 'think': 0.27932960893854747, \">'70s\": 0.13966480446927373, 'one': 0.41899441340782123, 'elder': 0.13966480446927373, 'least': 0.13966480446927373, 'directly': 0.13966480446927373, 'necessarily': 0.27932960893854747, \"'canonized'\": 0.13966480446927373, 'their': 0.41899441340782123, 'assumption': 0.13966480446927373, '>Well': 0.13966480446927373, 'relies': 0.13966480446927373, 'illiterate': 0.13966480446927373, 'that': 2.374301675977654, '\"big': 0.13966480446927373, 'explanation': 0.13966480446927373, 'exactly': 0.13966480446927373, 'part': 0.13966480446927373, \"Luke's\": 0.13966480446927373, 'authors': 0.13966480446927373, '>a': 0.13966480446927373, 'overwhelming': 0.13966480446927373, 'than': 0.13966480446927373, '>I': 0.13966480446927373, 'supposed': 0.13966480446927373, 'were': 0.13966480446927373, 'posit': 0.13966480446927373, 'Peter': 0.27932960893854747, 'and': 2.2346368715083798, 'ages': 0.13966480446927373, 'argument': 0.41899441340782123, '(and': 0.13966480446927373, 'talking': 0.27932960893854747, 'have': 0.41899441340782123, 'seem': 0.13966480446927373, 'theology': 0.27932960893854747, 'any': 0.27932960893854747, 'Benedikt': 0.13966480446927373, '>This': 0.13966480446927373, 'genuine': 0.13966480446927373, 'John?': 0.13966480446927373, 'latter': 0.13966480446927373, 'also': 0.13966480446927373, 'take': 0.13966480446927373, 'They': 0.13966480446927373, '>And': 0.27932960893854747, '200': 0.27932960893854747, 'knew': 0.27932960893854747, '>>>(1)': 0.13966480446927373, 'most': 0.27932960893854747, 'I3150101@dbstu1': 0.13966480446927373, 'letter': 0.13966480446927373, 'nothing': 0.13966480446927373, 'The': 0.8379888268156425, 'why': 0.13966480446927373, 'something?': 0.13966480446927373, 'considered': 0.13966480446927373, 'clear': 0.13966480446927373, 'later': 0.13966480446927373, '>cannot': 0.13966480446927373, 'traditional': 0.13966480446927373, 'If': 0.27932960893854747, 'text': 0.41899441340782123, 'ending': 0.13966480446927373, 'discovered': 0.13966480446927373, 'fine': 0.13966480446927373, 'We': 0.13966480446927373, 'believe': 0.13966480446927373, 'based': 0.13966480446927373, 'knowledge': 0.41899441340782123, 'only': 0.13966480446927373, 'pretty': 0.27932960893854747, '<65974@mimsy': 0.13966480446927373, 'do': 0.13966480446927373, 'de': 0.13966480446927373, 'Mark)': 0.13966480446927373, '>lifetimes': 0.13966480446927373, 'gospel\"': 0.13966480446927373, 'words': 0.13966480446927373, 'manuscripts': 0.13966480446927373, 'him': 0.27932960893854747, 'societies': 0.13966480446927373, 'sources': 0.13966480446927373, 'Rosenau)': 0.13966480446927373, 'bad': 0.27932960893854747, 'gospel': 0.13966480446927373, 'where': 0.27932960893854747, 'see': 0.13966480446927373, 'are': 1.5363128491620113, 'close': 0.13966480446927373, 'John': 1.5363128491620113, 'best': 0.13966480446927373, 'said': 0.27932960893854747, 'That': 0.13966480446927373, 'mangoe@cs': 0.13966480446927373, 'enough': 0.27932960893854747, \"there's\": 0.13966480446927373, 'probably': 0.13966480446927373, 'diciples': 0.13966480446927373, 'missing': 0.13966480446927373, 'Could': 0.13966480446927373, 'weak': 0.13966480446927373, 'article': 0.13966480446927373, \"wouldn't\": 0.13966480446927373, '>Unfortunately': 0.13966480446927373, 'receiver': 0.13966480446927373, 'edu>': 0.13966480446927373, 'point': 0.5586592178770949, 'seems': 0.13966480446927373, 'Wingate)': 0.13966480446927373, 'spans': 0.13966480446927373, 'news': 0.13966480446927373, 'Dating': 0.13966480446927373, 'speak': 0.13966480446927373, 'better': 0.13966480446927373, 'Sure': 0.13966480446927373, \"it's\": 0.13966480446927373, '>>Interesting': 0.13966480446927373, 'been': 0.27932960893854747, '>>Well': 0.13966480446927373, '\"one': 0.13966480446927373, '>': 1.675977653631285, \"what's\": 0.13966480446927373, 'CE': 0.13966480446927373, 'Subject:': 0.13966480446927373, 'evidence': 0.5586592178770949, 'case': 0.13966480446927373, 'look': 0.13966480446927373, 'How': 0.41899441340782123, 'these': 0.13966480446927373, 'century': 0.13966480446927373, 'almost': 0.27932960893854747, 'is': 2.2346368715083798, '>>of': 0.13966480446927373, 'it': 0.6983240223463687, 'itself': 0.13966480446927373, 'in': 1.675977653631285, '>hopeless': 0.13966480446927373, 'if': 0.13966480446927373, 'different': 0.27932960893854747, 'Luke': 1.2569832402234637, 'clearly': 0.13966480446927373, 'arguments': 0.13966480446927373, '9': 0.13966480446927373, 'diciple': 0.13966480446927373, 'gets': 0.13966480446927373, 'disciple': 0.27932960893854747, 'used': 0.13966480446927373, 'I': 0.5586592178770949, 'IS': 0.13966480446927373, 'hand': 0.27932960893854747, '>information': 0.13966480446927373, 'which?': 0.13966480446927373, 'off': 0.27932960893854747, 'older': 0.13966480446927373, 'Is': 0.13966480446927373, 'well': 0.13966480446927373, 'It': 0.27932960893854747, 'obviously': 0.13966480446927373, 'In': 0.41899441340782123, 'the': 4.329608938547486, 'Id': 0.13966480446927373, 'usual': 0.13966480446927373, '>then': 0.13966480446927373, 'rest': 0.13966480446927373, 'quotes': 0.13966480446927373, '>The': 0.41899441340782123, 'had': 0.13966480446927373, 'source': 0.27932960893854747, 'verse': 0.13966480446927373, '(I': 0.13966480446927373, '>>give': 0.13966480446927373, 'has': 0.41899441340782123, 'transformation': 0.13966480446927373, 'which': 0.13966480446927373, 'read': 0.13966480446927373, 'James': 0.13966480446927373, 'early': 0.13966480446927373, 'possibly': 0.13966480446927373, 'antiquated)': 0.13966480446927373, 'know': 0.13966480446927373, 'accepted': 0.27932960893854747, 'like': 0.13966480446927373, 'lost': 0.13966480446927373, 'follows': 0.13966480446927373, 'either': 0.13966480446927373, 'admittedly': 0.13966480446927373, 'shed': 0.13966480446927373, 'old': 0.41899441340782123, 'tu-bs': 0.13966480446927373, 'people': 0.13966480446927373, '>>manuscripts?': 0.13966480446927373, 'some': 0.27932960893854747, 'Mark': 0.9776536312849162, 'for': 0.5586592178770949, 'Earlier': 0.13966480446927373, 'However': 0.13966480446927373, 'umd': 0.27932960893854747, 'does': 0.27932960893854747, 'be': 0.6983240223463687, 'Q-oid': 0.13966480446927373, 'midsentence': 0.13966480446927373, 'think)': 0.13966480446927373, 'step': 0.27932960893854747, '>>There': 0.13966480446927373, 'codified': 0.13966480446927373, 'on': 0.6983240223463687, 'about': 0.13966480446927373, 'of': 4.050279329608938, 'range': 0.13966480446927373, 'connected': 0.13966480446927373, 'or': 0.41899441340782123, '>>Luke': 0.13966480446927373, 'within': 0.13966480446927373, 'But': 0.13966480446927373, 'your': 0.13966480446927373, 'assumed': 0.13966480446927373, 'there': 0.13966480446927373, \"'80s\": 0.13966480446927373, 'way': 0.13966480446927373, 'was': 0.8379888268156425, 'complete': 0.13966480446927373, 'form': 0.13966480446927373, 'they?': 0.13966480446927373, 'but': 0.41899441340782123, 'removed': 0.13966480446927373, 'with': 0.27932960893854747, 'he': 0.27932960893854747, 'info': 0.13966480446927373, 'Compare': 0.13966480446927373, '>>used': 0.13966480446927373, 'versions': 0.27932960893854747, 'stories': 0.13966480446927373, 'removed\"': 0.13966480446927373, 'problem': 0.13966480446927373, 'similar': 0.27932960893854747, 'believers': 0.13966480446927373, 'an': 0.41899441340782123, 'To': 0.13966480446927373, 'as': 0.8379888268156425, 'at': 0.41899441340782123, 'no': 0.27932960893854747, 'generally': 0.41899441340782123, 'other': 0.27932960893854747, 'writes:': 0.13966480446927373, 'you': 0.27932960893854747, 'From:': 0.13966480446927373, 'age': 0.13966480446927373, 'Am': 0.13966480446927373, 'together': 0.27932960893854747, 'As': 0.13966480446927373, 'time': 0.27932960893854747, 'original': 0.27932960893854747}, {'saying': 0.3937007874015748, 'all': 0.3937007874015748, 'just': 0.3937007874015748, 'text': 0.3937007874015748, 'over': 0.3937007874015748, 'What': 0.3937007874015748, 'Religion': 0.3937007874015748, 'through': 0.3937007874015748, 'RAs': 0.3937007874015748, 'edu': 0.3937007874015748, \"he'll\": 0.3937007874015748, 'religious': 0.3937007874015748, 'assembled': 0.3937007874015748, 'soul_': 0.3937007874015748, 'copy': 0.3937007874015748, 'Recently': 0.3937007874015748, 'somewhere': 0.3937007874015748, '(': 0.3937007874015748, 'Director': 0.3937007874015748, 'spirituality': 0.3937007874015748, 'pretty': 0.3937007874015748, 'friendly': 0.3937007874015748, 'do': 0.3937007874015748, 'violating': 0.3937007874015748, 'someone': 0.3937007874015748, \"they're\": 0.3937007874015748, 'very': 0.3937007874015748, 'matters': 0.3937007874015748, 'dmn@kepler': 0.3937007874015748, 'not': 0.3937007874015748, 'poses': 0.3937007874015748, 'vague': 0.3937007874015748, 'apparently)': 0.3937007874015748, 'school': 0.3937007874015748, 'like': 0.3937007874015748, 'university': 0.7874015748031497, 'wipe)': 0.3937007874015748, 'mincer': 0.3937007874015748, 'outrageously': 0.3937007874015748, 'Hampshire)': 0.3937007874015748, 'each': 0.3937007874015748, 'become': 0.7874015748031497, 'From:': 0.3937007874015748, 'luck': 0.3937007874015748, 'mental': 0.3937007874015748, 'some': 0.3937007874015748, 'back': 0.3937007874015748, 'see': 0.3937007874015748, 'New': 0.3937007874015748, 'newsletter': 0.3937007874015748, 'neighbourhood': 0.3937007874015748, 'out': 0.3937007874015748, \"'\": 0.3937007874015748, 'solicits': 0.3937007874015748, 'defend': 0.3937007874015748, 'supporter': 0.3937007874015748, 'religion': 0.7874015748031497, 'state': 0.3937007874015748, 'issue': 0.3937007874015748, 'Re:': 0.3937007874015748, 'be': 0.3937007874015748, 'run': 0.3937007874015748, 'responses': 0.3937007874015748, 'This': 0.3937007874015748, 'University': 0.3937007874015748, 'use': 0.3937007874015748, 'flyer': 0.3937007874015748, 'separation': 0.7874015748031497, 'put': 0.3937007874015748, 'post': 0.3937007874015748, 'strong': 0.3937007874015748, 'paste': 0.3937007874015748, 'by': 0.7874015748031497, 'on': 1.5748031496062993, 'about': 1.1811023622047243, 'kings)': 0.3937007874015748, 'Give': 0.3937007874015748, '<mathew@mantis': 0.3937007874015748, 'of': 3.1496062992125986, \"I've\": 0.3937007874015748, 'Scroll:': 0.3937007874015748, 'Jesus': 0.3937007874015748, 'unh': 0.3937007874015748, '(at': 0.3937007874015748, 'or': 1.1811023622047243, 'enraged': 0.3937007874015748, '\"Well': 0.3937007874015748, 'co': 0.3937007874015748, \"It's\": 0.3937007874015748, 'church/state?': 0.3937007874015748, 'one': 0.3937007874015748, '(You': 0.3937007874015748, \"'issue\": 0.3937007874015748, 'church': 0.3937007874015748, 'kings': 0.3937007874015748, 'sounds': 0.3937007874015748, 'your': 0.3937007874015748, \"doesn't\": 0.3937007874015748, 'bathroom': 0.3937007874015748, '\"': 0.3937007874015748, 'to': 2.3622047244094486, \"it's\": 0.7874015748031497, 'support': 0.3937007874015748, 'question': 0.3937007874015748, 'been': 0.3937007874015748, 'next': 0.3937007874015748, 'cared': 0.3937007874015748, 'Matters': 0.3937007874015748, 'now:': 0.3937007874015748, '_The': 0.3937007874015748, 'was': 0.3937007874015748, 'until': 0.3937007874015748, 'Thoughts': 0.7874015748031497, '>': 5.118110236220472, 'sort': 0.3937007874015748, 'an': 0.3937007874015748, 'gut-bustingly': 0.3937007874015748, 'Stool': 0.3937007874015748, 'but': 0.3937007874015748, 'philosophers': 0.7874015748031497, 'STATE': 0.3937007874015748, 'bible': 0.3937007874015748, 'So': 0.3937007874015748, 'resisted': 0.3937007874015748, 'Subject:': 0.3937007874015748, 'careful': 0.3937007874015748, 'with': 0.3937007874015748, 'Scroll': 0.3937007874015748, 'me': 0.3937007874015748, 'uk>': 0.3937007874015748, 'none': 0.3937007874015748, 'originals': 0.3937007874015748, 'Spirituality': 0.3937007874015748, 'this': 0.3937007874015748, 'inside': 0.3937007874015748, 'what???': 0.3937007874015748, 'stall': 0.3937007874015748, 'can': 1.5748031496062993, 'OUT': 0.3937007874015748, 'my': 0.3937007874015748, 'this?': 0.3937007874015748, 'and': 2.7559055118110236, 'ordered': 0.3937007874015748, 'is': 0.7874015748031497, 'it': 1.968503937007874, '(and': 0.3937007874015748, 'heard': 0.3937007874015748, 'as': 0.3937007874015748, 'have': 0.7874015748031497, 'in': 0.3937007874015748, 'campus': 0.3937007874015748, 'funny': 0.3937007874015748, 'Christian': 0.3937007874015748, 'offensive': 0.3937007874015748, 'any': 0.3937007874015748, 'doors': 0.3937007874015748, 'writes:': 0.3937007874015748, 'you': 0.7874015748031497, 'Hall': 0.3937007874015748, 'entitled': 0.3937007874015748, 'I': 1.5748031496062993, 'Soul': 0.3937007874015748, 'hand': 0.3937007874015748, 'included': 0.3937007874015748, 'The': 0.3937007874015748, 'preacher;': 0.3937007874015748, 'a': 2.7559055118110236, 'mathew': 0.7874015748031497, 'for': 0.3937007874015748, 'mention': 0.3937007874015748, 'assume': 0.3937007874015748, 'SCREAMING': 0.3937007874015748, 'It': 1.1811023622047243, \"'spirituality'\": 0.3937007874015748, 'Colon': 0.3937007874015748, 'SubGenius': 0.3937007874015748, 'the': 3.543307086614173, 'parody': 0.7874015748031497}, {'93Apr5120934@harder': 0.8620689655172413, 'strom@watson': 0.8620689655172413, 'Scouts\"': 0.8620689655172413, 'hate': 1.7241379310344827, '784-7641': 0.8620689655172413, 'issues': 0.8620689655172413, 'River': 0.8620689655172413, 'HOWEVER': 0.8620689655172413, 'to': 1.7241379310344827, 'Strom)': 0.8620689655172413, 'somebody': 0.8620689655172413, 'worse': 0.8620689655172413, '|>': 4.310344827586207, '[2]': 0.8620689655172413, 'stop': 0.8620689655172413, 'P': 0.8620689655172413, 'Can': 0.8620689655172413, 'they': 0.8620689655172413, 'Research': 0.8620689655172413, 'terrorism': 0.8620689655172413, 'approach': 0.8620689655172413, '(Bob': 0.8620689655172413, '--': 0.8620689655172413, 'supports': 0.8620689655172413, 'Mill': 0.8620689655172413, 'Saw': 0.8620689655172413, '[1]': 1.7241379310344827, 'Box': 0.8620689655172413, '704': 0.8620689655172413, '<N4HY': 0.8620689655172413, 'economic': 0.8620689655172413, 'et': 0.8620689655172413, 'matching': 0.8620689655172413, 'funding': 0.8620689655172413, 'for': 0.8620689655172413, 'axes': 0.8620689655172413, 'strom@Watson': 0.8620689655172413, 'between': 0.8620689655172413, '[soc': 0.8620689655172413, 'Re:': 0.8620689655172413, 'Boy': 0.8620689655172413, 'Heights': 0.8620689655172413, '(914)': 0.8620689655172413, 'O': 0.8620689655172413, 'org': 0.8620689655172413, '10598': 0.8620689655172413, 'on': 0.8620689655172413, 'of': 0.8620689655172413, 'Rob': 0.8620689655172413, '30': 0.8620689655172413, 'correctness': 0.8620689655172413, 'contradiction': 0.8620689655172413, 'motss': 0.8620689655172413, 'scouts': 0.8620689655172413, 'com': 0.8620689655172413, 'or': 0.8620689655172413, 'ida': 1.7241379310344827, 'directly': 0.8620689655172413, 'article': 0.8620689655172413, 'IBM': 0.8620689655172413, '[2]?': 0.8620689655172413, ']': 0.8620689655172413, 'political': 0.8620689655172413, 'NY': 0.8620689655172413, 'organizating': 0.8620689655172413, 'org>': 0.8620689655172413, 'until': 0.8620689655172413, 'more': 0.8620689655172413, 'gay': 0.8620689655172413, 'that': 0.8620689655172413, 'funds': 0.8620689655172413, 'apparent': 0.8620689655172413, 'policy': 0.8620689655172413, 'ccr-p': 1.7241379310344827, 'Subject:': 0.8620689655172413, 'than': 0.8620689655172413, 'Road': 0.8620689655172413, 'ibm': 0.8620689655172413, 'rights': 0.8620689655172413, 'this': 0.8620689655172413, 'and': 1.7241379310344827, 'reconcile': 0.8620689655172413, 'is': 0.8620689655172413, 'al': 0.8620689655172413, 'boycott': 0.8620689655172413, 'donating': 0.8620689655172413, '(Rob': 0.8620689655172413, 'Strom': 0.8620689655172413, 'n4hy@harder': 0.8620689655172413, 'Ibm': 0.8620689655172413, 'end': 0.8620689655172413, 'writes:': 0.8620689655172413, '\"Princeton': 0.8620689655172413, 'From:': 0.8620689655172413, 'A': 0.8620689655172413, 'I': 1.7241379310344827, 'Yorktown': 0.8620689655172413, 'Com': 0.8620689655172413, 'effective': 0.8620689655172413, 'ANY': 0.8620689655172413, 'In': 0.8620689655172413, 'the': 1.7241379310344827, 'McGwier)': 0.8620689655172413, 'indirectly': 0.8620689655172413}]\n"
     ]
    }
   ],
   "source": [
    "list_of_dictionaries = [] # Initially, an empty list\n",
    "for messageNumber in range(len(messages_aa)):\n",
    "    words = messages_aa[messageNumber]\n",
    "    myDictionary = createDictionary(words)\n",
    "    for word in myDictionary:\n",
    "        myDictionary[word] = 100*myDictionary[word]/float(len(words))  \n",
    "    list_of_dictionaries.append(myDictionary)\n",
    "    \n",
    "print(list_of_dictionaries)"
   ]
  }
 ],
 "metadata": {
  "kernelspec": {
   "display_name": "Python 2",
   "language": "python",
   "name": "python2"
  },
  "language_info": {
   "codemirror_mode": {
    "name": "ipython",
    "version": 2
   },
   "file_extension": ".py",
   "mimetype": "text/x-python",
   "name": "python",
   "nbconvert_exporter": "python",
   "pygments_lexer": "ipython2",
   "version": "2.7.14"
  }
 },
 "nbformat": 4,
 "nbformat_minor": 1
}
