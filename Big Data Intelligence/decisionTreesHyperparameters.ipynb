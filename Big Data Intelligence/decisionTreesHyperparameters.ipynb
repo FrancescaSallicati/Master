{
 "cells": [
  {
   "cell_type": "markdown",
   "metadata": {},
   "source": [
    "# DECISION TREE HYPER-PARAMETERS. TUNING DECISION TREES"
   ]
  },
  {
   "cell_type": "markdown",
   "metadata": {},
   "source": [
    "- ** max_depth : int or None, optional (default=None)**\n",
    "    The maximum depth of the tree. If None, then nodes are expanded until all leaves are pure or until all leaves contain less than min_samples_split samples. Ignored if max_leaf_nodes is not None.\n",
    "    \n",
    "- **min_samples_split : int, optional (default=2)**\n",
    "    The minimum number of samples required to split an internal node.\n",
    "\n",
    "- There are more hyper-parameters: \n",
    "  - help(\"sklearn.tree.DecisionTreeRegressor\")\n",
    "  - help(\"sklearn.tree.DecisionTreeClassifier\")\n",
    "\n"
   ]
  },
  {
   "cell_type": "code",
   "execution_count": 3,
   "metadata": {
    "collapsed": true
   },
   "outputs": [],
   "source": [
    "%matplotlib inline\n",
    "import matplotlib.pyplot as plt\n",
    "import numpy as np\n",
    "from sklearn.datasets import load_boston\n",
    "from sklearn import tree\n",
    "from scipy.stats import sem\n",
    "from sklearn.cross_validation import cross_val_score, KFold\n",
    "\n",
    "boston = load_boston()\n",
    "X = boston.data\n",
    "y = boston.target\n",
    "\n",
    "np.random.seed(0)\n",
    "cv = KFold(X.shape[0], 10, shuffle=True, random_state=0)\n"
   ]
  },
  {
   "cell_type": "markdown",
   "metadata": {},
   "source": [
    "**Let's see what happens if we change max_depth parameter **"
   ]
  },
  {
   "cell_type": "code",
   "execution_count": 4,
   "metadata": {
    "scrolled": true
   },
   "outputs": [
    {
     "name": "stdout",
     "output_type": "stream",
     "text": [
      "Max_depth=2 :Mean score: 30.049 (+/-3.252)\n",
      "Max_depth=4 :Mean score: 26.110 (+/-5.819)\n",
      "Max_depth=6 :Mean score: 24.863 (+/-5.072)\n",
      "Max_depth=8 :Mean score: 25.728 (+/-6.603)\n",
      "Max_depth=10 :Mean score: 24.215 (+/-6.103)\n",
      "Max_depth=12 :Mean score: 24.565 (+/-6.078)\n",
      "Max_depth=14 :Mean score: 24.701 (+/-5.942)\n"
     ]
    },
    {
     "data": {
      "image/png": "[encoded data removed]",
      "text/plain": [
       "<matplotlib.figure.Figure at 0xaa1cbe0>"
      ]
     },
     "metadata": {},
     "output_type": "display_data"
    }
   ],
   "source": [
    "#for max_depth in [2,4,6,8,10,12,14,16]:\n",
    "np.random.seed(0)\n",
    "mds = range(2,16,2)\n",
    "results = []\n",
    "for max_depth in mds:\n",
    "  clf = tree.DecisionTreeRegressor(max_depth=max_depth)\n",
    "  scores = -cross_val_score(clf, \n",
    "                            X, y, \n",
    "                            scoring='neg_mean_squared_error', \n",
    "                            cv = cv)\n",
    "    \n",
    "  results.append(scores.mean())\n",
    "  print (\"Max_depth={0:d} :Mean score: {1:.3f} (+/-{2:.3f})\").format(max_depth, scores.mean(), sem(scores))\n",
    "\n",
    "plt.plot(np.array(mds,dtype=float),  results)\n",
    "plt.show()"
   ]
  },
  {
   "cell_type": "markdown",
   "metadata": {},
   "source": [
    "** We can see that the minimum value is obtained at max_depth = 10, so we should set the hyper-parameter to this value. However, it is important to see that if the random seed is changed from 0 to other values (try it by changing x in np.seed(x)), slightly different plots (and minima) are obtained, because the algorithm that builds decision trees is stochastic. **"
   ]
  },
  {
   "cell_type": "markdown",
   "metadata": {},
   "source": [
    "** Let's see now what happens if we change the other hyperparameter: min_samples_split hyper-parameter **"
   ]
  },
  {
   "cell_type": "code",
   "execution_count": 5,
   "metadata": {
    "scrolled": true
   },
   "outputs": [
    {
     "name": "stdout",
     "output_type": "stream",
     "text": [
      "min_samples_split=2 :Mean score: 23.285 (+/-4.464)\n",
      "min_samples_split=4 :Mean score: 23.619 (+/-4.669)\n",
      "min_samples_split=6 :Mean score: 23.926 (+/-5.305)\n",
      "min_samples_split=8 :Mean score: 23.973 (+/-4.911)\n",
      "min_samples_split=10 :Mean score: 23.808 (+/-5.028)\n",
      "min_samples_split=12 :Mean score: 22.729 (+/-4.848)\n",
      "min_samples_split=14 :Mean score: 21.189 (+/-4.872)\n",
      "min_samples_split=16 :Mean score: 21.177 (+/-4.961)\n",
      "min_samples_split=18 :Mean score: 20.923 (+/-4.917)\n",
      "min_samples_split=20 :Mean score: 20.824 (+/-4.877)\n",
      "min_samples_split=22 :Mean score: 20.625 (+/-4.738)\n",
      "min_samples_split=24 :Mean score: 20.883 (+/-4.691)\n",
      "min_samples_split=26 :Mean score: 20.689 (+/-4.939)\n",
      "min_samples_split=28 :Mean score: 19.881 (+/-4.770)\n",
      "min_samples_split=30 :Mean score: 20.397 (+/-4.734)\n",
      "min_samples_split=32 :Mean score: 21.200 (+/-4.826)\n"
     ]
    },
    {
     "data": {
      "image/png": "[encoded data removed]",
      "text/plain": [
       "<matplotlib.figure.Figure at 0xabd0470>"
      ]
     },
     "metadata": {},
     "output_type": "display_data"
    }
   ],
   "source": [
    "np.random.seed(0)  \n",
    "mds = range(2,34,2)\n",
    "results = []\n",
    "for min_samples_split in mds:\n",
    "  clf = tree.DecisionTreeRegressor(min_samples_split=min_samples_split)\n",
    "  scores = -cross_val_score(clf, \n",
    "                            X, y, \n",
    "                            scoring='neg_mean_squared_error', \n",
    "                            cv = cv)\n",
    "    \n",
    "  results.append(scores.mean())\n",
    "  print (\"min_samples_split={0:d} :Mean score: {1:.3f} (+/-{2:.3f})\").format(min_samples_split, scores.mean(), sem(scores))\n",
    "\n",
    "plt.plot(np.array(mds,dtype=float),  results)\n",
    "plt.show()"
   ]
  },
  {
   "cell_type": "markdown",
   "metadata": {},
   "source": [
    "**The minimum for min_samples_split is obtained at 28, but this could change slightly if the random seed is altered, because decision tree construction is an stochastic process.**"
   ]
  },
  {
   "cell_type": "markdown",
   "metadata": {},
   "source": [
    "# GRID SEARCH\n",
    "**What if we want to find the best combination of hyper-parameters? (and not individual parameters as we did above). The process that performs a crossvalidation for all possible combinations of two (or more) hyper-parameters is called *grid-search* **\n",
    "\n",
    "Note: in priciple, n_jobs can be used to run the process in parallel. In practive, in Windows it does not work well."
   ]
  },
  {
   "cell_type": "code",
   "execution_count": 17,
   "metadata": {},
   "outputs": [
    {
     "name": "stdout",
     "output_type": "stream",
     "text": [
      "Fitting 5 folds for each of 112 candidates, totalling 560 fits\n",
      "Wall time: 2.08 s\n"
     ]
    },
    {
     "name": "stderr",
     "output_type": "stream",
     "text": [
      "[Parallel(n_jobs=1)]: Done 560 out of 560 | elapsed:    2.0s finished\n"
     ]
    }
   ],
   "source": [
    "from sklearn.grid_search import GridSearchCV\n",
    "np.random.seed(0)\n",
    "param_grid = {'max_depth': range(2,16,2),\n",
    "              'min_samples_split': range(2,34,2)}\n",
    "\n",
    "clf = GridSearchCV(tree.DecisionTreeRegressor(), \n",
    "                   param_grid,\n",
    "                   scoring='neg_mean_squared_error',\n",
    "                   cv=5 , n_jobs=1, verbose=1)\n",
    "%time _ = clf.fit(X,y)"
   ]
  },
  {
   "cell_type": "markdown",
   "metadata": {},
   "source": [
    "** Let's see the best hyper-parameters**"
   ]
  },
  {
   "cell_type": "code",
   "execution_count": 7,
   "metadata": {},
   "outputs": [
    {
     "data": {
      "text/plain": [
       "({'max_depth': 4, 'min_samples_split': 26}, -34.70844923772647)"
      ]
     },
     "execution_count": 7,
     "metadata": {},
     "output_type": "execute_result"
    }
   ],
   "source": [
    "clf.best_params_, clf.best_score_"
   ]
  },
  {
   "cell_type": "markdown",
   "metadata": {},
   "source": [
    "**The best model fit with the best hyper-parameters and the whole training set can be used to make predictions:**"
   ]
  },
  {
   "cell_type": "code",
   "execution_count": 8,
   "metadata": {
    "scrolled": true
   },
   "outputs": [
    {
     "name": "stdout",
     "output_type": "stream",
     "text": [
      "[ 27.42727273  21.62974359  32.74878049  32.74878049  32.74878049\n",
      "  21.62974359  21.62974359  19.73846154  19.73846154  19.73846154\n",
      "  19.73846154]\n"
     ]
    }
   ],
   "source": [
    "predictions = clf.predict(X)\n",
    "print predictions[0:11]"
   ]
  },
  {
   "cell_type": "markdown",
   "metadata": {},
   "source": [
    "** Using Randomized Search instead of a systematic search**"
   ]
  },
  {
   "cell_type": "code",
   "execution_count": 16,
   "metadata": {},
   "outputs": [
    {
     "name": "stdout",
     "output_type": "stream",
     "text": [
      "Fitting 5 folds for each of 20 candidates, totalling 100 fits\n",
      "mean: -41.58862, std: 17.32399, params: {'min_samples_split': 4, 'max_depth': 2}\n",
      "mean: -36.24646, std: 13.40083, params: {'min_samples_split': 9, 'max_depth': 3}\n",
      "mean: -36.44100, std: 18.22738, params: {'min_samples_split': 5, 'max_depth': 5}\n",
      "mean: -38.88728, std: 20.48996, params: {'min_samples_split': 5, 'max_depth': 6}\n",
      "mean: -38.06172, std: 17.76539, params: {'min_samples_split': 6, 'max_depth': 6}\n",
      "mean: -38.43118, std: 18.68603, params: {'min_samples_split': 7, 'max_depth': 6}\n",
      "mean: -36.29114, std: 16.77858, params: {'min_samples_split': 11, 'max_depth': 6}\n",
      "mean: -40.56475, std: 21.21766, params: {'min_samples_split': 2, 'max_depth': 7}\n",
      "mean: -39.13675, std: 22.80748, params: {'min_samples_split': 2, 'max_depth': 7}\n",
      "mean: -38.54583, std: 18.93115, params: {'min_samples_split': 11, 'max_depth': 7}\n",
      "mean: -37.54859, std: 16.76227, params: {'min_samples_split': 10, 'max_depth': 9}\n"
     ]
    },
    {
     "name": "stderr",
     "output_type": "stream",
     "text": [
      "[Parallel(n_jobs=1)]: Done 100 out of 100 | elapsed:    0.3s finished\n"
     ]
    },
    {
     "data": {
      "text/plain": [
       "({'max_depth': 3, 'min_samples_split': 9}, -36.2464564151288)"
      ]
     },
     "execution_count": 16,
     "metadata": {},
     "output_type": "execute_result"
    }
   ],
   "source": [
    "from sklearn.grid_search import GridSearchCV, RandomizedSearchCV\n",
    "from scipy.stats import randint as sp_randint\n",
    "np.random.seed(0)\n",
    "\n",
    "param_dist = {'max_depth': sp_randint(2,16),\n",
    "              'min_samples_split': sp_randint(2,16)}\n",
    "\n",
    "n_iter_search = 20\n",
    "clfrs = RandomizedSearchCV(tree.DecisionTreeRegressor(), \n",
    "                                   param_distributions=param_dist,\n",
    "                                   scoring='neg_mean_squared_error',\n",
    "                                   cv=5 , n_jobs=1, verbose=1,\n",
    "                                   n_iter=n_iter_search)\n",
    "clfrs.fit(X,y)\n",
    "clfrs.grid_scores_.sort()\n",
    "for line in clfrs.grid_scores_[0:11]:\n",
    "    print(line)\n",
    "    \n",
    "clfrs.best_params_, clfrs.best_score_\n",
    "\n"
   ]
  },
  {
   "cell_type": "markdown",
   "metadata": {},
   "source": [
    "# COMBINING HYPER-PARAMETER TUNING AND MODEL EVALUATION"
   ]
  },
  {
   "cell_type": "markdown",
   "metadata": {},
   "source": [
    "Both grid search and randomized search do: 1) evaluate different models (trained with different hyper-parameters) by means of k-fold crossvalidation 2) then select the model with the top score 3) then train a final model with the best hyper-parameters and the whole dataset. This is the model stored in clf. But, what is the expected future performance of this model? We would need to test clf on a test set, or use crossvalidation. The latter is shown in the next cell. Pleae, notice that now GridSearchCV is called 10 times, once per crossvalidation iteration. In each crossvalidation iteration, hyper-parameters might actually be different. GridSearchCV also uses a crossvalidation for selecting the best hyper-parameters, but it is a different crossvalidation. In fact, what we have is two nested crossvalidation processes: the external one is for model evaluation, the internal one is for hyper-parameter selection. Think about it! "
   ]
  },
  {
   "cell_type": "code",
   "execution_count": 18,
   "metadata": {},
   "outputs": [
    {
     "name": "stdout",
     "output_type": "stream",
     "text": [
      "Fitting 5 folds for each of 49 candidates, totalling 245 fits\n"
     ]
    },
    {
     "name": "stderr",
     "output_type": "stream",
     "text": [
      "[Parallel(n_jobs=1)]: Done 245 out of 245 | elapsed:    0.7s finished\n"
     ]
    },
    {
     "name": "stdout",
     "output_type": "stream",
     "text": [
      "Fitting 5 folds for each of 49 candidates, totalling 245 fits\n"
     ]
    },
    {
     "name": "stderr",
     "output_type": "stream",
     "text": [
      "[Parallel(n_jobs=1)]: Done 245 out of 245 | elapsed:    0.6s finished\n"
     ]
    },
    {
     "name": "stdout",
     "output_type": "stream",
     "text": [
      "Fitting 5 folds for each of 49 candidates, totalling 245 fits\n"
     ]
    },
    {
     "name": "stderr",
     "output_type": "stream",
     "text": [
      "[Parallel(n_jobs=1)]: Done 245 out of 245 | elapsed:    0.6s finished\n"
     ]
    },
    {
     "name": "stdout",
     "output_type": "stream",
     "text": [
      "Fitting 5 folds for each of 49 candidates, totalling 245 fits\n"
     ]
    },
    {
     "name": "stderr",
     "output_type": "stream",
     "text": [
      "[Parallel(n_jobs=1)]: Done 245 out of 245 | elapsed:    0.7s finished\n"
     ]
    },
    {
     "name": "stdout",
     "output_type": "stream",
     "text": [
      "Fitting 5 folds for each of 49 candidates, totalling 245 fits\n"
     ]
    },
    {
     "name": "stderr",
     "output_type": "stream",
     "text": [
      "[Parallel(n_jobs=1)]: Done 245 out of 245 | elapsed:    0.6s finished\n"
     ]
    },
    {
     "name": "stdout",
     "output_type": "stream",
     "text": [
      "Fitting 5 folds for each of 49 candidates, totalling 245 fits\n"
     ]
    },
    {
     "name": "stderr",
     "output_type": "stream",
     "text": [
      "[Parallel(n_jobs=1)]: Done 245 out of 245 | elapsed:    0.7s finished\n"
     ]
    },
    {
     "name": "stdout",
     "output_type": "stream",
     "text": [
      "Fitting 5 folds for each of 49 candidates, totalling 245 fits\n"
     ]
    },
    {
     "name": "stderr",
     "output_type": "stream",
     "text": [
      "[Parallel(n_jobs=1)]: Done 245 out of 245 | elapsed:    0.7s finished\n"
     ]
    },
    {
     "name": "stdout",
     "output_type": "stream",
     "text": [
      "Fitting 5 folds for each of 49 candidates, totalling 245 fits\n"
     ]
    },
    {
     "name": "stderr",
     "output_type": "stream",
     "text": [
      "[Parallel(n_jobs=1)]: Done 245 out of 245 | elapsed:    0.7s finished\n"
     ]
    },
    {
     "name": "stdout",
     "output_type": "stream",
     "text": [
      "Fitting 5 folds for each of 49 candidates, totalling 245 fits\n"
     ]
    },
    {
     "name": "stderr",
     "output_type": "stream",
     "text": [
      "[Parallel(n_jobs=1)]: Done 245 out of 245 | elapsed:    0.7s finished\n"
     ]
    },
    {
     "name": "stdout",
     "output_type": "stream",
     "text": [
      "Fitting 5 folds for each of 49 candidates, totalling 245 fits\n"
     ]
    },
    {
     "name": "stderr",
     "output_type": "stream",
     "text": [
      "[Parallel(n_jobs=1)]: Done 245 out of 245 | elapsed:    0.7s finished\n"
     ]
    }
   ],
   "source": [
    "from sklearn.grid_search import GridSearchCV\n",
    "param_grid = {'max_depth': range(2,16,2),\n",
    "              'min_samples_split': range(2,16,2)}\n",
    "\n",
    "np.random.seed(0)\n",
    "clf = GridSearchCV(tree.DecisionTreeRegressor(), \n",
    "                   param_grid,\n",
    "                   scoring='neg_mean_squared_error',\n",
    "                   cv=5 , n_jobs=1, verbose=1)\n",
    "\n",
    "cv = KFold(X.shape[0], 10, shuffle=True, random_state=0)\n",
    "scores = -cross_val_score(clf, \n",
    "                            X, y, \n",
    "                            scoring='neg_mean_squared_error', \n",
    "                            cv = cv)\n"
   ]
  },
  {
   "cell_type": "markdown",
   "metadata": {},
   "source": [
    "The expected performance of the model is (mean squared error):"
   ]
  },
  {
   "cell_type": "code",
   "execution_count": 19,
   "metadata": {},
   "outputs": [
    {
     "data": {
      "text/plain": [
       "23.979412674551263"
      ]
     },
     "execution_count": 19,
     "metadata": {},
     "output_type": "execute_result"
    }
   ],
   "source": [
    "scores.mean()"
   ]
  },
  {
   "cell_type": "markdown",
   "metadata": {},
   "source": [
    "But we still have to train the final model with the complete dataset."
   ]
  },
  {
   "cell_type": "code",
   "execution_count": 20,
   "metadata": {},
   "outputs": [
    {
     "name": "stdout",
     "output_type": "stream",
     "text": [
      "Fitting 5 folds for each of 49 candidates, totalling 245 fits\n",
      "GridSearchCV(cv=5, error_score='raise',\n",
      "       estimator=DecisionTreeRegressor(criterion='mse', max_depth=None, max_features=None,\n",
      "           max_leaf_nodes=None, min_impurity_decrease=0.0,\n",
      "           min_impurity_split=None, min_samples_leaf=1,\n",
      "           min_samples_split=2, min_weight_fraction_leaf=0.0,\n",
      "           presort=False, random_state=None, splitter='best'),\n",
      "       fit_params={}, iid=True, n_jobs=1,\n",
      "       param_grid={'min_samples_split': [2, 4, 6, 8, 10, 12, 14], 'max_depth': [2, 4, 6, 8, 10, 12, 14]},\n",
      "       pre_dispatch='2*n_jobs', refit=True,\n",
      "       scoring='neg_mean_squared_error', verbose=1)\n"
     ]
    },
    {
     "name": "stderr",
     "output_type": "stream",
     "text": [
      "[Parallel(n_jobs=1)]: Done 245 out of 245 | elapsed:    0.8s finished\n"
     ]
    }
   ],
   "source": [
    "np.random.seed(0)\n",
    "clfFinal = GridSearchCV(tree.DecisionTreeRegressor(), \n",
    "                   param_grid,\n",
    "                   scoring='neg_mean_squared_error',\n",
    "                   cv=5 , n_jobs=1, verbose=1)\n",
    "print(clfFinal.fit(X,y))"
   ]
  },
  {
   "cell_type": "code",
   "execution_count": null,
   "metadata": {
    "collapsed": true
   },
   "outputs": [],
   "source": []
  }
 ],
 "metadata": {
  "kernelspec": {
   "display_name": "Python 2",
   "language": "python",
   "name": "python2"
  },
  "language_info": {
   "codemirror_mode": {
    "name": "ipython",
    "version": 2
   },
   "file_extension": ".py",
   "mimetype": "text/x-python",
   "name": "python",
   "nbconvert_exporter": "python",
   "pygments_lexer": "ipython2",
   "version": "2.7.14"
  }
 },
 "nbformat": 4,
 "nbformat_minor": 1
}
