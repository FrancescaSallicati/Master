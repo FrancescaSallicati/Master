{
 "cells": [
  {
   "cell_type": "markdown",
   "metadata": {},
   "source": [
    "__First Assignment__ - Optimization for large-scale data - Francesca Sallicati 100341618"
   ]
  },
  {
   "cell_type": "markdown",
   "metadata": {},
   "source": [
    "A company produces a set of products at I plants. It then ships these products to J market zones.\n",
    "For $i = 1,...,I$ y $j = 1,...,J$, the following data are given:\n",
    "$v_i$ = variable cost of producing one unit of product at plant $i$. <br>\n",
    "$c_{ij}$ = cost of shipping one unit of product from plant $i$ to market $j$. <br>\n",
    "$d_j$ = demand for products at market $j$. <br>\n",
    "$M_i$ = maximum number or products produced at plant $i$. <br>\n",
    "$p_j$ = selling price for products at market $j$. <br>\n",
    "$F$ = maximum transportation capacity between plant $i$ and market $j$ (assume all transportation\n",
    "capacities are equal). <br>\n",
    "\n",
    "a) (3 points) Formulate the problem (linear program) of maximizing the total profit that the\n",
    "company is facing (total selling revenue - total production and transportation costs) by\n",
    "identifying the optimal production and transportation schedule. Assume also that demand\n",
    "is satisfy with \"equality\", i.e., \"total product reaching market $j$\" = $d_j$ ).\n",
    "\n",
    "__SOLUTION__\n",
    "\n",
    "After defining \n",
    "$X_{ij}$ as the units produced in market $i$, shipped to and sold in market $j$.  \n",
    "\n",
    "Our optimization problem consists in maximize the total profit, therefore the objective function will be:\n",
    "$$ \\max (\\sum_{i=1}^{I}  \\sum_{j=1}^{J} p_{j} X_{ij} - \\sum_{i=1}^{I}  \\sum_{j=1}^{J} v_{i} c_{ij} X_{ij})$$\n",
    "\n",
    "\n",
    "while the constraints are:\n",
    "\n",
    "-satisfying the demand for markets $j$\n",
    "\n",
    "$$\\displaystyle \\sum_{i=1}^{I} X_{ij} = d_{j} \\quad j=1,...,J \\quad $$\n",
    "\n",
    "-producing whithin capacity of plants $i$\n",
    "\n",
    "$$\\displaystyle \\sum_{j=1}^{J} X_{ij} \\le M_{i} \\quad i=1,...,I \\quad $$\n",
    "\n",
    "-transporting less than maximum capacity of shipping from plant $i$ to market $j$\n",
    "\n",
    "$$X_{ij} \\le F \\quad j=1,...,J \\quad i=1,...,I \\quad $$\n",
    "\n",
    "-imposing positivity\n",
    "\n",
    "$$X_{ij} \\ge 0 \\quad j=1,...,J \\quad i=1,...,I \\quad $$\n",
    "\n"
   ]
  },
  {
   "cell_type": "markdown",
   "metadata": {},
   "source": [
    "b) (4 points) Implement the model in Pyomo as an \"AbstractModel()\" and solve it considering\n",
    "5 plants and 6 markets and randomly generated parameters. For the random generation of\n",
    "these parameters consider uniform distributions within the following ranges: $v_i \\in [1:5; 2:5]$,\n",
    "$c_{ij} \\in [1; 2]$, $d_j \\in [275; 325]$, $M_i \\in [400; 900]$, $p_j \\in [4; 5]$ y $F \\in [250; 350]$."
   ]
  },
  {
   "cell_type": "code",
   "execution_count": 2,
   "metadata": {
    "collapsed": true
   },
   "outputs": [],
   "source": [
    "#importing useful libraries and plot features\n",
    "import numpy as np\n",
    "import matplotlib.pyplot as plt\n",
    "%matplotlib inline\n",
    "\n",
    "import scipy as sp\n",
    "\n",
    "from pyomo.environ import *\n",
    "from pyomo.opt import SolverFactory\n",
    "opt = SolverFactory(\"glpk\")"
   ]
  },
  {
   "cell_type": "code",
   "execution_count": 3,
   "metadata": {},
   "outputs": [
    {
     "name": "stdout",
     "output_type": "stream",
     "text": [
      "The randomly generated values for the variables are the following:\n",
      "Cost\n",
      "[ 2.42961609  1.81637555  1.68391881  1.70456028  2.06772503]\n",
      "Demand\n",
      "[304 276 324 289 316 302]\n",
      "Maximum Production\n",
      "[647 774 608 770 601]\n",
      "Price\n",
      "[ 4.02678972  4.29150239  4.39874403  4.80728871  4.62709433  4.9079249 ]\n",
      "Shipping cost\n",
      "[[ 1.5563973   1.83991925  1.05048796  1.80623485  1.93081569  1.36402958]\n",
      " [ 1.69094792  1.12931457  1.8326864   1.31835373  1.73720226  1.59676964]\n",
      " [ 1.36370684  1.79497057  1.69848115  1.82187893  1.89946589  1.8318993 ]\n",
      " [ 1.90995772  1.97491359  1.65611959  1.81198957  1.10274399  1.23752845]\n",
      " [ 1.37934521  1.69923605  1.48494525  1.41522223  1.63866181  1.75928999]]\n",
      "Maximum Transportation Capacity\n",
      "[[250 340 294 307 264 276]\n",
      " [293 280 349 282 253 314]\n",
      " [256 316 299 287 322 293]\n",
      " [312 336 271 315 346 255]\n",
      " [312 334 321 319 295 268]]\n"
     ]
    }
   ],
   "source": [
    "sp.random.seed(12345)\n",
    "print(\"The randomly generated values for the variables are the following:\")\n",
    "\n",
    "n=5; #number of plants (i)\n",
    "m=6; #number of markets\n",
    "\n",
    "#production cost (1 unit) at plant i\n",
    "cost = np.random.uniform(low=1.5,high=2.5, size=5)\n",
    "print(\"Cost\")\n",
    "print(cost)\n",
    "\n",
    "#demand at market j\n",
    "demand = np.random.randint(low=275,high=325, size=6)\n",
    "print(\"Demand\")\n",
    "print(demand)\n",
    "\n",
    "#max production at plant i \n",
    "maxProd = np.random.randint(low=400,high=900, size=5)\n",
    "print(\"Maximum Production\")\n",
    "print(maxProd)\n",
    "\n",
    "#selling price at market j\n",
    "price = np.random.uniform(low=4,high=5, size=6)\n",
    "print(\"Price\")\n",
    "print(price)\n",
    "\n",
    "#transportation cost from plant i to market j (1 unit)\n",
    "ship = np.random.uniform(low=1,high=2, size=(5, 6))\n",
    "print(\"Shipping cost\")\n",
    "print(ship)\n",
    "\n",
    "#max transportation capacity (assuming equality) between plant i and market j\n",
    "maxCap = np.random.randint(low=250,high=350, size=(5, 6))\n",
    "print(\"Maximum Transportation Capacity\")\n",
    "print(maxCap)\n"
   ]
  },
  {
   "cell_type": "code",
   "execution_count": 4,
   "metadata": {
    "collapsed": true
   },
   "outputs": [],
   "source": [
    "from pyomo.environ import *\n",
    "from pyomo.opt import SolverFactory\n",
    "opt = SolverFactory(\"glpk\")\n",
    "\n",
    "def trans_opt(I,J,v,c,d,M,p,F):\n",
    "\n",
    "    model = AbstractModel()\n",
    "    model.I = RangeSet(1,I) \n",
    "    model.J = RangeSet(1,J)\n",
    "\n",
    "    # the next line declares a variable indexed by the set J \n",
    "    model.x = Var(model.I,model.J, domain=NonNegativeReals)\n",
    "\n",
    "    #definition of the objective function\n",
    "    def obj_expression(model): \n",
    "        return sum(sum(p[j-1]*model.x[i,j] for i in model.I) for j in model.J)-sum(sum(v[i-1]*model.x[i,j] for j in model.J) for i in model.I)-sum(sum(c[i-1,j-1]*model.x[i,j] for i in model.I) for j in model.J)\n",
    "    \n",
    "    model.OBJ = Objective(rule=obj_expression, sense=maximize)\n",
    "    \n",
    "    \n",
    "    #maximum flow per line\n",
    "    def flow_constraint_rule(model, i,j): # return the expression for the constraint for i\n",
    "        return model.x[i,j] <= F[i-1,j-1]\n",
    "    model.max_flow = Constraint(model.I,model.J, rule=flow_constraint_rule)\n",
    "\n",
    "    #minimum demand constraint\n",
    "    def d_constraint_rule(model, j): # return the expression for the constraint for i\n",
    "        return sum(model.x[i,j] for i in model.I) == d[j-1]\n",
    "    \n",
    "    #the next line creates one constraint for each member of the set model.J \n",
    "    model.dem_Constraint = Constraint(model.J, rule=d_constraint_rule)\n",
    "\n",
    "    #maximum production constraint\n",
    "    def M_constraint_rule(model, i): # return the expression for the constraint for i\n",
    "        return sum(model.x[i,j] for j in model.J)<= M[i-1]\n",
    "    \n",
    "    model.prod_Constraint = Constraint(model.I, rule=M_constraint_rule)\n",
    "\n",
    "    \n",
    "    instance = model.create_instance()\n",
    "    #instance = model.create()\n",
    "    #instance.dual = Suffix(direction=Suffix.IMPORT)\n",
    "    results = opt.solve(instance)\n",
    "\n",
    "    x_sol = np.zeros((I,J))\n",
    "    for i in range(0, I):\n",
    "            for j in range(0,J):\n",
    "                x_sol[i,j]=instance.x[i+1,j+1].value\n",
    "\n",
    "    return instance.OBJ(), x_sol\n",
    "\n"
   ]
  },
  {
   "cell_type": "code",
   "execution_count": 5,
   "metadata": {
    "collapsed": true
   },
   "outputs": [],
   "source": [
    "[obj,x_sol]=trans_opt(n,m,cost,ship,demand,maxProd,price,maxCap)"
   ]
  },
  {
   "cell_type": "code",
   "execution_count": 6,
   "metadata": {},
   "outputs": [
    {
     "data": {
      "text/plain": [
       "2611.0831738318543"
      ]
     },
     "execution_count": 6,
     "metadata": {},
     "output_type": "execute_result"
    }
   ],
   "source": [
    "obj"
   ]
  },
  {
   "cell_type": "code",
   "execution_count": 9,
   "metadata": {},
   "outputs": [
    {
     "name": "stdout",
     "output_type": "stream",
     "text": [
      "[[   0.    0.    0.    0.    0.    0.]\n",
      " [   0.  276.    0.  282.    0.   47.]\n",
      " [ 256.    0.  125.    0.    0.    0.]\n",
      " [   0.    0.  199.    0.  316.  255.]\n",
      " [  48.    0.    0.    7.    0.    0.]]\n"
     ]
    }
   ],
   "source": [
    "print(x_sol)"
   ]
  },
  {
   "cell_type": "markdown",
   "metadata": {},
   "source": [
    "c) (1 point) Considering the results: which plant's maximum capacity would be more bene\f",
    "cial\n",
    "to increase? and in which market would be more bene\f",
    "cial to increase the demand? Justify\n",
    "your answers."
   ]
  },
  {
   "cell_type": "code",
   "execution_count": 8,
   "metadata": {},
   "outputs": [
    {
     "name": "stdout",
     "output_type": "stream",
     "text": [
      "('Objective function value for increasing capacity in plant', 1, ' is ', 2611.0831738318543)\n",
      "('Objective function value for increasing capacity in plant', 2, ' is ', 2611.4313918033517)\n",
      "('Objective function value for increasing capacity in plant', 3, ' is ', 2611.4826184214376)\n",
      "('Objective function value for increasing capacity in plant', 4, ' is ', 2611.53251020233)\n",
      "('Objective function value for increasing capacity in plant', 5, ' is ', 2611.0831738318543)\n",
      "('The most beneficial increasing of maximum capacity would be in  plant:', 4)\n"
     ]
    },
    {
     "data": {
      "text/plain": [
       "[<matplotlib.lines.Line2D at 0xdc2b320>]"
      ]
     },
     "execution_count": 8,
     "metadata": {},
     "output_type": "execute_result"
    },
    {
     "data": {
      "image/png": "[encoded data removed]",
      "text/plain": [
       "<matplotlib.figure.Figure at 0xdbad710>"
      ]
     },
     "metadata": {},
     "output_type": "display_data"
    }
   ],
   "source": [
    "obj2 = 0\n",
    "plant = -1\n",
    "v_obj=np.zeros(n)\n",
    "\n",
    "capacity = maxCap\n",
    "for i in range(0, n):\n",
    "    capacity[i] = capacity[i]+1\n",
    "    if(i > 0):\n",
    "        capacity[i-1] = capacity[i-1]-1\n",
    "    obj,x_sol=trans_opt(n,m,cost,ship,demand,maxProd,price,maxCap)\n",
    "    print(\"Objective function value for increasing capacity in plant\", i + 1, \" is \", obj)\n",
    "    v_obj[i]=obj\n",
    "    if obj2 < obj:\n",
    "        obj2 = obj\n",
    "        plant = i+1\n",
    "         \n",
    "print(\"The most beneficial increasing of maximum capacity would be in  plant:\",plant)\n",
    "plt.plot(range(1,n+1),v_obj)\n",
    "\n",
    "\n"
   ]
  },
  {
   "cell_type": "code",
   "execution_count": 10,
   "metadata": {},
   "outputs": [
    {
     "name": "stdout",
     "output_type": "stream",
     "text": [
      "('Objective function value for increasing capacity in plant', 1, ' is ', 2611.6628933132183)\n",
      "('Objective function value for increasing capacity in plant', 2, ' is ', 2612.4289860947915)\n",
      "('Objective function value for increasing capacity in plant', 3, ' is ', 2612.0995179049364)\n",
      "('Objective function value for increasing capacity in plant', 4, ' is ', 2612.407515284465)\n",
      "('Objective function value for increasing capacity in plant', 5, ' is ', 2612.8812438002506)\n",
      "('Objective function value for increasing capacity in plant', 6, ' is ', 2612.577953534656)\n",
      "('The most beneficial increasing of maximum capacity would be in  plant:', 5)\n"
     ]
    },
    {
     "data": {
      "text/plain": [
       "[<matplotlib.lines.Line2D at 0xe9ba400>]"
      ]
     },
     "execution_count": 10,
     "metadata": {},
     "output_type": "execute_result"
    },
    {
     "data": {
      "image/png": "[encoded data removed]",
      "text/plain": [
       "<matplotlib.figure.Figure at 0xdbc5ef0>"
      ]
     },
     "metadata": {},
     "output_type": "display_data"
    }
   ],
   "source": [
    "obj3 = 0\n",
    "market = -1\n",
    "v_obj2=np.zeros(m)\n",
    "\n",
    "dem = demand\n",
    "for i in range(0, m):\n",
    "    dem[i] = dem[i]+1\n",
    "    if(i > 0):\n",
    "        dem[i-1] = dem[i-1]-1\n",
    "    obj,x_sol=trans_opt(n,m,cost,ship,demand,maxProd,price,maxCap)\n",
    "    print(\"Objective function value for increasing capacity in plant\", i + 1, \" is \", obj)\n",
    "    v_obj2[i]=obj\n",
    "    if obj3 < obj:\n",
    "        obj3 = obj\n",
    "        market = i+1\n",
    "      \n",
    "print(\"The most beneficial increasing of maximum capacity would be in  plant:\", market)\n",
    "plt.plot(range(1,m+1),v_obj2)"
   ]
  },
  {
   "cell_type": "markdown",
   "metadata": {},
   "source": [
    "d) Modify the formulation in a) to impose that:\n",
    "1. (1 point) Each plant is allowed to send its products to a maximum of 5 different markets <br>\n",
    "2. (1 point) Plants, if operative, cannot produce less than 10% of their maximum capacity,\n",
    "i.e., a plant can produce either 0 products (if not operative) or a quantity greater than\n",
    "10% of its maximum capacity (if operative)."
   ]
  },
  {
   "cell_type": "markdown",
   "metadata": {},
   "source": [
    "__SOLUTION 1__\n",
    "\n",
    "By introducing the binary variable $Y_{ij}$ which takes value 1 if plant $i$ sends to market $j$ and 0 otherwise, we have to indroduce a new constraint:\n",
    "\n",
    "$$ \\sum_{j=1}^{J} Y_{ij} \\le 5 \\quad i=1,...,I \\quad $$"
   ]
  },
  {
   "cell_type": "code",
   "execution_count": 11,
   "metadata": {
    "collapsed": true
   },
   "outputs": [],
   "source": [
    "from pyomo.environ import *\n",
    "opt = SolverFactory(\"glpk\")\n",
    "from pyomo.opt import SolverFactory\n",
    "\n",
    "def trans_opt2(I,J,v,c,d,M,p,F):\n",
    "\n",
    "    model = AbstractModel()\n",
    "    model.I = RangeSet(1,I) \n",
    "    model.J = RangeSet(1,J)\n",
    "    model.b = Var(model.I,model.J, within=Binary)\n",
    "\n",
    "    # the next line declares a variable indexed by the set J \n",
    "    model.x = Var(model.I,model.J, domain=NonNegativeReals)\n",
    "\n",
    "    #definition of the objective function\n",
    "    def obj_expression(model): \n",
    "        return sum(sum(p[j-1]*model.x[i,j] for i in model.I) for j in model.J)-sum(sum(v[i-1]*model.x[i,j] for j in model.J) for i in model.I)-sum(sum(c[i-1,j-1]*model.x[i,j] for i in model.I) for j in model.J)\n",
    "    \n",
    "    model.OBJ = Objective(rule=obj_expression, sense=maximize)\n",
    "    \n",
    "    \n",
    "    #maximum flow per line\n",
    "    def flow_constraint_rule(model, i,j): # return the expression for the constraint for i\n",
    "        return model.x[i,j] <= F[i-1,j-1]\n",
    "    model.max_flow = Constraint(model.I,model.J, rule=flow_constraint_rule)\n",
    "\n",
    "    #minimum demand constraint\n",
    "    def d_constraint_rule(model, j): # return the expression for the constraint for i\n",
    "        return sum(model.x[i,j] for i in model.I) == d[j-1]\n",
    "    \n",
    "    #the next line creates one constraint for each member of the set model.J \n",
    "    model.dem_Constraint = Constraint(model.J, rule=d_constraint_rule)\n",
    "\n",
    "    #maximum production constraint\n",
    "    def M_constraint_rule(model, i): # return the expression for the constraint for i\n",
    "        return sum(model.x[i,j] for j in model.J)<= M[i-1]\n",
    "    \n",
    "    model.prod_Constraint = Constraint(model.I, rule=M_constraint_rule)\n",
    "    \n",
    "    #Binary representation maximum markets per plant\n",
    "    def max_markets_constraint_rule(model, i): # return the expression to constrain the relation between i and j\n",
    "        return sum(model.b[i,j] for j in model.J) <= 5\n",
    "    \n",
    "    model.max_markets_constraint_rule = Constraint(model.I, rule=max_markets_constraint_rule)\n",
    "    \n",
    "    #Limiting real numbers through binary model\n",
    "    def bound_constraint_rule(model,i,j): \n",
    "        return model.x[i,j] <=  model.b[i,j]*M[i-1]\n",
    "    \n",
    "    model.bound_constraint_rule = Constraint(model.I,model.J,rule=bound_constraint_rule)\n",
    "\n",
    "    instance = model.create_instance()\n",
    "    #instance = model.create()\n",
    "    #instance.dual = Suffix(direction=Suffix.IMPORT)\n",
    "    results = opt.solve(instance)\n",
    "\n",
    "    x_sol = np.zeros((I,J))\n",
    "    s_sol = np.zeros((I,J))\n",
    "    for i in range(0, I):\n",
    "            for j in range(0,J):\n",
    "                x_sol[i,j]=instance.x[i+1,j+1].value\n",
    "                s_sol[i,j]=instance.b[i+1,j+1].value\n",
    "\n",
    "    return instance.OBJ(), x_sol\n"
   ]
  },
  {
   "cell_type": "code",
   "execution_count": 12,
   "metadata": {
    "collapsed": true
   },
   "outputs": [],
   "source": [
    "obj2,x_sol2=trans_opt2(n,m,cost,ship,demand,maxProd,price,maxCap)"
   ]
  },
  {
   "cell_type": "code",
   "execution_count": 13,
   "metadata": {},
   "outputs": [
    {
     "name": "stdout",
     "output_type": "stream",
     "text": [
      "New Objective function values is:\n",
      "2612.57795353\n"
     ]
    }
   ],
   "source": [
    "print(\"New Objective function values is:\")\n",
    "print(obj2)"
   ]
  },
  {
   "cell_type": "code",
   "execution_count": 14,
   "metadata": {},
   "outputs": [
    {
     "name": "stdout",
     "output_type": "stream",
     "text": [
      "while the previous was:\n",
      "2612.57795353\n"
     ]
    }
   ],
   "source": [
    "print(\"while the previous was:\")\n",
    "print(obj)"
   ]
  },
  {
   "cell_type": "code",
   "execution_count": 15,
   "metadata": {},
   "outputs": [
    {
     "name": "stdout",
     "output_type": "stream",
     "text": [
      "New solutions are:\n",
      "[[   0.    0.    0.    0.    0.    0.]\n",
      " [   0.  276.    0.  282.    0.   48.]\n",
      " [ 256.    0.  125.    0.    0.    0.]\n",
      " [   0.    0.  199.    0.  316.  255.]\n",
      " [  48.    0.    0.    7.    0.    0.]]\n"
     ]
    }
   ],
   "source": [
    "print(\"New solutions are:\")\n",
    "print(x_sol2)"
   ]
  },
  {
   "cell_type": "code",
   "execution_count": 16,
   "metadata": {},
   "outputs": [
    {
     "name": "stdout",
     "output_type": "stream",
     "text": [
      "while the original were:\n",
      "[[   0.    0.    0.    0.    0.    0.]\n",
      " [   0.  276.    0.  282.    0.   48.]\n",
      " [ 256.    0.  125.    0.    0.    0.]\n",
      " [   0.    0.  199.    0.  316.  255.]\n",
      " [  48.    0.    0.    7.    0.    0.]]\n"
     ]
    }
   ],
   "source": [
    "print(\"while the original were:\")\n",
    "print(x_sol)"
   ]
  },
  {
   "cell_type": "markdown",
   "metadata": {},
   "source": [
    "__SOLUTION 2__\n",
    "\n",
    "By introducing the variable $O_i$ which takes the value of 1 if the plant $i$ is operative and 0 otherwise, let's add the constraint of producing at least 10% of its capacity:\n",
    "\n",
    "$$\\sum_{j=1}^{J} X_{ij} \\ge 0.1 M_i O_i\\quad i=1,...,I$$ "
   ]
  },
  {
   "cell_type": "code",
   "execution_count": 17,
   "metadata": {
    "collapsed": true
   },
   "outputs": [],
   "source": [
    "from pyomo.environ import *\n",
    "opt = SolverFactory(\"glpk\")\n",
    "from pyomo.opt import SolverFactory\n",
    "\n",
    "def trans_opt3(I,J,v,c,d,M,p,F):\n",
    "\n",
    "    model = AbstractModel()\n",
    "    model.I = RangeSet(1,I) \n",
    "    model.J = RangeSet(1,J)\n",
    "    model.b = Var(model.I,model.J, within=Binary)\n",
    "    model.b2 = Var(model.I, within=Binary)\n",
    "\n",
    "    # the next line declares a variable indexed by the set J \n",
    "    model.x = Var(model.I,model.J, domain=NonNegativeReals)\n",
    "\n",
    "    #definition of the objective function\n",
    "    def obj_expression(model): \n",
    "        return sum(sum(p[j-1]*model.x[i,j] for i in model.I) for j in model.J)-sum(sum(v[i-1]*model.x[i,j] for j in model.J) for i in model.I)-sum(sum(c[i-1,j-1]*model.x[i,j] for i in model.I) for j in model.J)\n",
    "    \n",
    "    model.OBJ = Objective(rule=obj_expression, sense=maximize)\n",
    "    \n",
    "    \n",
    "    #maximum flow per line\n",
    "    def flow_constraint_rule(model, i,j): # return the expression for the constraint for i\n",
    "        return model.x[i,j] <= F[i-1,j-1]\n",
    "    model.max_flow = Constraint(model.I,model.J, rule=flow_constraint_rule)\n",
    "\n",
    "    #minimum demand constraint\n",
    "    def d_constraint_rule(model, j): # return the expression for the constraint for i\n",
    "        return sum(model.x[i,j] for i in model.I) == d[j-1]\n",
    "    \n",
    "    #the next line creates one constraint for each member of the set model.J \n",
    "    model.dem_Constraint = Constraint(model.J, rule=d_constraint_rule)\n",
    "\n",
    "    #maximum production constraint\n",
    "    def M_constraint_rule(model, i): # return the expression for the constraint for i\n",
    "        return sum(model.x[i,j] for j in model.J)<= M[i-1]\n",
    "    \n",
    "    model.prod_Constraint = Constraint(model.I, rule=M_constraint_rule)\n",
    "    \n",
    "    #Binary representation maximum markets per plant\n",
    "    def max_markets_constraint_rule(model, i): # return the expression to constrain the relation between i and j\n",
    "        return sum(model.b[i,j] for j in model.J) <= 5\n",
    "    \n",
    "    model.max_markets_constraint_rule = Constraint(model.I, rule=max_markets_constraint_rule)\n",
    "    \n",
    "    #Limiting real numbers through binary model\n",
    "    def bound_constraint_rule(model,i,j): \n",
    "        return model.x[i,j] <=  model.b[i,j]*M[i-1]\n",
    "    \n",
    "    model.bound_constraint_rule = Constraint(model.I,model.J,rule=bound_constraint_rule)\n",
    "\n",
    "        #Lower bound production constraint\n",
    "    def production_constraint_rule(model, i): \n",
    "        return sum(model.x[i,j] for j in model.J)>= 0.1*M[i-1]*model.b2[i]\n",
    "    \n",
    "    model.production_constraint = Constraint(model.I, rule=production_constraint_rule)\n",
    "    \n",
    "    instance = model.create_instance()\n",
    "    #instance = model.create()\n",
    "    #instance.dual = Suffix(direction=Suffix.IMPORT)\n",
    "    results = opt.solve(instance)\n",
    "\n",
    "    x_sol = np.zeros((I,J))\n",
    "    s_sol = np.zeros((I,J))\n",
    "    for i in range(0, I):\n",
    "            for j in range(0,J):\n",
    "                x_sol[i,j]=instance.x[i+1,j+1].value\n",
    "                s_sol[i,j]=instance.b[i+1,j+1].value\n",
    "\n",
    "    return instance.OBJ(), x_sol\n"
   ]
  },
  {
   "cell_type": "code",
   "execution_count": 18,
   "metadata": {
    "collapsed": true
   },
   "outputs": [],
   "source": [
    "[obj3,x_sol3]=trans_opt3(n,m,cost,ship,demand,maxProd,price,maxCap)"
   ]
  },
  {
   "cell_type": "code",
   "execution_count": 19,
   "metadata": {},
   "outputs": [
    {
     "name": "stdout",
     "output_type": "stream",
     "text": [
      "New Objective function values is:\n",
      "2612.57795353\n"
     ]
    }
   ],
   "source": [
    "print(\"New Objective function values is:\")\n",
    "print(obj3)"
   ]
  },
  {
   "cell_type": "code",
   "execution_count": 20,
   "metadata": {},
   "outputs": [
    {
     "name": "stdout",
     "output_type": "stream",
     "text": [
      "while the original was:\n",
      "2612.57795353\n"
     ]
    }
   ],
   "source": [
    "print(\"while the original was:\")\n",
    "print(obj)"
   ]
  },
  {
   "cell_type": "code",
   "execution_count": 21,
   "metadata": {},
   "outputs": [
    {
     "name": "stdout",
     "output_type": "stream",
     "text": [
      "New solutions are:\n",
      "[[   0.    0.    0.    0.    0.    0.]\n",
      " [   0.  276.    0.  282.    0.   48.]\n",
      " [ 256.    0.  125.    0.    0.    0.]\n",
      " [   0.    0.  199.    0.  316.  255.]\n",
      " [  48.    0.    0.    7.    0.    0.]]\n"
     ]
    }
   ],
   "source": [
    "print(\"New solutions are:\")\n",
    "print(x_sol3)"
   ]
  },
  {
   "cell_type": "code",
   "execution_count": 22,
   "metadata": {},
   "outputs": [
    {
     "name": "stdout",
     "output_type": "stream",
     "text": [
      "while the original were:\n",
      "[[   0.    0.    0.    0.    0.    0.]\n",
      " [   0.  276.    0.  282.    0.   48.]\n",
      " [ 256.    0.  125.    0.    0.    0.]\n",
      " [   0.    0.  199.    0.  316.  255.]\n",
      " [  48.    0.    0.    7.    0.    0.]]\n"
     ]
    }
   ],
   "source": [
    "print(\"while the original were:\")\n",
    "print(x_sol)"
   ]
  }
 ],
 "metadata": {
  "kernelspec": {
   "display_name": "Python 2",
   "language": "python",
   "name": "python2"
  },
  "language_info": {
   "codemirror_mode": {
    "name": "ipython",
    "version": 2
   },
   "file_extension": ".py",
   "mimetype": "text/x-python",
   "name": "python",
   "nbconvert_exporter": "python",
   "pygments_lexer": "ipython2",
   "version": "2.7.14"
  }
 },
 "nbformat": 4,
 "nbformat_minor": 2
}
